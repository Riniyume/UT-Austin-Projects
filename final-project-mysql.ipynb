{
 "cells": [
  {
   "cell_type": "code",
   "execution_count": 1,
   "id": "85035440-c262-44c0-8680-c8a91a58b895",
   "metadata": {},
   "outputs": [],
   "source": [
    "HOST=\"10.100.32.3\"\n",
    "USER =\"root\"\n",
    "PW=\"Pokemon01\"\n",
    "DB=\"final_project\""
   ]
  },
  {
   "cell_type": "code",
   "execution_count": 2,
   "id": "f5a867b3-1e66-417f-907e-61d50447ea83",
   "metadata": {},
   "outputs": [
    {
     "name": "stdout",
     "output_type": "stream",
     "text": [
      "Requirement already satisfied: mysql-connector-python in /opt/conda/lib/python3.10/site-packages (8.2.0)\n",
      "Requirement already satisfied: protobuf<=4.21.12,>=4.21.1 in /opt/conda/lib/python3.10/site-packages (from mysql-connector-python) (4.21.12)\n"
     ]
    }
   ],
   "source": [
    "!pip install mysql-connector-python"
   ]
  },
  {
   "cell_type": "code",
   "execution_count": 3,
   "id": "6acd4fb2-9198-408c-bbd9-9f703a608452",
   "metadata": {},
   "outputs": [],
   "source": [
    "import mysql.connector\n",
    "\n",
    "def connect():\n",
    "    connection = mysql.connector.connect(\n",
    "    host=HOST,\n",
    "    user=USER,\n",
    "    password=PW,\n",
    "    database=DB,\n",
    "    autocommit=False)\n",
    "    \n",
    "    return connection"
   ]
  },
  {
   "cell_type": "code",
   "execution_count": 4,
   "id": "e4ea059a-8b80-4059-8197-40e269cb88b1",
   "metadata": {},
   "outputs": [
    {
     "name": "stdout",
     "output_type": "stream",
     "text": [
      "<mysql.connector.connection_cext.CMySQLConnection object at 0x7f1f4da68610>\n"
     ]
    }
   ],
   "source": [
    "import mysql.connector\n",
    "\n",
    "connection = connect()\n",
    "\n",
    "print(connection)"
   ]
  },
  {
   "cell_type": "code",
   "execution_count": 5,
   "id": "6685be6e-e48d-49d4-a487-bac74187d6db",
   "metadata": {},
   "outputs": [
    {
     "name": "stdout",
     "output_type": "stream",
     "text": [
      "<mysql.connector.connection_cext.CMySQLConnection object at 0x7f1f4c8165f0>\n",
      "DROP TABLE IF EXISTS person\n",
      "CREATE TABLE person(\n",
      "    id MEDIUMINT NOT NULL AUTO_INCREMENT,\n",
      "    first_name VARCHAR(20) NOT NULL,\n",
      "    last_name VARCHAR(23) NOT NULL,\n",
      "    company VARCHAR(40) NOT NULL, \n",
      "    address VARCHAR(41) NOT NULL,\n",
      "    city VARCHAR(29) NOT NULL,\n",
      "    county VARCHAR(30) NOT NULL, \n",
      "    state CHAR(2)NOT NULL, \n",
      "    zip CHAR(5) NOT NULL,\n",
      "    phone_1 CHAR(12) NOT NULL,\n",
      "    phone_2 CHAR(12)NOT NULL,\n",
      "    email VARCHAR(44) NOT NULL,\n",
      "    web VARCHAR(52) NOT NULL, \n",
      "    PRIMARY KEY  (id)\n",
      ") \n",
      "Dropped person table\n",
      "Created person table\n"
     ]
    }
   ],
   "source": [
    "import mysql.connector\n",
    "\n",
    "connection = connect()\n",
    "print(connection)\n",
    "\n",
    "drop = 'DROP TABLE IF EXISTS person'\n",
    "\n",
    "create = '''CREATE TABLE person(\n",
    "    id MEDIUMINT NOT NULL AUTO_INCREMENT,\n",
    "    first_name VARCHAR(20) NOT NULL,\n",
    "    last_name VARCHAR(23) NOT NULL,\n",
    "    company VARCHAR(40) NOT NULL, \n",
    "    address VARCHAR(41) NOT NULL,\n",
    "    city VARCHAR(29) NOT NULL,\n",
    "    county VARCHAR(30) NOT NULL, \n",
    "    state CHAR(2)NOT NULL, \n",
    "    zip CHAR(5) NOT NULL,\n",
    "    phone_1 CHAR(12) NOT NULL,\n",
    "    phone_2 CHAR(12)NOT NULL,\n",
    "    email VARCHAR(44) NOT NULL,\n",
    "    web VARCHAR(52) NOT NULL, \n",
    "    PRIMARY KEY  (id)\n",
    ") '''\n",
    "\n",
    "print(drop)\n",
    "print(create)\n",
    "\n",
    "try:\n",
    "    cursor = connection.cursor()\n",
    "    cursor.execute(drop)\n",
    "    print('Dropped person table')\n",
    "    \n",
    "    cursor = connection.cursor()\n",
    "    cursor.execute(create)\n",
    "    print('Created person table')\n",
    "except Exception as e:\n",
    "    print(\"Error occurred while creating person table:\", e)"
   ]
  },
  {
   "cell_type": "code",
   "execution_count": 6,
   "id": "2b17ddbc-cb9c-46fa-8c08-afcbc7f1027d",
   "metadata": {},
   "outputs": [
    {
     "name": "stdout",
     "output_type": "stream",
     "text": [
      "<mysql.connector.connection_cext.CMySQLConnection object at 0x7f1f4c8174f0>\n",
      "DROP TABLE IF EXISTS person\n",
      "CREATE TABLE person(\n",
      "    id MEDIUMINT NOT NULL AUTO_INCREMENT,\n",
      "    first_name VARCHAR(20) NOT NULL,\n",
      "    last_name VARCHAR(23) NOT NULL,\n",
      "    company VARCHAR(40) NOT NULL, \n",
      "    address VARCHAR(41) NOT NULL,\n",
      "    city VARCHAR(29) NOT NULL,\n",
      "    county VARCHAR(30) NOT NULL, \n",
      "    state CHAR(2)NOT NULL, \n",
      "    zip CHAR(5) NOT NULL,\n",
      "    phone_1 CHAR(12) NOT NULL,\n",
      "    phone_2 CHAR(12)NOT NULL,\n",
      "    email VARCHAR(44) NOT NULL,\n",
      "    web VARCHAR(52) NOT NULL, \n",
      "    PRIMARY KEY  (id)\n",
      ") \n",
      "Dropped person table\n",
      "Created person table\n"
     ]
    }
   ],
   "source": [
    "#diff from code sample but from code sample\n",
    "import mysql.connector\n",
    "\n",
    "connection = connect()\n",
    "print(connection)\n",
    "\n",
    "drop = 'DROP TABLE IF EXISTS person'\n",
    "\n",
    "create = '''CREATE TABLE person(\n",
    "    id MEDIUMINT NOT NULL AUTO_INCREMENT,\n",
    "    first_name VARCHAR(20) NOT NULL,\n",
    "    last_name VARCHAR(23) NOT NULL,\n",
    "    company VARCHAR(40) NOT NULL, \n",
    "    address VARCHAR(41) NOT NULL,\n",
    "    city VARCHAR(29) NOT NULL,\n",
    "    county VARCHAR(30) NOT NULL, \n",
    "    state CHAR(2)NOT NULL, \n",
    "    zip CHAR(5) NOT NULL,\n",
    "    phone_1 CHAR(12) NOT NULL,\n",
    "    phone_2 CHAR(12)NOT NULL,\n",
    "    email VARCHAR(44) NOT NULL,\n",
    "    web VARCHAR(52) NOT NULL, \n",
    "    PRIMARY KEY  (id)\n",
    ") '''\n",
    "\n",
    "print(drop)\n",
    "print(create)\n",
    "\n",
    "try:\n",
    "    cursor = connection.cursor()\n",
    "    cursor.execute(drop)\n",
    "    print('Dropped person table')\n",
    "    \n",
    "    cursor = connection.cursor()\n",
    "    cursor.execute(create)\n",
    "    print('Created person table')\n",
    "except Exception as e:\n",
    "    print(\"Error occurred while creating person table:\", e)"
   ]
  },
  {
   "cell_type": "code",
   "execution_count": 7,
   "id": "1bfa7f40-129d-4d32-a603-060c2263efa9",
   "metadata": {},
   "outputs": [
    {
     "name": "stdout",
     "output_type": "stream",
     "text": [
      "<mysql.connector.connection_cext.CMySQLConnection object at 0x7f1f4c8156c0>\n",
      "Wrote 3 records into person table\n"
     ]
    }
   ],
   "source": [
    "import mysql.connector\n",
    "\n",
    "connection = connect()\n",
    "print(connection)\n",
    "\n",
    "sql = \"INSERT INTO person (first_name, last_name, company, address, city, county, state, zip, phone_1, phone_2, email, web)\\\n",
    " \t  VALUES (%s, %s, %s, %s, %s, %s, %s, %s, %s, %s, %s, %s)\"\n",
    "rec1 = (\"James\",\"Butt\",\"Benton, John B Jr\",\"6649 N Blue Gum St\",\\\n",
    "\t   \"New Orleans\",\"Orleans\",\"LA\",\"70116\",\"504-621-8927\",\"504-845-1427\",\"jbutt@gmail.com\",\"http://www.bentonjohnbjr.com\")\n",
    "rec2 = (\"Josephine\",\"Darakjy\",\"Chanay, Jeffrey A Esq\",\\\n",
    "\t   \"4 B Blue Ridge Blvd\",\"Brighton\",\"Livingston\",\"MI\",\"48116\",\"810-292-9388\",\"810-374-9840\",\"josephine_darakjy@darakjy.org\",\"http://www.chanayjeffreyaesq.com\")\n",
    "rec3 = (\"Art\",\"Venere\",\"Chemel, James L Cpa\",\"8 W Cerritos Ave\\\n",
    "\t   #54\",\"Bridgeport\",\"Gloucester\",\"NJ\",\"08014\",\"856-636-8749\",\"856-264-4130\",\"art@venere.org\",\"http://www.chemeljameslcpa.com\")\n",
    "records = [rec1, rec2, rec3]\n",
    "\n",
    "try:\n",
    "    cursor = connection.cursor()\n",
    "    cursor.executemany(sql, records)\n",
    "    connection.commit()\n",
    "    print('Wrote 3 records into person table')\n",
    "    cursor.close()\n",
    "except Exception as e:\n",
    "    print(\"Error occurred while writing records:\", e)"
   ]
  },
  {
   "cell_type": "markdown",
   "id": "ef3f2a60-1264-4952-a918-aac6d53ecda0",
   "metadata": {},
   "source": [
    "# Create a database in MySQL with a table by the name of shopper. "
   ]
  },
  {
   "cell_type": "markdown",
   "id": "e673133e-a836-4b89-993b-bb341b4163fb",
   "metadata": {},
   "source": [
    "# Write a data generator that populates the shopper table with 50 unique records. Your code should produce the following output: 50 records written into shopper table"
   ]
  },
  {
   "cell_type": "code",
   "execution_count": 8,
   "id": "944a8ca3-6a5c-4259-82f7-5026f51067e0",
   "metadata": {},
   "outputs": [
    {
     "name": "stdout",
     "output_type": "stream",
     "text": [
      "<mysql.connector.connection_cext.CMySQLConnection object at 0x7f1f4c816110>\n",
      "DROP TABLE IF EXISTS shopper\n",
      "CREATE TABLE shopper(\n",
      "    cust_id VARCHAR(50) NOT NULL,\n",
      "    first_name VARCHAR(20) NOT NULL,\n",
      "    last_name VARCHAR(23) NOT NULL,\n",
      "    company VARCHAR(40) NOT NULL, \n",
      "    street_1 VARCHAR(41) NOT NULL,\n",
      "    street_2 VARCHAR(41) NOT NULL,\n",
      "    city VARCHAR(29) NOT NULL,\n",
      "    county VARCHAR(30) NOT NULL, \n",
      "    state CHAR(20)NOT NULL, \n",
      "    zip CHAR(20) NOT NULL,\n",
      "    phone_1 CHAR(100) NOT NULL,\n",
      "    phone_2 CHAR(100) NOT NULL,\n",
      "    email VARCHAR(44) NOT NULL, \n",
      "    PRIMARY KEY  (cust_id)\n",
      ") \n",
      "Dropped shopper table\n",
      "Created shopper table\n"
     ]
    }
   ],
   "source": [
    "import mysql.connector\n",
    "\n",
    "connection = connect()\n",
    "print(connection)\n",
    "\n",
    "drop = 'DROP TABLE IF EXISTS shopper'\n",
    "\n",
    "create = '''CREATE TABLE shopper(\n",
    "    cust_id VARCHAR(50) NOT NULL,\n",
    "    first_name VARCHAR(20) NOT NULL,\n",
    "    last_name VARCHAR(23) NOT NULL,\n",
    "    company VARCHAR(40) NOT NULL, \n",
    "    street_1 VARCHAR(41) NOT NULL,\n",
    "    street_2 VARCHAR(41) NOT NULL,\n",
    "    city VARCHAR(29) NOT NULL,\n",
    "    county VARCHAR(30) NOT NULL, \n",
    "    state CHAR(20)NOT NULL, \n",
    "    zip CHAR(20) NOT NULL,\n",
    "    phone_1 CHAR(100) NOT NULL,\n",
    "    phone_2 CHAR(100) NOT NULL,\n",
    "    email VARCHAR(44) NOT NULL, \n",
    "    PRIMARY KEY  (cust_id)\n",
    ") '''\n",
    "\n",
    "print(drop)\n",
    "print(create)\n",
    "\n",
    "try:\n",
    "    cursor = connection.cursor()\n",
    "    cursor.execute(drop)\n",
    "    print('Dropped shopper table')\n",
    "    \n",
    "    cursor = connection.cursor()\n",
    "    cursor.execute(create)\n",
    "    print('Created shopper table')\n",
    "except Exception as e:\n",
    "    print(\"Error occurred while creating shopper table:\", e)"
   ]
  },
  {
   "cell_type": "code",
   "execution_count": 9,
   "id": "c5c3c943-627a-4160-a2a0-590c7b71e444",
   "metadata": {},
   "outputs": [
    {
     "name": "stdout",
     "output_type": "stream",
     "text": [
      "Requirement already satisfied: Faker in /opt/conda/lib/python3.10/site-packages (20.0.3)\n",
      "Requirement already satisfied: python-dateutil>=2.4 in /opt/conda/lib/python3.10/site-packages (from Faker) (2.8.2)\n",
      "Requirement already satisfied: six>=1.5 in /opt/conda/lib/python3.10/site-packages (from python-dateutil>=2.4->Faker) (1.16.0)\n"
     ]
    }
   ],
   "source": [
    "#library helps us generate fake data \n",
    "!pip install Faker"
   ]
  },
  {
   "cell_type": "code",
   "execution_count": 10,
   "id": "0bff008f-6d0b-4e50-94e2-f14b2c8affe5",
   "metadata": {},
   "outputs": [
    {
     "name": "stdout",
     "output_type": "stream",
     "text": [
      "<mysql.connector.connection_cext.CMySQLConnection object at 0x7f1f4c861540>\n",
      "Wrote 50 records into shopper table\n"
     ]
    }
   ],
   "source": [
    "import mysql.connector\n",
    "from faker import Faker\n",
    "\n",
    "\n",
    "connection = connect()\n",
    "print(connection)\n",
    "\n",
    "fake = Faker()\n",
    "Faker.seed(30)\n",
    "\n",
    "sql = \"INSERT INTO shopper (cust_id, first_name, last_name, company, street_1, street_2, city, county, state, zip, phone_1, phone_2, email)\\\n",
    " \t  VALUES (%s, %s, %s, %s, %s, %s, %s, %s, %s, %s, %s, %s, %s)\"\n",
    "records = []\n",
    "\n",
    "for i in range(0, 50):\n",
    "\n",
    "    a = fake.address()\n",
    "    street1 = \"\"\n",
    "    street2 = \"\"\n",
    "    \n",
    "    if \"PO\" in a:\n",
    "        if \"Box\" in a.split():\n",
    "            a = a.split(\"\\n\")  #trying to get box which splits first and second line\n",
    "            b = a[0].split(\"Box \") #splits first and second box (can't include comma bc might be a unit)\n",
    "            if b[0].find(\", Box\"):\n",
    "                street1 = b[0].rstrip(\", \")\n",
    "            else: \n",
    "                street1 = b[0]\n",
    "            street2 = 'Box ' + b[1] #box number should go in street2\n",
    "            rest = a[1].split()\n",
    "            city = rest[0] #either be FPO/APO \n",
    "            state = rest[1] #either AE, AP, AA\n",
    "            zip_code = rest[2] #5 digit zip code. \n",
    "            info = (street1, street2, city, state, zip_code)\n",
    "            \n",
    "            \n",
    "        \n",
    "        if a[0].find('Box') == -1:\n",
    "            a = a.split(\"\\n\")\n",
    "            street1 = a[0]\n",
    "            b = a[1].split()\n",
    "            city = b[0]\n",
    "            state = b[1]\n",
    "            zip_code = b[2]\n",
    "            info = (street1, street2, city, state, zip_code)\n",
    "            \n",
    "            \n",
    "            \n",
    "\n",
    "\n",
    "    else: \n",
    "        b = a.split(', ') #parsing thru state: finds us STATE & zip code) \n",
    "        state_and_zip = b[1].split(' ') #state_and_zip[0] = state; state_and_zip[1] = zipcode\n",
    "        state = state_and_zip[0]\n",
    "        zip_code = state_and_zip[1] \n",
    "\n",
    "        c = a.split('\\n') #finding city, c[1] gives us both street1 and street2\n",
    "        d = c[1].split(', ')\n",
    "        city = d[0]\n",
    "        e = []\n",
    "        street = c[0]\n",
    "        street1 = street\n",
    "        street2 = \"\"\n",
    "\n",
    "\n",
    "        if \"Apt\" in street:\n",
    "            e = street.split(\"Apt. \")\n",
    "            street1 = e[0]\n",
    "            street2 = 'Apt. ' + e[1]\n",
    "        elif \"Suite\" in street:\n",
    "            e = street.split(\"Suite \")\n",
    "            street1 = e[0]\n",
    "            street2 = 'Suite ' + e[1]\n",
    "        else: \n",
    "            street2 = \"\"\n",
    "\n",
    "        info = (street1, street2, city, state, zip_code)\n",
    "        \n",
    "    adr_line_1 = street1\n",
    "    postal_cd = zip_code\n",
    "    cust_id = str(fake.uuid4())\n",
    "    \n",
    "    \n",
    "    rec = (cust_id, fake.name().split()[0],fake.name().split()[1], fake.company(), adr_line_1.rstrip(), street2, city, fake.city(), state, postal_cd, fake.phone_number(), fake.phone_number(), fake.simple_profile()[\"mail\"])\n",
    "    records.append(rec)\n",
    "\n",
    "try:\n",
    "    cursor = connection.cursor()\n",
    "    cursor.executemany(sql, records)\n",
    "    connection.commit()\n",
    "    print('Wrote 50 records into shopper table')\n",
    "    cursor.close()\n",
    "except Exception as e:\n",
    "    print(\"Error occurred while writing records:\", e)\n"
   ]
  }
 ],
 "metadata": {
  "environment": {
   "kernel": "python3",
   "name": "common-cpu.m111",
   "type": "gcloud",
   "uri": "gcr.io/deeplearning-platform-release/base-cpu:m111"
  },
  "kernelspec": {
   "display_name": "Python 3",
   "language": "python",
   "name": "python3"
  },
  "language_info": {
   "codemirror_mode": {
    "name": "ipython",
    "version": 3
   },
   "file_extension": ".py",
   "mimetype": "text/x-python",
   "name": "python",
   "nbconvert_exporter": "python",
   "pygments_lexer": "ipython3",
   "version": "3.10.12"
  }
 },
 "nbformat": 4,
 "nbformat_minor": 5
}
