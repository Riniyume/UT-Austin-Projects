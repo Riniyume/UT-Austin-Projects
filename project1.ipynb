{
 "cells": [
  {
   "cell_type": "code",
   "execution_count": 1,
   "id": "bd0278c2-3211-42ee-80d1-5302c0c7c235",
   "metadata": {},
   "outputs": [
    {
     "name": "stdout",
     "output_type": "stream",
     "text": [
      "env: INSTANCE=mysql\n"
     ]
    }
   ],
   "source": [
    "%env INSTANCE=mysql"
   ]
  },
  {
   "cell_type": "code",
   "execution_count": 2,
   "id": "dfa177e7-8a8e-41db-b859-401b3a9219de",
   "metadata": {},
   "outputs": [
    {
     "name": "stdout",
     "output_type": "stream",
     "text": [
      "Copying gs://cs327e-open-access/sakila.zip...\n",
      "/ [1 files][786.4 KiB/786.4 KiB]                                                \n",
      "Operation completed over 1 objects/786.4 KiB.                                    \n"
     ]
    }
   ],
   "source": [
    "# download Sakila zip file and unzip it (unzipped it in the terminal)\n",
    "!gsutil cp gs://cs327e-open-access/sakila.zip ."
   ]
  },
  {
   "cell_type": "code",
   "execution_count": 3,
   "id": "3d1a3099-c421-4390-9a69-3dc879de9ed4",
   "metadata": {},
   "outputs": [],
   "source": [
    "# unzip the sakila file\n",
    "# already did it in the terminal \n",
    "# !unzip sakila.zip"
   ]
  },
  {
   "cell_type": "code",
   "execution_count": 4,
   "id": "1fa3d9b8-46fa-444a-a431-5ebca6fcfbd5",
   "metadata": {},
   "outputs": [],
   "source": [
    "# Create the sakila database and database objects by running \"sakila-database.sql.\"\n",
    "!mysql < /home/jupyter/sakila/sakila-database.sql"
   ]
  },
  {
   "cell_type": "code",
   "execution_count": 5,
   "id": "dcb31142-b294-446d-a498-2a1e1a9f0fab",
   "metadata": {},
   "outputs": [],
   "source": [
    "# Populate the tables by running \"sakila-data.sql\" \n",
    "!mysql < /home/jupyter/sakila/sakila-data.sql"
   ]
  },
  {
   "cell_type": "code",
   "execution_count": 6,
   "id": "60cdb5b5-550c-4d0c-8275-a37ff0f4a18d",
   "metadata": {},
   "outputs": [
    {
     "name": "stdout",
     "output_type": "stream",
     "text": [
      "+----------------------------+\n",
      "| Tables_in_sakila           |\n",
      "+----------------------------+\n",
      "| actor                      |\n",
      "| actor_info                 |\n",
      "| address                    |\n",
      "| category                   |\n",
      "| city                       |\n",
      "| country                    |\n",
      "| customer                   |\n",
      "| customer_list              |\n",
      "| film                       |\n",
      "| film_actor                 |\n",
      "| film_category              |\n",
      "| film_list                  |\n",
      "| film_text                  |\n",
      "| inventory                  |\n",
      "| language                   |\n",
      "| nicer_but_slower_film_list |\n",
      "| payment                    |\n",
      "| rental                     |\n",
      "| sales_by_film_category     |\n",
      "| sales_by_store             |\n",
      "| staff                      |\n",
      "| staff_list                 |\n",
      "| store                      |\n",
      "+----------------------------+\n"
     ]
    }
   ],
   "source": [
    "!mysql sakila -e \"show tables\""
   ]
  },
  {
   "cell_type": "markdown",
   "id": "670d0acb-300b-4406-b99a-24239364e4e9",
   "metadata": {
    "tags": []
   },
   "source": [
    "#### Get a row count for actor, address, city, country, and customer tables"
   ]
  },
  {
   "cell_type": "code",
   "execution_count": 7,
   "id": "3663ac3c-e5d9-469b-9517-e4b403c8bf18",
   "metadata": {},
   "outputs": [
    {
     "name": "stdout",
     "output_type": "stream",
     "text": [
      "+----------+\n",
      "| count(*) |\n",
      "+----------+\n",
      "|      200 |\n",
      "+----------+\n"
     ]
    }
   ],
   "source": [
    "!mysql sakila -e \"select count(*) from actor\""
   ]
  },
  {
   "cell_type": "code",
   "execution_count": 8,
   "id": "1019efdd-a419-433e-8de5-0ef1fe49fbd8",
   "metadata": {},
   "outputs": [
    {
     "name": "stdout",
     "output_type": "stream",
     "text": [
      "+----------+\n",
      "| count(*) |\n",
      "+----------+\n",
      "|      603 |\n",
      "+----------+\n"
     ]
    }
   ],
   "source": [
    "!mysql sakila -e \"select count(*) from address\""
   ]
  },
  {
   "cell_type": "code",
   "execution_count": 9,
   "id": "6b230714-7500-4e03-8fd0-3b80416f7cd8",
   "metadata": {},
   "outputs": [
    {
     "name": "stdout",
     "output_type": "stream",
     "text": [
      "+----------+\n",
      "| count(*) |\n",
      "+----------+\n",
      "|      600 |\n",
      "+----------+\n"
     ]
    }
   ],
   "source": [
    "!mysql sakila -e \"select count(*) from city\""
   ]
  },
  {
   "cell_type": "code",
   "execution_count": 10,
   "id": "d8086de2-78b5-4b6d-8f29-b864611f1051",
   "metadata": {},
   "outputs": [
    {
     "name": "stdout",
     "output_type": "stream",
     "text": [
      "+----------+\n",
      "| count(*) |\n",
      "+----------+\n",
      "|      109 |\n",
      "+----------+\n"
     ]
    }
   ],
   "source": [
    "!mysql sakila -e \"select count(*) from country\""
   ]
  },
  {
   "cell_type": "code",
   "execution_count": 11,
   "id": "5959f7e0-f6a5-4de0-b0c8-a1c920c92854",
   "metadata": {},
   "outputs": [
    {
     "name": "stdout",
     "output_type": "stream",
     "text": [
      "+----------+\n",
      "| count(*) |\n",
      "+----------+\n",
      "|      599 |\n",
      "+----------+\n"
     ]
    }
   ],
   "source": [
    "!mysql sakila -e \"select count(*) from customer\""
   ]
  },
  {
   "cell_type": "markdown",
   "id": "6a866696-47f3-4f01-8773-8ef59154de6c",
   "metadata": {},
   "source": [
    "#### Write a query to sample a few records from actor, address, city, country, and customer tables using the LIMIT clause"
   ]
  },
  {
   "cell_type": "code",
   "execution_count": 12,
   "id": "4a504dcf-436f-4dcd-91e9-5f9797f9286c",
   "metadata": {},
   "outputs": [
    {
     "name": "stdout",
     "output_type": "stream",
     "text": [
      "+----------+------------+--------------+---------------------+\n",
      "| actor_id | first_name | last_name    | last_update         |\n",
      "+----------+------------+--------------+---------------------+\n",
      "|        1 | PENELOPE   | GUINESS      | 2006-02-15 04:34:33 |\n",
      "|        2 | NICK       | WAHLBERG     | 2006-02-15 04:34:33 |\n",
      "|        3 | ED         | CHASE        | 2006-02-15 04:34:33 |\n",
      "|        4 | JENNIFER   | DAVIS        | 2006-02-15 04:34:33 |\n",
      "|        5 | JOHNNY     | LOLLOBRIGIDA | 2006-02-15 04:34:33 |\n",
      "+----------+------------+--------------+---------------------+\n"
     ]
    }
   ],
   "source": [
    "!mysql sakila -e \"select * from actor limit 5\""
   ]
  },
  {
   "cell_type": "code",
   "execution_count": 13,
   "id": "b1279bca-c5e7-4eed-be95-9261f43eae08",
   "metadata": {},
   "outputs": [
    {
     "name": "stdout",
     "output_type": "stream",
     "text": [
      "+------------+----------------------+----------+----------+---------+-------------+-------------+---------------------------+---------------------+\n",
      "| address_id | address              | address2 | district | city_id | postal_code | phone       | location                  | last_update         |\n",
      "+------------+----------------------+----------+----------+---------+-------------+-------------+---------------------------+---------------------+\n",
      "|          1 | 47 MySakila Drive    | NULL     | Alberta  |     300 |             |             |     \u0001\u0001   >\n",
      "2]c4\\�v\u001fۍ��H@     | 2014-09-25 22:30:27 |\n",
      "|          2 | 28 MySQL Boulevard   | NULL     | QLD      |     576 |             |             |     \u0001\u0001   �\u0010�߁$c@N��P\"�;�        | 2014-09-25 22:30:09 |\n",
      "|          3 | 23 Workhaven Lane    | NULL     | Alberta  |     300 |             | 14033335568 |     \u0001\u0001   ��\u0019hc4\\�\u001d",
      "�~p��H@       | 2014-09-25 22:30:27 |\n",
      "�4\u001f&c@B֮d\"�;�     | 2014-09-25 22:30:09 |L     | QLD      |     576 |             | 6172235589  |     \u0001\u0001   [\n",
      "|          5 | 1913 Hanoi Way       |          | Nagasaki |     463 | 35200       | 28303384290 |     \u0001\u0001   (�7\u000e!7`@����_�@@       | 2014-09-25 22:31:53 |\n",
      "+------------+----------------------+----------+----------+---------+-------------+-------------+---------------------------+---------------------+\n"
     ]
    }
   ],
   "source": [
    "!mysql sakila -e \"select * from address limit 5\""
   ]
  },
  {
   "cell_type": "code",
   "execution_count": 14,
   "id": "5a0c8df6-eb43-4038-9219-b6fdb06ccb7b",
   "metadata": {},
   "outputs": [
    {
     "name": "stdout",
     "output_type": "stream",
     "text": [
      "+---------+--------------------+------------+---------------------+\n",
      "| city_id | city               | country_id | last_update         |\n",
      "+---------+--------------------+------------+---------------------+\n",
      "|       1 | A Corua (La Corua) |         87 | 2006-02-15 04:45:25 |\n",
      "|       2 | Abha               |         82 | 2006-02-15 04:45:25 |\n",
      "|       3 | Abu Dhabi          |        101 | 2006-02-15 04:45:25 |\n",
      "|       4 | Acua               |         60 | 2006-02-15 04:45:25 |\n",
      "|       5 | Adana              |         97 | 2006-02-15 04:45:25 |\n",
      "+---------+--------------------+------------+---------------------+\n"
     ]
    }
   ],
   "source": [
    "!mysql sakila -e \"select * from city limit 5\""
   ]
  },
  {
   "cell_type": "code",
   "execution_count": 15,
   "id": "909a8174-fa38-4a1d-9a47-99bebf0c0681",
   "metadata": {},
   "outputs": [
    {
     "name": "stdout",
     "output_type": "stream",
     "text": [
      "+------------+----------------+---------------------+\n",
      "| country_id | country        | last_update         |\n",
      "+------------+----------------+---------------------+\n",
      "|          1 | Afghanistan    | 2006-02-15 04:44:00 |\n",
      "|          2 | Algeria        | 2006-02-15 04:44:00 |\n",
      "|          3 | American Samoa | 2006-02-15 04:44:00 |\n",
      "|          4 | Angola         | 2006-02-15 04:44:00 |\n",
      "|          5 | Anguilla       | 2006-02-15 04:44:00 |\n",
      "+------------+----------------+---------------------+\n"
     ]
    }
   ],
   "source": [
    "!mysql sakila -e \"select * from country limit 5\""
   ]
  },
  {
   "cell_type": "code",
   "execution_count": 16,
   "id": "2efce089-6095-4e49-984b-5c820159a1f3",
   "metadata": {},
   "outputs": [
    {
     "name": "stdout",
     "output_type": "stream",
     "text": [
      "+-------------+----------+------------+-----------+-------------------------------------+------------+--------+---------------------+---------------------+\n",
      "| customer_id | store_id | first_name | last_name | email                               | address_id | active | create_date         | last_update         |\n",
      "+-------------+----------+------------+-----------+-------------------------------------+------------+--------+---------------------+---------------------+\n",
      "|           1 |        1 | MARY       | SMITH     | MARY.SMITH@sakilacustomer.org       |          5 |      1 | 2006-02-14 22:04:36 | 2006-02-15 04:57:20 |\n",
      "|           2 |        1 | PATRICIA   | JOHNSON   | PATRICIA.JOHNSON@sakilacustomer.org |          6 |      1 | 2006-02-14 22:04:36 | 2006-02-15 04:57:20 |\n",
      "|           3 |        1 | LINDA      | WILLIAMS  | LINDA.WILLIAMS@sakilacustomer.org   |          7 |      1 | 2006-02-14 22:04:36 | 2006-02-15 04:57:20 |\n",
      "|           4 |        2 | BARBARA    | JONES     | BARBARA.JONES@sakilacustomer.org    |          8 |      1 | 2006-02-14 22:04:36 | 2006-02-15 04:57:20 |\n",
      "|           5 |        1 | ELIZABETH  | BROWN     | ELIZABETH.BROWN@sakilacustomer.org  |          9 |      1 | 2006-02-14 22:04:36 | 2006-02-15 04:57:20 |\n",
      "+-------------+----------+------------+-----------+-------------------------------------+------------+--------+---------------------+---------------------+\n"
     ]
    }
   ],
   "source": [
    "!mysql sakila -e \"select * from customer limit 5\""
   ]
  },
  {
   "cell_type": "markdown",
   "id": "e3434ed5-8622-421f-95be-8ffa4fec487c",
   "metadata": {},
   "source": [
    "#### Write one query on ANY table that uses both a WHERE clause and ORDER BY clause"
   ]
  },
  {
   "cell_type": "code",
   "execution_count": 17,
   "id": "ad15f018-0e8d-4fbe-b1a2-aac70aee44de",
   "metadata": {},
   "outputs": [
    {
     "name": "stdout",
     "output_type": "stream",
     "text": [
      "+---------+-------------+---------------------+\n",
      "| film_id | category_id | last_update         |\n",
      "+---------+-------------+---------------------+\n",
      "|       7 |           5 | 2006-02-15 05:07:09 |\n",
      "|      28 |           5 | 2006-02-15 05:07:09 |\n",
      "|      99 |           5 | 2006-02-15 05:07:09 |\n",
      "|     119 |           5 | 2006-02-15 05:07:09 |\n",
      "|     127 |           5 | 2006-02-15 05:07:09 |\n",
      "|     159 |           5 | 2006-02-15 05:07:09 |\n",
      "|     178 |           5 | 2006-02-15 05:07:09 |\n",
      "|     182 |           5 | 2006-02-15 05:07:09 |\n",
      "|     188 |           5 | 2006-02-15 05:07:09 |\n",
      "|     202 |           5 | 2006-02-15 05:07:09 |\n",
      "|     242 |           5 | 2006-02-15 05:07:09 |\n",
      "|     247 |           5 | 2006-02-15 05:07:09 |\n",
      "|     265 |           5 | 2006-02-15 05:07:09 |\n",
      "|     276 |           5 | 2006-02-15 05:07:09 |\n",
      "|     308 |           5 | 2006-02-15 05:07:09 |\n",
      "|     317 |           5 | 2006-02-15 05:07:09 |\n",
      "|     324 |           5 | 2006-02-15 05:07:09 |\n",
      "|     332 |           5 | 2006-02-15 05:07:09 |\n",
      "|     335 |           5 | 2006-02-15 05:07:09 |\n",
      "|     365 |           5 | 2006-02-15 05:07:09 |\n",
      "|     385 |           5 | 2006-02-15 05:07:09 |\n",
      "|     388 |           5 | 2006-02-15 05:07:09 |\n",
      "|     404 |           5 | 2006-02-15 05:07:09 |\n",
      "|     410 |           5 | 2006-02-15 05:07:09 |\n",
      "|     413 |           5 | 2006-02-15 05:07:09 |\n",
      "|     443 |           5 | 2006-02-15 05:07:09 |\n",
      "|     444 |           5 | 2006-02-15 05:07:09 |\n",
      "|     478 |           5 | 2006-02-15 05:07:09 |\n",
      "|     502 |           5 | 2006-02-15 05:07:09 |\n",
      "|     522 |           5 | 2006-02-15 05:07:09 |\n",
      "|     524 |           5 | 2006-02-15 05:07:09 |\n",
      "|     529 |           5 | 2006-02-15 05:07:09 |\n",
      "|     555 |           5 | 2006-02-15 05:07:09 |\n",
      "|     568 |           5 | 2006-02-15 05:07:09 |\n",
      "|     604 |           5 | 2006-02-15 05:07:09 |\n",
      "|     613 |           5 | 2006-02-15 05:07:09 |\n",
      "|     638 |           5 | 2006-02-15 05:07:09 |\n",
      "|     657 |           5 | 2006-02-15 05:07:09 |\n",
      "|     660 |           5 | 2006-02-15 05:07:09 |\n",
      "|     672 |           5 | 2006-02-15 05:07:09 |\n",
      "|     680 |           5 | 2006-02-15 05:07:09 |\n",
      "|     704 |           5 | 2006-02-15 05:07:09 |\n",
      "|     754 |           5 | 2006-02-15 05:07:09 |\n",
      "|     756 |           5 | 2006-02-15 05:07:09 |\n",
      "|     765 |           5 | 2006-02-15 05:07:09 |\n",
      "|     774 |           5 | 2006-02-15 05:07:09 |\n",
      "|     814 |           5 | 2006-02-15 05:07:09 |\n",
      "|     837 |           5 | 2006-02-15 05:07:09 |\n",
      "|     857 |           5 | 2006-02-15 05:07:09 |\n",
      "|     858 |           5 | 2006-02-15 05:07:09 |\n",
      "|     871 |           5 | 2006-02-15 05:07:09 |\n",
      "|     905 |           5 | 2006-02-15 05:07:09 |\n",
      "|     906 |           5 | 2006-02-15 05:07:09 |\n",
      "|     932 |           5 | 2006-02-15 05:07:09 |\n",
      "|     938 |           5 | 2006-02-15 05:07:09 |\n",
      "|     939 |           5 | 2006-02-15 05:07:09 |\n",
      "|     978 |           5 | 2006-02-15 05:07:09 |\n",
      "|    1000 |           5 | 2006-02-15 05:07:09 |\n",
      "+---------+-------------+---------------------+\n"
     ]
    }
   ],
   "source": [
    "# Which films are categorized as comedy and organize it by ascending order (least to greatest)? \n",
    "# This query will select all of the columns in the table film_category and filter it where the movies are only \n",
    "# comedies and are organized by film_id in ascending order. \n",
    "!mysql sakila -e \"select * from film_category where category_id = 5 order by film_id\""
   ]
  },
  {
   "cell_type": "markdown",
   "id": "e2fbc6c7-99ee-4328-a18a-758218bcd990",
   "metadata": {},
   "source": [
    "#### Write an INSERT statement to add a record into any one of the tables."
   ]
  },
  {
   "cell_type": "code",
   "execution_count": 18,
   "id": "4e378c78-66f7-4ca7-a794-dc630213b72d",
   "metadata": {},
   "outputs": [],
   "source": [
    "# Insert a new langauge into the langauge table where the language is vietnamese with the latest update (9/5/2023 at 8:50pm)\n",
    "# and the language_id takes after the last input of the table.\n",
    "!mysql sakila -e \"insert into language (language_id, name, last_update) values ('7', 'Vietnamese', '2006-02-15 05:02:19')\""
   ]
  },
  {
   "cell_type": "code",
   "execution_count": 19,
   "id": "ac2b2fad-63a0-42ac-bc33-7eac55a28119",
   "metadata": {},
   "outputs": [
    {
     "name": "stdout",
     "output_type": "stream",
     "text": [
      "+-------------+------------+---------------------+\n",
      "| language_id | name       | last_update         |\n",
      "+-------------+------------+---------------------+\n",
      "|           1 | English    | 2006-02-15 05:02:19 |\n",
      "|           2 | Italian    | 2006-02-15 05:02:19 |\n",
      "|           3 | Japanese   | 2006-02-15 05:02:19 |\n",
      "|           4 | Mandarin   | 2006-02-15 05:02:19 |\n",
      "|           5 | French     | 2006-02-15 05:02:19 |\n",
      "|           6 | German     | 2006-02-15 05:02:19 |\n",
      "|           7 | Vietnamese | 2006-02-15 05:02:19 |\n",
      "+-------------+------------+---------------------+\n"
     ]
    }
   ],
   "source": [
    "# show the new language table with the insert\n",
    "!mysql sakila -e \"select * from language\""
   ]
  },
  {
   "cell_type": "markdown",
   "id": "e3ca13a6-af92-4eb7-a729-269fe9a57c92",
   "metadata": {},
   "source": [
    "#### Write an UPDATE statement to update one or more records from any one of the tables"
   ]
  },
  {
   "cell_type": "code",
   "execution_count": 20,
   "id": "90ecdb21-8881-4c34-90c9-0f95fc310759",
   "metadata": {},
   "outputs": [],
   "source": [
    "# Using the last table, the language table, let's say we accidentally put the wrong last update.  \n",
    "# So we'll have to change 2006-02-15 05:02:19 to 2023-09-05 08:50:19\n",
    "!mysql sakila -e \"update language set last_update = '2023-09-05 08:50:19' where language_id = 7\""
   ]
  },
  {
   "cell_type": "code",
   "execution_count": 21,
   "id": "53a9c406-293b-4bee-8df3-608a2e4b1e1c",
   "metadata": {},
   "outputs": [
    {
     "name": "stdout",
     "output_type": "stream",
     "text": [
      "+-------------+------------+---------------------+\n",
      "| language_id | name       | last_update         |\n",
      "+-------------+------------+---------------------+\n",
      "|           1 | English    | 2006-02-15 05:02:19 |\n",
      "|           2 | Italian    | 2006-02-15 05:02:19 |\n",
      "|           3 | Japanese   | 2006-02-15 05:02:19 |\n",
      "|           4 | Mandarin   | 2006-02-15 05:02:19 |\n",
      "|           5 | French     | 2006-02-15 05:02:19 |\n",
      "|           6 | German     | 2006-02-15 05:02:19 |\n",
      "|           7 | Vietnamese | 2023-09-05 08:50:19 |\n",
      "+-------------+------------+---------------------+\n"
     ]
    }
   ],
   "source": [
    "# show the new language table with the update\n",
    "!mysql sakila -e \"select * from language\""
   ]
  },
  {
   "cell_type": "markdown",
   "id": "0a463a02-0e89-4363-8c72-8a6160e68887",
   "metadata": {},
   "source": [
    "#### Write a DELETE statement to delete one or more records from any one of the tables."
   ]
  },
  {
   "cell_type": "code",
   "execution_count": 22,
   "id": "8fe5511e-4a30-4ea5-92f4-7f01025830cf",
   "metadata": {},
   "outputs": [],
   "source": [
    "# Let's add a bunch of information into the language table (Spanish, Russian, Korean, Arabic) and delete 2 out of the 4 languages that were recently added\n",
    "!mysql sakila -e \"insert into language (language_id, name, last_update) values ('8', 'Spanish', '2023-09-05 09:04:45')\""
   ]
  },
  {
   "cell_type": "code",
   "execution_count": 23,
   "id": "b9f9f6c4-aa5c-4dd6-be71-5137824a8786",
   "metadata": {},
   "outputs": [],
   "source": [
    "!mysql sakila -e \"insert into language (language_id, name, last_update) values ('9', 'Russian', '2023-09-05 09:04:45')\""
   ]
  },
  {
   "cell_type": "code",
   "execution_count": 24,
   "id": "2a7077a4-63bc-4df9-8d55-dad962273278",
   "metadata": {},
   "outputs": [],
   "source": [
    "!mysql sakila -e \"insert into language (language_id, name, last_update) values ('10', 'Korean', '2023-09-05 09:04:45')\""
   ]
  },
  {
   "cell_type": "code",
   "execution_count": 25,
   "id": "9e483b3f-1e3a-424b-99ba-4fdc1dc6cb13",
   "metadata": {},
   "outputs": [],
   "source": [
    "!mysql sakila -e \"insert into language (language_id, name, last_update) values ('11', 'Arabic', '2023-09-05 09:04:45')\""
   ]
  },
  {
   "cell_type": "code",
   "execution_count": 26,
   "id": "159938b0-666a-41b7-acd8-3d8611a7a745",
   "metadata": {},
   "outputs": [
    {
     "name": "stdout",
     "output_type": "stream",
     "text": [
      "+-------------+------------+---------------------+\n",
      "| language_id | name       | last_update         |\n",
      "+-------------+------------+---------------------+\n",
      "|           1 | English    | 2006-02-15 05:02:19 |\n",
      "|           2 | Italian    | 2006-02-15 05:02:19 |\n",
      "|           3 | Japanese   | 2006-02-15 05:02:19 |\n",
      "|           4 | Mandarin   | 2006-02-15 05:02:19 |\n",
      "|           5 | French     | 2006-02-15 05:02:19 |\n",
      "|           6 | German     | 2006-02-15 05:02:19 |\n",
      "|           7 | Vietnamese | 2023-09-05 08:50:19 |\n",
      "|           8 | Spanish    | 2023-09-05 09:04:45 |\n",
      "|           9 | Russian    | 2023-09-05 09:04:45 |\n",
      "|          10 | Korean     | 2023-09-05 09:04:45 |\n",
      "|          11 | Arabic     | 2023-09-05 09:04:45 |\n",
      "+-------------+------------+---------------------+\n"
     ]
    }
   ],
   "source": [
    "# show the new language table with the new 4 added languages\n",
    "!mysql sakila -e \"select * from language\""
   ]
  },
  {
   "cell_type": "code",
   "execution_count": 27,
   "id": "d84a28a8-8d6b-42d7-98dc-81d380a1db21",
   "metadata": {},
   "outputs": [],
   "source": [
    "# Time to delete 2 languages from the language table: Russian and Arabic\n",
    "!mysql sakila -e \"delete from language where language_id = 9 or language_id = 11\""
   ]
  },
  {
   "cell_type": "code",
   "execution_count": 28,
   "id": "a51c78fd-b789-4846-92b3-a6bf602d2219",
   "metadata": {},
   "outputs": [
    {
     "name": "stdout",
     "output_type": "stream",
     "text": [
      "+-------------+------------+---------------------+\n",
      "| language_id | name       | last_update         |\n",
      "+-------------+------------+---------------------+\n",
      "|           1 | English    | 2006-02-15 05:02:19 |\n",
      "|           2 | Italian    | 2006-02-15 05:02:19 |\n",
      "|           3 | Japanese   | 2006-02-15 05:02:19 |\n",
      "|           4 | Mandarin   | 2006-02-15 05:02:19 |\n",
      "|           5 | French     | 2006-02-15 05:02:19 |\n",
      "|           6 | German     | 2006-02-15 05:02:19 |\n",
      "|           7 | Vietnamese | 2023-09-05 08:50:19 |\n",
      "|           8 | Spanish    | 2023-09-05 09:04:45 |\n",
      "|          10 | Korean     | 2023-09-05 09:04:45 |\n",
      "+-------------+------------+---------------------+\n"
     ]
    }
   ],
   "source": [
    "# show the new language table to see the deleted languages information\n",
    "!mysql sakila -e \"select * from language\""
   ]
  }
 ],
 "metadata": {
  "environment": {
   "kernel": "python3",
   "name": "common-cpu.m110",
   "type": "gcloud",
   "uri": "gcr.io/deeplearning-platform-release/base-cpu:m110"
  },
  "kernelspec": {
   "display_name": "Python 3",
   "language": "python",
   "name": "python3"
  },
  "language_info": {
   "codemirror_mode": {
    "name": "ipython",
    "version": 3
   },
   "file_extension": ".py",
   "mimetype": "text/x-python",
   "name": "python",
   "nbconvert_exporter": "python",
   "pygments_lexer": "ipython3",
   "version": "3.10.12"
  }
 },
 "nbformat": 4,
 "nbformat_minor": 5
}
