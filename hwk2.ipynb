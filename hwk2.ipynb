{
  "cells": [
    {
      "cell_type": "markdown",
      "metadata": {
        "id": "sjOvwCZ3EVQT"
      },
      "source": [
        "# UFO report by < Jennifer : Jat5244 \\>\n",
        "Modify this cell by placing your name and ut eid in the space above. "
      ]
    },
    {
      "cell_type": "markdown",
      "metadata": {
        "id": "KjU2bggvEVQY"
      },
      "source": [
        "## Homework 2\n",
        "You are a UFO researcher and have just obtained some **TOP SECRET** government data. The data contain sighting information including location, shape and source of the information. Use your pandas skills to investigate the data. Turn in this notebook as your report. Follow the directions and answer the questions. Edit the code cells to create pandas and matplotlib solutions to the questions. The first cell loads the data into a data frame called `df_sightings`. The rest is up to you.\n",
        "\n",
        "The truth is out there..."
      ]
    },
    {
      "cell_type": "code",
      "source": [
        "from google.colab import drive\n",
        "drive.mount('/content/drive')"
      ],
      "metadata": {
        "id": "h_CQ40mFEdKY",
        "colab": {
          "base_uri": "https://localhost:8080/"
        },
        "outputId": "60d3adfe-4ec3-467c-8171-48af8d0b188b"
      },
      "execution_count": 1,
      "outputs": [
        {
          "output_type": "stream",
          "name": "stdout",
          "text": [
            "Drive already mounted at /content/drive; to attempt to forcibly remount, call drive.mount(\"/content/drive\", force_remount=True).\n"
          ]
        }
      ]
    },
    {
      "cell_type": "code",
      "execution_count": 2,
      "metadata": {
        "id": "f8LnF6MeEVQZ",
        "colab": {
          "base_uri": "https://localhost:8080/",
          "height": 206
        },
        "outputId": "5f1fa4fe-9ad8-45d2-e863-1de7391cffb1"
      },
      "outputs": [
        {
          "output_type": "execute_result",
          "data": {
            "text/plain": [
              "  Event.Date                Shape           Location State Country  Source\n",
              "0    6/18/16  Boomerang/V-Shaped   South Barrington    IL     USA   NUFORC\n",
              "1    6/17/16  Boomerang/V-Shaped               Kuna    ID     USA   NUFORC\n",
              "2    5/30/16  Boomerang/V-Shaped       Lake Stevens    WA     USA   NUFORC\n",
              "3    5/27/16  Boomerang/V-Shaped             Gerber    CA     USA   NUFORC\n",
              "4    5/24/16  Boomerang/V-Shaped          Camdenton    MO     USA   NUFORC"
            ],
            "text/html": [
              "\n",
              "  <div id=\"df-3983cccd-ef03-4e11-b72e-7ec319cb2fe4\">\n",
              "    <div class=\"colab-df-container\">\n",
              "      <div>\n",
              "<style scoped>\n",
              "    .dataframe tbody tr th:only-of-type {\n",
              "        vertical-align: middle;\n",
              "    }\n",
              "\n",
              "    .dataframe tbody tr th {\n",
              "        vertical-align: top;\n",
              "    }\n",
              "\n",
              "    .dataframe thead th {\n",
              "        text-align: right;\n",
              "    }\n",
              "</style>\n",
              "<table border=\"1\" class=\"dataframe\">\n",
              "  <thead>\n",
              "    <tr style=\"text-align: right;\">\n",
              "      <th></th>\n",
              "      <th>Event.Date</th>\n",
              "      <th>Shape</th>\n",
              "      <th>Location</th>\n",
              "      <th>State</th>\n",
              "      <th>Country</th>\n",
              "      <th>Source</th>\n",
              "    </tr>\n",
              "  </thead>\n",
              "  <tbody>\n",
              "    <tr>\n",
              "      <th>0</th>\n",
              "      <td>6/18/16</td>\n",
              "      <td>Boomerang/V-Shaped</td>\n",
              "      <td>South Barrington</td>\n",
              "      <td>IL</td>\n",
              "      <td>USA</td>\n",
              "      <td>NUFORC</td>\n",
              "    </tr>\n",
              "    <tr>\n",
              "      <th>1</th>\n",
              "      <td>6/17/16</td>\n",
              "      <td>Boomerang/V-Shaped</td>\n",
              "      <td>Kuna</td>\n",
              "      <td>ID</td>\n",
              "      <td>USA</td>\n",
              "      <td>NUFORC</td>\n",
              "    </tr>\n",
              "    <tr>\n",
              "      <th>2</th>\n",
              "      <td>5/30/16</td>\n",
              "      <td>Boomerang/V-Shaped</td>\n",
              "      <td>Lake Stevens</td>\n",
              "      <td>WA</td>\n",
              "      <td>USA</td>\n",
              "      <td>NUFORC</td>\n",
              "    </tr>\n",
              "    <tr>\n",
              "      <th>3</th>\n",
              "      <td>5/27/16</td>\n",
              "      <td>Boomerang/V-Shaped</td>\n",
              "      <td>Gerber</td>\n",
              "      <td>CA</td>\n",
              "      <td>USA</td>\n",
              "      <td>NUFORC</td>\n",
              "    </tr>\n",
              "    <tr>\n",
              "      <th>4</th>\n",
              "      <td>5/24/16</td>\n",
              "      <td>Boomerang/V-Shaped</td>\n",
              "      <td>Camdenton</td>\n",
              "      <td>MO</td>\n",
              "      <td>USA</td>\n",
              "      <td>NUFORC</td>\n",
              "    </tr>\n",
              "  </tbody>\n",
              "</table>\n",
              "</div>\n",
              "      <button class=\"colab-df-convert\" onclick=\"convertToInteractive('df-3983cccd-ef03-4e11-b72e-7ec319cb2fe4')\"\n",
              "              title=\"Convert this dataframe to an interactive table.\"\n",
              "              style=\"display:none;\">\n",
              "        \n",
              "  <svg xmlns=\"http://www.w3.org/2000/svg\" height=\"24px\"viewBox=\"0 0 24 24\"\n",
              "       width=\"24px\">\n",
              "    <path d=\"M0 0h24v24H0V0z\" fill=\"none\"/>\n",
              "    <path d=\"M18.56 5.44l.94 2.06.94-2.06 2.06-.94-2.06-.94-.94-2.06-.94 2.06-2.06.94zm-11 1L8.5 8.5l.94-2.06 2.06-.94-2.06-.94L8.5 2.5l-.94 2.06-2.06.94zm10 10l.94 2.06.94-2.06 2.06-.94-2.06-.94-.94-2.06-.94 2.06-2.06.94z\"/><path d=\"M17.41 7.96l-1.37-1.37c-.4-.4-.92-.59-1.43-.59-.52 0-1.04.2-1.43.59L10.3 9.45l-7.72 7.72c-.78.78-.78 2.05 0 2.83L4 21.41c.39.39.9.59 1.41.59.51 0 1.02-.2 1.41-.59l7.78-7.78 2.81-2.81c.8-.78.8-2.07 0-2.86zM5.41 20L4 18.59l7.72-7.72 1.47 1.35L5.41 20z\"/>\n",
              "  </svg>\n",
              "      </button>\n",
              "      \n",
              "  <style>\n",
              "    .colab-df-container {\n",
              "      display:flex;\n",
              "      flex-wrap:wrap;\n",
              "      gap: 12px;\n",
              "    }\n",
              "\n",
              "    .colab-df-convert {\n",
              "      background-color: #E8F0FE;\n",
              "      border: none;\n",
              "      border-radius: 50%;\n",
              "      cursor: pointer;\n",
              "      display: none;\n",
              "      fill: #1967D2;\n",
              "      height: 32px;\n",
              "      padding: 0 0 0 0;\n",
              "      width: 32px;\n",
              "    }\n",
              "\n",
              "    .colab-df-convert:hover {\n",
              "      background-color: #E2EBFA;\n",
              "      box-shadow: 0px 1px 2px rgba(60, 64, 67, 0.3), 0px 1px 3px 1px rgba(60, 64, 67, 0.15);\n",
              "      fill: #174EA6;\n",
              "    }\n",
              "\n",
              "    [theme=dark] .colab-df-convert {\n",
              "      background-color: #3B4455;\n",
              "      fill: #D2E3FC;\n",
              "    }\n",
              "\n",
              "    [theme=dark] .colab-df-convert:hover {\n",
              "      background-color: #434B5C;\n",
              "      box-shadow: 0px 1px 3px 1px rgba(0, 0, 0, 0.15);\n",
              "      filter: drop-shadow(0px 1px 2px rgba(0, 0, 0, 0.3));\n",
              "      fill: #FFFFFF;\n",
              "    }\n",
              "  </style>\n",
              "\n",
              "      <script>\n",
              "        const buttonEl =\n",
              "          document.querySelector('#df-3983cccd-ef03-4e11-b72e-7ec319cb2fe4 button.colab-df-convert');\n",
              "        buttonEl.style.display =\n",
              "          google.colab.kernel.accessAllowed ? 'block' : 'none';\n",
              "\n",
              "        async function convertToInteractive(key) {\n",
              "          const element = document.querySelector('#df-3983cccd-ef03-4e11-b72e-7ec319cb2fe4');\n",
              "          const dataTable =\n",
              "            await google.colab.kernel.invokeFunction('convertToInteractive',\n",
              "                                                     [key], {});\n",
              "          if (!dataTable) return;\n",
              "\n",
              "          const docLinkHtml = 'Like what you see? Visit the ' +\n",
              "            '<a target=\"_blank\" href=https://colab.research.google.com/notebooks/data_table.ipynb>data table notebook</a>'\n",
              "            + ' to learn more about interactive tables.';\n",
              "          element.innerHTML = '';\n",
              "          dataTable['output_type'] = 'display_data';\n",
              "          await google.colab.output.renderOutput(dataTable, element);\n",
              "          const docLink = document.createElement('div');\n",
              "          docLink.innerHTML = docLinkHtml;\n",
              "          element.appendChild(docLink);\n",
              "        }\n",
              "      </script>\n",
              "    </div>\n",
              "  </div>\n",
              "  "
            ]
          },
          "metadata": {},
          "execution_count": 2
        }
      ],
      "source": [
        "# this cell loads the ufo data (the file should be in the same directory as this notebook)\n",
        "import pandas as pd\n",
        "import numpy as np\n",
        "import matplotlib.pyplot as plt\n",
        "#\n",
        "filename = '/content/ufo_location_shape.csv'\n",
        "df_sightings = pd.read_csv(filename)\n",
        "df_sightings.head()"
      ]
    },
    {
      "cell_type": "markdown",
      "metadata": {
        "id": "GfueQ8wPEVQa"
      },
      "source": [
        "## Data Exploration\n",
        "\n",
        "Answer the following questions about the data in the csv file.  Your answer should be readable, and the only number in the output for the cell.\n"
      ]
    },
    {
      "cell_type": "markdown",
      "metadata": {
        "id": "BwybtNY5EVQb"
      },
      "source": [
        "### Question 1\n",
        "\n",
        "How many sightings are in the `df_sightings`? "
      ]
    },
    {
      "cell_type": "code",
      "execution_count": 3,
      "metadata": {
        "id": "AhPu9lcZEVQb",
        "colab": {
          "base_uri": "https://localhost:8080/"
        },
        "outputId": "4a0bcf0d-7978-481e-8077-0a0c3f264a4f"
      },
      "outputs": [
        {
          "output_type": "stream",
          "name": "stdout",
          "text": [
            "Total Sightings Entries: 3646\n"
          ]
        }
      ],
      "source": [
        "# Get the total entries\n",
        "total_sights= df_sightings['Event.Date'].count()\n",
        "# Print the results\n",
        "print(\"Total Sightings Entries: \" + str(total_sights))"
      ]
    },
    {
      "cell_type": "markdown",
      "metadata": {
        "id": "_hBQQN-cEVQc"
      },
      "source": [
        "### Question 2 \n",
        "\n",
        "How many columns are there in the `df_sightings`? "
      ]
    },
    {
      "cell_type": "code",
      "execution_count": 4,
      "metadata": {
        "id": "5_UekFOlEVQc",
        "colab": {
          "base_uri": "https://localhost:8080/"
        },
        "outputId": "0de0da98-6410-43af-c05c-7e6054d687e3"
      },
      "outputs": [
        {
          "output_type": "execute_result",
          "data": {
            "text/plain": [
              "6"
            ]
          },
          "metadata": {},
          "execution_count": 4
        }
      ],
      "source": [
        "# Count the length of the columns in dataframe\n",
        "len(df_sightings.columns)"
      ]
    },
    {
      "cell_type": "markdown",
      "metadata": {
        "id": "SFok5lNtEVQd"
      },
      "source": [
        "### Question 3\n",
        "\n",
        "What are the column names?  Format the output such that there is one column name per line."
      ]
    },
    {
      "cell_type": "code",
      "source": [
        "# df_sightings.columns: you get the column's names in the dataframe\n",
        "\n",
        "# For loop to print out each column name\n",
        "for col in df_sightings.columns: \n",
        "  print(col)"
      ],
      "metadata": {
        "colab": {
          "base_uri": "https://localhost:8080/"
        },
        "id": "iAbWCBlaRv_0",
        "outputId": "6888c0a2-0521-4e71-af7d-d3c8e40fe919"
      },
      "execution_count": 5,
      "outputs": [
        {
          "output_type": "stream",
          "name": "stdout",
          "text": [
            "Event.Date\n",
            "Shape\n",
            "Location\n",
            "State\n",
            "Country\n",
            "Source\n"
          ]
        }
      ]
    },
    {
      "cell_type": "markdown",
      "metadata": {
        "id": "SmIU4VpdEVQe"
      },
      "source": [
        "### Question 4\n",
        "\n",
        "List the unique countries where sightings occurred. Format the output such that there is one country name  per line. Only list valid countries (invalid country names will be easy to spot). \n",
        "\n",
        "You will notice our old friend from the tutorial pop up, `nan`.  By default when you read in a csv file, any of the following values in cells are filled with the numpy `nan` value:  ‘’, ‘#N/A’, ‘#N/A N/A’, ‘#NA’, ‘-1.#IND’, ‘-1.#QNAN’, ‘-NaN’, ‘-nan’, ‘1.#IND’, ‘1.#QNAN’, ‘<NA>’, ‘N/A’, ‘NA’, ‘NULL’, ‘NaN’, ‘n/a’, ‘nan’, ‘null’.\n",
        "    \n",
        "You can drop `nan` from a series using the `dropna` [method](https://pandas.pydata.org/pandas-docs/stable/reference/api/pandas.Series.dropna.html). \n",
        "    \n",
        "Use the iterator [iteritems](https://pandas.pydata.org/pandas-docs/stable/reference/api/pandas.Series.iteritems.html) to loop through a series. Use the function [drop_duplicates](https://pandas.pydata.org/pandas-docs/stable/reference/api/pandas.Series.drop_duplicates.html) to remove duplicates from a series. \n"
      ]
    },
    {
      "cell_type": "code",
      "execution_count": 6,
      "metadata": {
        "id": "1TnM3PYUEVQe",
        "colab": {
          "base_uri": "https://localhost:8080/"
        },
        "outputId": "f12cda23-a3a2-448e-db40-b6681665d81d"
      },
      "outputs": [
        {
          "output_type": "stream",
          "name": "stdout",
          "text": [
            "Norway \n",
            "Wales/UK \n",
            "Mauritius \n",
            "Dominican Republic \n",
            "Gibralter \n",
            "Kenya \n",
            "Philippines \n",
            "Japan \n",
            "Netherlands \n",
            "Lithuania \n",
            "Indonesia \n",
            "Portugal \n",
            "South Africa \n",
            "Brazil \n",
            "Chile \n",
            "Mexico \n",
            "New Zealand \n",
            "Pakistan \n",
            "The Bahamas (Bermuda triangle) \n",
            "Israel \n",
            "Iran \n",
            "Turkey \n",
            "Italy \n",
            "Croatia \n",
            "Sweden \n",
            "Thailand \n",
            "Argentina \n",
            "China \n",
            "Finland \n",
            "Australia \n",
            "Spain \n",
            "Germany \n",
            "USA \n",
            "India \n",
            "Canada \n",
            "Ireland \n",
            "Cambodia \n",
            "England/UK \n",
            "Puerto Rico \n",
            "Tonga \n"
          ]
        }
      ],
      "source": [
        "# Drop the NaN\n",
        "country = df_sightings['Country'].dropna()\n",
        "\n",
        "# Remove duplicates\n",
        "unique_countries = country.drop_duplicates(keep = 'last')\n",
        "\n",
        "# Convert series to a list\n",
        "country_list = unique_countries.tolist()\n",
        "\n",
        "# Remove the invalid country name: South Australia , Unknown \n",
        "country_list.remove(\"South Australia \")\n",
        "country_list.remove(\"Unknown \")\n",
        "\n",
        "# List the unique countries where sightings occurred. Format the output such that there is one country name per line. Only list valid countries\n",
        "for item in country_list:\n",
        "  print(item)\n"
      ]
    },
    {
      "cell_type": "markdown",
      "metadata": {
        "id": "QzOtLQztEVQf"
      },
      "source": [
        "### Question 5\n",
        "\n",
        "For only sightings that occurred in the USA, list the unique state names. Format the output such that there is one US State name per line."
      ]
    },
    {
      "cell_type": "code",
      "execution_count": 7,
      "metadata": {
        "id": "shUcYIF4EVQf",
        "colab": {
          "base_uri": "https://localhost:8080/"
        },
        "outputId": "0a1e23a3-e21c-49a9-dc92-a2090a5b2495"
      },
      "outputs": [
        {
          "output_type": "stream",
          "name": "stdout",
          "text": [
            "MS \n",
            "KY \n",
            "OK \n",
            "AL \n",
            "AR \n",
            "MT \n",
            "RI \n",
            "NM \n",
            "WI \n",
            "ME \n",
            "UT \n",
            "KS \n",
            "SD \n",
            "TN \n",
            "HI \n",
            "NH \n",
            "SC \n",
            "IA \n",
            "VT \n",
            "NV \n",
            "MA \n",
            "PA \n",
            "WA \n",
            "CT \n",
            "FL \n",
            "MN \n",
            "NY \n",
            "MI \n",
            "MO \n",
            "GA \n",
            "VA \n",
            "NE \n",
            "ID \n",
            "AZ \n",
            "NC \n",
            "OR \n",
            "DE \n",
            "AK \n",
            "MD \n",
            "IL \n",
            "TX \n",
            "ND \n",
            "WY \n",
            "CO \n",
            "OH \n",
            "NJ \n",
            "LA \n",
            "WV \n",
            "CA \n",
            "IN \n"
          ]
        }
      ],
      "source": [
        "# Get sightings only in the USA\n",
        "USA_sightings = df_sightings[df_sightings['Country'] == 'USA ']\n",
        "\n",
        "# Drop NaN \n",
        "states_sight = USA_sightings['State'].dropna()\n",
        "\n",
        "# Drop duplicates \n",
        "unique_states = states_sight.drop_duplicates(keep = 'last')\n",
        "\n",
        "# Convert it into a list\n",
        "state_list = unique_states.tolist()\n",
        "\n",
        "# Remove invalid states name : '?? '. 'DC '\n",
        "state_list.remove('?? ')\n",
        "state_list.remove('DC ')\n",
        "\n",
        "# List the unique state names. Format the output such that there is one US State name per line\n",
        "for state in state_list:\n",
        "  print(state)\n"
      ]
    },
    {
      "cell_type": "markdown",
      "metadata": {
        "id": "4yFp3_qnEVQf"
      },
      "source": [
        "### Question 6\n",
        "\n",
        "List the different observed UFO shapes and the number of times that they occur in the data frame (hint see [value_counts](https://pandas.pydata.org/pandas-docs/stable/reference/api/pandas.Series.value_counts.html). The answer will be in text format with one type of shape followed by the number of occurances per line. "
      ]
    },
    {
      "cell_type": "code",
      "execution_count": 8,
      "metadata": {
        "id": "MQVlxHFeEVQf",
        "colab": {
          "base_uri": "https://localhost:8080/"
        },
        "outputId": "e0a2b648-5ffb-4138-b404-e1c8e11899b1"
      },
      "outputs": [
        {
          "output_type": "execute_result",
          "data": {
            "text/plain": [
              "Lights Only            1023\n",
              "Circle                  451\n",
              "Orb/Sphere              347\n",
              "Triangle                336\n",
              "Fireball                294\n",
              "Unknown                 257\n",
              "Other                   239\n",
              "Disk                    178\n",
              "Cigar/Cylinder          138\n",
              "Oval                    129\n",
              "Rectangle                68\n",
              "Diamond                  57\n",
              "Boomerang/V-Shaped       38\n",
              "Teardrop                 36\n",
              "Egg                      19\n",
              "Cone                     17\n",
              "Cross                    14\n",
              "Pyramid                   2\n",
              "Sphere                    1\n",
              "Square                    1\n",
              "Missile/Rocket            1\n",
              "Name: Shape, dtype: int64"
            ]
          },
          "metadata": {},
          "execution_count": 8
        }
      ],
      "source": [
        "# List the different observed UFO shapes and the number of times that they occur in the data frame\n",
        "df_sightings['Shape'].value_counts()"
      ]
    },
    {
      "cell_type": "markdown",
      "metadata": {
        "id": "eogUrV6tEVQg"
      },
      "source": [
        "### Question 7\n",
        "\n",
        "Create a bar chart showing the number of sightings in each country. The x axis should be country and the y axis should be number of sightings.\n",
        "        \n",
        "Your axis should be legible, and labeled correctly.\n",
        "\n",
        "Sort the countries by most sightings, to least sightings.  For the top three countries, annotate the bar chart to show the number of sightings, and adjust the y limits such that you are only showing the detail from 0-16 sightings. \n",
        "\n",
        "There are multiple ways to solve this, and I used [figure](https://matplotlib.org/3.3.3/api/_as_gen/matplotlib.pyplot.figure.html) to adjust the size of my plot, [ylim](https://matplotlib.org/3.3.3/api/_as_gen/matplotlib.pyplot.ylim.html) to control the y limits of the histogram, [value_counts](https://pandas.pydata.org/pandas-docs/stable/reference/api/pandas.Series.value_counts.html) to create the data, [bar](https://matplotlib.org/3.3.3/api/_as_gen/matplotlib.pyplot.bar.html) to chart the data, [xticks](https://matplotlib.org/3.3.3/api/_as_gen/matplotlib.pyplot.xticks.html#matplotlib.pyplot.xticks) to set the tick labels, [arrange](https://numpy.org/doc/stable/reference/generated/numpy.arange.html) to create x coordinates for the countries and control the tick locations, [text](https://matplotlib.org/3.3.3/api/_as_gen/matplotlib.pyplot.text.html) to annotate the graph for the top three country sighting counts, and [ylabel](https://matplotlib.org/3.3.3/api/_as_gen/matplotlib.pyplot.ylabel.html) [title](https://matplotlib.org/3.3.3/api/_as_gen/matplotlib.pyplot.title.html) to set the ylabel and title of the plot.  "
      ]
    },
    {
      "cell_type": "code",
      "execution_count": 9,
      "metadata": {
        "id": "ng_77s-AEVQg",
        "colab": {
          "base_uri": "https://localhost:8080/",
          "height": 1000
        },
        "outputId": "5f7b4e81-75a7-413e-ee0e-aaf3f21d34f0"
      },
      "outputs": [
        {
          "output_type": "execute_result",
          "data": {
            "text/plain": [
              "(0.0, 16.0)"
            ]
          },
          "metadata": {},
          "execution_count": 9
        },
        {
          "output_type": "display_data",
          "data": {
            "text/plain": [
              "<Figure size 1080x1080 with 1 Axes>"
            ],
            "image/png": "[encoded data removed]"
          },
          "metadata": {
            "needs_background": "light"
          }
        }
      ],
      "source": [
        "# Create the data; number of sightings in each country\n",
        "country_sights = dict(df_sightings['Country'].value_counts())\n",
        "\n",
        "# Delete invalid countries: South Australia , Unknown \n",
        "country_sights.pop('South Australia ')\n",
        "country_sights.pop('Unknown ')\n",
        "\n",
        "# Adjust the size of my plot, to make axis legible\n",
        "plt.rcParams[\"figure.figsize\"] = (15, 15)\n",
        "\n",
        "# Plot the bar graph\n",
        "country_bar = plt.bar(country_sights.keys(), country_sights.values(), align = 'center')\n",
        "\n",
        "# Label the graph\n",
        "plt.title(\"Each Country\\'s Sightings\")\n",
        "plt.xlabel('Country')\n",
        "plt.ylabel('Number of Sightings')\n",
        "plt.xticks(rotation = 90, fontsize = 10)\n",
        "\n",
        "# Annotate the graph for the top three country sighting counts\n",
        "plt.text(-0.75, 16, '3433') # USA - 3433\n",
        "plt.text(0.75, 16, '91') # Canada - 91\n",
        "plt.text(1.75, 16, '27') # England/UK - 27\n",
        "\n",
        "# Adjust the y limits such that you are only showing the detail from 0-16 sightings\n",
        "plt.ylim(0,16)"
      ]
    },
    {
      "cell_type": "markdown",
      "metadata": {
        "id": "08dPGtbfEVQg"
      },
      "source": [
        "### Question 8\n",
        "\n",
        "Create a stacked bar chart showing the top 7 UFO shapes for the ten states with the highest number of sightings. Start by finding the ten states with the highest number of sightings. Given those 10 states, find the top 7 most frequent UFO shapes. Then for each state plot a stacked bar where each color of the stack corresponds to the number of sightings in that state for a particular UFO shape. Label the x-axis with the State abbreviation. \n",
        "\n",
        "There is an [example](https://matplotlib.org/3.2.2/gallery/lines_bars_and_markers/bar_stacked.html) of a stacked bar chart available in the documentation. \n",
        "\n",
        "Use the color brewer website from the class slides to pick 7 colors to override the matplotlib defaults for the bars."
      ]
    },
    {
      "cell_type": "code",
      "source": [
        "# USA = df_sightings.groupby('Country').size()\n",
        "USA = df_sightings[df_sightings['Country'] == 'USA '] # Filtered dataframe for USA\n",
        "USA"
      ],
      "metadata": {
        "id": "HFh33KVkOQXI",
        "colab": {
          "base_uri": "https://localhost:8080/",
          "height": 424
        },
        "outputId": "5b87d502-3c31-4156-a4d0-35c5d7d6d1db"
      },
      "execution_count": 10,
      "outputs": [
        {
          "output_type": "execute_result",
          "data": {
            "text/plain": [
              "     Event.Date                Shape           Location State Country  Source\n",
              "0       6/18/16  Boomerang/V-Shaped   South Barrington    IL     USA   NUFORC\n",
              "1       6/17/16  Boomerang/V-Shaped               Kuna    ID     USA   NUFORC\n",
              "2       5/30/16  Boomerang/V-Shaped       Lake Stevens    WA     USA   NUFORC\n",
              "3       5/27/16  Boomerang/V-Shaped             Gerber    CA     USA   NUFORC\n",
              "4       5/24/16  Boomerang/V-Shaped          Camdenton    MO     USA   NUFORC\n",
              "...         ...                  ...                ...   ...     ...     ...\n",
              "3625    6/10/75             Unknown          Millville    NJ     USA   NUFORC\n",
              "3626    10/6/74             Unknown        New Orleans    LA     USA   NUFORC\n",
              "3627     5/1/74             Unknown           Philippi    WV     USA   NUFORC\n",
              "3628    8/31/71             Unknown          Los Banos    CA     USA    MUFON\n",
              "3629     6/1/66             Unknown         Washington    IN     USA   NUFORC\n",
              "\n",
              "[3433 rows x 6 columns]"
            ],
            "text/html": [
              "\n",
              "  <div id=\"df-40e4e2ac-d7b9-42e4-ad42-9005c95fc693\">\n",
              "    <div class=\"colab-df-container\">\n",
              "      <div>\n",
              "<style scoped>\n",
              "    .dataframe tbody tr th:only-of-type {\n",
              "        vertical-align: middle;\n",
              "    }\n",
              "\n",
              "    .dataframe tbody tr th {\n",
              "        vertical-align: top;\n",
              "    }\n",
              "\n",
              "    .dataframe thead th {\n",
              "        text-align: right;\n",
              "    }\n",
              "</style>\n",
              "<table border=\"1\" class=\"dataframe\">\n",
              "  <thead>\n",
              "    <tr style=\"text-align: right;\">\n",
              "      <th></th>\n",
              "      <th>Event.Date</th>\n",
              "      <th>Shape</th>\n",
              "      <th>Location</th>\n",
              "      <th>State</th>\n",
              "      <th>Country</th>\n",
              "      <th>Source</th>\n",
              "    </tr>\n",
              "  </thead>\n",
              "  <tbody>\n",
              "    <tr>\n",
              "      <th>0</th>\n",
              "      <td>6/18/16</td>\n",
              "      <td>Boomerang/V-Shaped</td>\n",
              "      <td>South Barrington</td>\n",
              "      <td>IL</td>\n",
              "      <td>USA</td>\n",
              "      <td>NUFORC</td>\n",
              "    </tr>\n",
              "    <tr>\n",
              "      <th>1</th>\n",
              "      <td>6/17/16</td>\n",
              "      <td>Boomerang/V-Shaped</td>\n",
              "      <td>Kuna</td>\n",
              "      <td>ID</td>\n",
              "      <td>USA</td>\n",
              "      <td>NUFORC</td>\n",
              "    </tr>\n",
              "    <tr>\n",
              "      <th>2</th>\n",
              "      <td>5/30/16</td>\n",
              "      <td>Boomerang/V-Shaped</td>\n",
              "      <td>Lake Stevens</td>\n",
              "      <td>WA</td>\n",
              "      <td>USA</td>\n",
              "      <td>NUFORC</td>\n",
              "    </tr>\n",
              "    <tr>\n",
              "      <th>3</th>\n",
              "      <td>5/27/16</td>\n",
              "      <td>Boomerang/V-Shaped</td>\n",
              "      <td>Gerber</td>\n",
              "      <td>CA</td>\n",
              "      <td>USA</td>\n",
              "      <td>NUFORC</td>\n",
              "    </tr>\n",
              "    <tr>\n",
              "      <th>4</th>\n",
              "      <td>5/24/16</td>\n",
              "      <td>Boomerang/V-Shaped</td>\n",
              "      <td>Camdenton</td>\n",
              "      <td>MO</td>\n",
              "      <td>USA</td>\n",
              "      <td>NUFORC</td>\n",
              "    </tr>\n",
              "    <tr>\n",
              "      <th>...</th>\n",
              "      <td>...</td>\n",
              "      <td>...</td>\n",
              "      <td>...</td>\n",
              "      <td>...</td>\n",
              "      <td>...</td>\n",
              "      <td>...</td>\n",
              "    </tr>\n",
              "    <tr>\n",
              "      <th>3625</th>\n",
              "      <td>6/10/75</td>\n",
              "      <td>Unknown</td>\n",
              "      <td>Millville</td>\n",
              "      <td>NJ</td>\n",
              "      <td>USA</td>\n",
              "      <td>NUFORC</td>\n",
              "    </tr>\n",
              "    <tr>\n",
              "      <th>3626</th>\n",
              "      <td>10/6/74</td>\n",
              "      <td>Unknown</td>\n",
              "      <td>New Orleans</td>\n",
              "      <td>LA</td>\n",
              "      <td>USA</td>\n",
              "      <td>NUFORC</td>\n",
              "    </tr>\n",
              "    <tr>\n",
              "      <th>3627</th>\n",
              "      <td>5/1/74</td>\n",
              "      <td>Unknown</td>\n",
              "      <td>Philippi</td>\n",
              "      <td>WV</td>\n",
              "      <td>USA</td>\n",
              "      <td>NUFORC</td>\n",
              "    </tr>\n",
              "    <tr>\n",
              "      <th>3628</th>\n",
              "      <td>8/31/71</td>\n",
              "      <td>Unknown</td>\n",
              "      <td>Los Banos</td>\n",
              "      <td>CA</td>\n",
              "      <td>USA</td>\n",
              "      <td>MUFON</td>\n",
              "    </tr>\n",
              "    <tr>\n",
              "      <th>3629</th>\n",
              "      <td>6/1/66</td>\n",
              "      <td>Unknown</td>\n",
              "      <td>Washington</td>\n",
              "      <td>IN</td>\n",
              "      <td>USA</td>\n",
              "      <td>NUFORC</td>\n",
              "    </tr>\n",
              "  </tbody>\n",
              "</table>\n",
              "<p>3433 rows × 6 columns</p>\n",
              "</div>\n",
              "      <button class=\"colab-df-convert\" onclick=\"convertToInteractive('df-40e4e2ac-d7b9-42e4-ad42-9005c95fc693')\"\n",
              "              title=\"Convert this dataframe to an interactive table.\"\n",
              "              style=\"display:none;\">\n",
              "        \n",
              "  <svg xmlns=\"http://www.w3.org/2000/svg\" height=\"24px\"viewBox=\"0 0 24 24\"\n",
              "       width=\"24px\">\n",
              "    <path d=\"M0 0h24v24H0V0z\" fill=\"none\"/>\n",
              "    <path d=\"M18.56 5.44l.94 2.06.94-2.06 2.06-.94-2.06-.94-.94-2.06-.94 2.06-2.06.94zm-11 1L8.5 8.5l.94-2.06 2.06-.94-2.06-.94L8.5 2.5l-.94 2.06-2.06.94zm10 10l.94 2.06.94-2.06 2.06-.94-2.06-.94-.94-2.06-.94 2.06-2.06.94z\"/><path d=\"M17.41 7.96l-1.37-1.37c-.4-.4-.92-.59-1.43-.59-.52 0-1.04.2-1.43.59L10.3 9.45l-7.72 7.72c-.78.78-.78 2.05 0 2.83L4 21.41c.39.39.9.59 1.41.59.51 0 1.02-.2 1.41-.59l7.78-7.78 2.81-2.81c.8-.78.8-2.07 0-2.86zM5.41 20L4 18.59l7.72-7.72 1.47 1.35L5.41 20z\"/>\n",
              "  </svg>\n",
              "      </button>\n",
              "      \n",
              "  <style>\n",
              "    .colab-df-container {\n",
              "      display:flex;\n",
              "      flex-wrap:wrap;\n",
              "      gap: 12px;\n",
              "    }\n",
              "\n",
              "    .colab-df-convert {\n",
              "      background-color: #E8F0FE;\n",
              "      border: none;\n",
              "      border-radius: 50%;\n",
              "      cursor: pointer;\n",
              "      display: none;\n",
              "      fill: #1967D2;\n",
              "      height: 32px;\n",
              "      padding: 0 0 0 0;\n",
              "      width: 32px;\n",
              "    }\n",
              "\n",
              "    .colab-df-convert:hover {\n",
              "      background-color: #E2EBFA;\n",
              "      box-shadow: 0px 1px 2px rgba(60, 64, 67, 0.3), 0px 1px 3px 1px rgba(60, 64, 67, 0.15);\n",
              "      fill: #174EA6;\n",
              "    }\n",
              "\n",
              "    [theme=dark] .colab-df-convert {\n",
              "      background-color: #3B4455;\n",
              "      fill: #D2E3FC;\n",
              "    }\n",
              "\n",
              "    [theme=dark] .colab-df-convert:hover {\n",
              "      background-color: #434B5C;\n",
              "      box-shadow: 0px 1px 3px 1px rgba(0, 0, 0, 0.15);\n",
              "      filter: drop-shadow(0px 1px 2px rgba(0, 0, 0, 0.3));\n",
              "      fill: #FFFFFF;\n",
              "    }\n",
              "  </style>\n",
              "\n",
              "      <script>\n",
              "        const buttonEl =\n",
              "          document.querySelector('#df-40e4e2ac-d7b9-42e4-ad42-9005c95fc693 button.colab-df-convert');\n",
              "        buttonEl.style.display =\n",
              "          google.colab.kernel.accessAllowed ? 'block' : 'none';\n",
              "\n",
              "        async function convertToInteractive(key) {\n",
              "          const element = document.querySelector('#df-40e4e2ac-d7b9-42e4-ad42-9005c95fc693');\n",
              "          const dataTable =\n",
              "            await google.colab.kernel.invokeFunction('convertToInteractive',\n",
              "                                                     [key], {});\n",
              "          if (!dataTable) return;\n",
              "\n",
              "          const docLinkHtml = 'Like what you see? Visit the ' +\n",
              "            '<a target=\"_blank\" href=https://colab.research.google.com/notebooks/data_table.ipynb>data table notebook</a>'\n",
              "            + ' to learn more about interactive tables.';\n",
              "          element.innerHTML = '';\n",
              "          dataTable['output_type'] = 'display_data';\n",
              "          await google.colab.output.renderOutput(dataTable, element);\n",
              "          const docLink = document.createElement('div');\n",
              "          docLink.innerHTML = docLinkHtml;\n",
              "          element.appendChild(docLink);\n",
              "        }\n",
              "      </script>\n",
              "    </div>\n",
              "  </div>\n",
              "  "
            ]
          },
          "metadata": {},
          "execution_count": 10
        }
      ]
    },
    {
      "cell_type": "code",
      "source": [
        "# Find out the largest top 10 states sightings\n",
        "states = USA['State'].value_counts().nlargest(10)\n",
        "\n",
        "# turn it into a dict\n",
        "states_dict = dict(states)\n",
        "\n",
        "# get the states into a list\n",
        "states_list = list(states_dict.keys())\n",
        "states_list"
      ],
      "metadata": {
        "colab": {
          "base_uri": "https://localhost:8080/"
        },
        "id": "p0E9ToI6tSbW",
        "outputId": "c276a0cc-1827-436e-80fc-3b17ffb0cbfd"
      },
      "execution_count": 11,
      "outputs": [
        {
          "output_type": "execute_result",
          "data": {
            "text/plain": [
              "['CA ', 'FL ', 'AZ ', 'WA ', 'NY ', 'NC ', 'PA ', 'CO ', 'IL ', 'OR ']"
            ]
          },
          "metadata": {},
          "execution_count": 11
        }
      ]
    },
    {
      "cell_type": "code",
      "source": [
        "# Filtering the dataframe more with the condition of the top 10 states\n",
        "new_states = USA[USA.State.isin(['CA ', 'FL ', 'AZ ', 'WA ', 'NY ', 'NC ', 'PA ', 'CO ', 'IL ', 'OR '])]\n",
        "\n",
        "# dropping other columns: event.date, location, country and course\n",
        "new_states.drop(['Event.Date', 'Location', 'Country', 'Source'], axis = 1, inplace = True)\n",
        "new_states"
      ],
      "metadata": {
        "colab": {
          "base_uri": "https://localhost:8080/",
          "height": 510
        },
        "id": "HGChhVwbtY9I",
        "outputId": "3f797220-0538-4410-bf76-35b1689e4084"
      },
      "execution_count": 12,
      "outputs": [
        {
          "output_type": "stream",
          "name": "stderr",
          "text": [
            "/usr/local/lib/python3.8/dist-packages/pandas/core/frame.py:4906: SettingWithCopyWarning: \n",
            "A value is trying to be set on a copy of a slice from a DataFrame\n",
            "\n",
            "See the caveats in the documentation: https://pandas.pydata.org/pandas-docs/stable/user_guide/indexing.html#returning-a-view-versus-a-copy\n",
            "  return super().drop(\n"
          ]
        },
        {
          "output_type": "execute_result",
          "data": {
            "text/plain": [
              "                    Shape State\n",
              "0     Boomerang/V-Shaped    IL \n",
              "2     Boomerang/V-Shaped    WA \n",
              "3     Boomerang/V-Shaped    CA \n",
              "5     Boomerang/V-Shaped    FL \n",
              "11    Boomerang/V-Shaped    AZ \n",
              "...                   ...   ...\n",
              "3614             Unknown    OR \n",
              "3618             Unknown    IL \n",
              "3619             Unknown    CA \n",
              "3623             Unknown    CO \n",
              "3628             Unknown    CA \n",
              "\n",
              "[1701 rows x 2 columns]"
            ],
            "text/html": [
              "\n",
              "  <div id=\"df-6e0a844a-4075-4ee8-b395-93e731b16bfa\">\n",
              "    <div class=\"colab-df-container\">\n",
              "      <div>\n",
              "<style scoped>\n",
              "    .dataframe tbody tr th:only-of-type {\n",
              "        vertical-align: middle;\n",
              "    }\n",
              "\n",
              "    .dataframe tbody tr th {\n",
              "        vertical-align: top;\n",
              "    }\n",
              "\n",
              "    .dataframe thead th {\n",
              "        text-align: right;\n",
              "    }\n",
              "</style>\n",
              "<table border=\"1\" class=\"dataframe\">\n",
              "  <thead>\n",
              "    <tr style=\"text-align: right;\">\n",
              "      <th></th>\n",
              "      <th>Shape</th>\n",
              "      <th>State</th>\n",
              "    </tr>\n",
              "  </thead>\n",
              "  <tbody>\n",
              "    <tr>\n",
              "      <th>0</th>\n",
              "      <td>Boomerang/V-Shaped</td>\n",
              "      <td>IL</td>\n",
              "    </tr>\n",
              "    <tr>\n",
              "      <th>2</th>\n",
              "      <td>Boomerang/V-Shaped</td>\n",
              "      <td>WA</td>\n",
              "    </tr>\n",
              "    <tr>\n",
              "      <th>3</th>\n",
              "      <td>Boomerang/V-Shaped</td>\n",
              "      <td>CA</td>\n",
              "    </tr>\n",
              "    <tr>\n",
              "      <th>5</th>\n",
              "      <td>Boomerang/V-Shaped</td>\n",
              "      <td>FL</td>\n",
              "    </tr>\n",
              "    <tr>\n",
              "      <th>11</th>\n",
              "      <td>Boomerang/V-Shaped</td>\n",
              "      <td>AZ</td>\n",
              "    </tr>\n",
              "    <tr>\n",
              "      <th>...</th>\n",
              "      <td>...</td>\n",
              "      <td>...</td>\n",
              "    </tr>\n",
              "    <tr>\n",
              "      <th>3614</th>\n",
              "      <td>Unknown</td>\n",
              "      <td>OR</td>\n",
              "    </tr>\n",
              "    <tr>\n",
              "      <th>3618</th>\n",
              "      <td>Unknown</td>\n",
              "      <td>IL</td>\n",
              "    </tr>\n",
              "    <tr>\n",
              "      <th>3619</th>\n",
              "      <td>Unknown</td>\n",
              "      <td>CA</td>\n",
              "    </tr>\n",
              "    <tr>\n",
              "      <th>3623</th>\n",
              "      <td>Unknown</td>\n",
              "      <td>CO</td>\n",
              "    </tr>\n",
              "    <tr>\n",
              "      <th>3628</th>\n",
              "      <td>Unknown</td>\n",
              "      <td>CA</td>\n",
              "    </tr>\n",
              "  </tbody>\n",
              "</table>\n",
              "<p>1701 rows × 2 columns</p>\n",
              "</div>\n",
              "      <button class=\"colab-df-convert\" onclick=\"convertToInteractive('df-6e0a844a-4075-4ee8-b395-93e731b16bfa')\"\n",
              "              title=\"Convert this dataframe to an interactive table.\"\n",
              "              style=\"display:none;\">\n",
              "        \n",
              "  <svg xmlns=\"http://www.w3.org/2000/svg\" height=\"24px\"viewBox=\"0 0 24 24\"\n",
              "       width=\"24px\">\n",
              "    <path d=\"M0 0h24v24H0V0z\" fill=\"none\"/>\n",
              "    <path d=\"M18.56 5.44l.94 2.06.94-2.06 2.06-.94-2.06-.94-.94-2.06-.94 2.06-2.06.94zm-11 1L8.5 8.5l.94-2.06 2.06-.94-2.06-.94L8.5 2.5l-.94 2.06-2.06.94zm10 10l.94 2.06.94-2.06 2.06-.94-2.06-.94-.94-2.06-.94 2.06-2.06.94z\"/><path d=\"M17.41 7.96l-1.37-1.37c-.4-.4-.92-.59-1.43-.59-.52 0-1.04.2-1.43.59L10.3 9.45l-7.72 7.72c-.78.78-.78 2.05 0 2.83L4 21.41c.39.39.9.59 1.41.59.51 0 1.02-.2 1.41-.59l7.78-7.78 2.81-2.81c.8-.78.8-2.07 0-2.86zM5.41 20L4 18.59l7.72-7.72 1.47 1.35L5.41 20z\"/>\n",
              "  </svg>\n",
              "      </button>\n",
              "      \n",
              "  <style>\n",
              "    .colab-df-container {\n",
              "      display:flex;\n",
              "      flex-wrap:wrap;\n",
              "      gap: 12px;\n",
              "    }\n",
              "\n",
              "    .colab-df-convert {\n",
              "      background-color: #E8F0FE;\n",
              "      border: none;\n",
              "      border-radius: 50%;\n",
              "      cursor: pointer;\n",
              "      display: none;\n",
              "      fill: #1967D2;\n",
              "      height: 32px;\n",
              "      padding: 0 0 0 0;\n",
              "      width: 32px;\n",
              "    }\n",
              "\n",
              "    .colab-df-convert:hover {\n",
              "      background-color: #E2EBFA;\n",
              "      box-shadow: 0px 1px 2px rgba(60, 64, 67, 0.3), 0px 1px 3px 1px rgba(60, 64, 67, 0.15);\n",
              "      fill: #174EA6;\n",
              "    }\n",
              "\n",
              "    [theme=dark] .colab-df-convert {\n",
              "      background-color: #3B4455;\n",
              "      fill: #D2E3FC;\n",
              "    }\n",
              "\n",
              "    [theme=dark] .colab-df-convert:hover {\n",
              "      background-color: #434B5C;\n",
              "      box-shadow: 0px 1px 3px 1px rgba(0, 0, 0, 0.15);\n",
              "      filter: drop-shadow(0px 1px 2px rgba(0, 0, 0, 0.3));\n",
              "      fill: #FFFFFF;\n",
              "    }\n",
              "  </style>\n",
              "\n",
              "      <script>\n",
              "        const buttonEl =\n",
              "          document.querySelector('#df-6e0a844a-4075-4ee8-b395-93e731b16bfa button.colab-df-convert');\n",
              "        buttonEl.style.display =\n",
              "          google.colab.kernel.accessAllowed ? 'block' : 'none';\n",
              "\n",
              "        async function convertToInteractive(key) {\n",
              "          const element = document.querySelector('#df-6e0a844a-4075-4ee8-b395-93e731b16bfa');\n",
              "          const dataTable =\n",
              "            await google.colab.kernel.invokeFunction('convertToInteractive',\n",
              "                                                     [key], {});\n",
              "          if (!dataTable) return;\n",
              "\n",
              "          const docLinkHtml = 'Like what you see? Visit the ' +\n",
              "            '<a target=\"_blank\" href=https://colab.research.google.com/notebooks/data_table.ipynb>data table notebook</a>'\n",
              "            + ' to learn more about interactive tables.';\n",
              "          element.innerHTML = '';\n",
              "          dataTable['output_type'] = 'display_data';\n",
              "          await google.colab.output.renderOutput(dataTable, element);\n",
              "          const docLink = document.createElement('div');\n",
              "          docLink.innerHTML = docLinkHtml;\n",
              "          element.appendChild(docLink);\n",
              "        }\n",
              "      </script>\n",
              "    </div>\n",
              "  </div>\n",
              "  "
            ]
          },
          "metadata": {},
          "execution_count": 12
        }
      ]
    },
    {
      "cell_type": "code",
      "source": [
        "# Find out the top 7 UFO shapes for the ten states\n",
        "state_shapes = USA['Shape'].value_counts().nlargest(7)\n",
        "\n",
        "# turn it into a dict\n",
        "shapes_dict = dict(state_shapes)\n",
        "\n",
        "# get the states into a list\n",
        "shape_list = list(shapes_dict.keys())\n",
        "shape_list"
      ],
      "metadata": {
        "colab": {
          "base_uri": "https://localhost:8080/"
        },
        "id": "Hyr2FzZ4w37E",
        "outputId": "88f64b31-3aca-4721-a090-7fb1d43f0df8"
      },
      "execution_count": 13,
      "outputs": [
        {
          "output_type": "execute_result",
          "data": {
            "text/plain": [
              "['Lights Only ',\n",
              " 'Circle ',\n",
              " 'Orb/Sphere ',\n",
              " 'Triangle ',\n",
              " 'Fireball ',\n",
              " 'Unknown ',\n",
              " 'Other ']"
            ]
          },
          "metadata": {},
          "execution_count": 13
        }
      ]
    },
    {
      "cell_type": "code",
      "source": [
        "# Filtering out the dataframe more for the 7 most common shapes\n",
        "new_states_shape = new_states[new_states.Shape.isin(['Lights Only ', 'Circle ', 'Orb/Sphere ',\n",
        "                                                     'Triangle ', 'Fireball ', 'Unknown ', 'Other '])]\n",
        "new_states_shape"
      ],
      "metadata": {
        "colab": {
          "base_uri": "https://localhost:8080/",
          "height": 424
        },
        "id": "sPdFDgyGgtzJ",
        "outputId": "8826e914-4c9a-4bbf-a6be-13c350235ddc"
      },
      "execution_count": 14,
      "outputs": [
        {
          "output_type": "execute_result",
          "data": {
            "text/plain": [
              "         Shape State\n",
              "178    Circle    OR \n",
              "179    Circle    CO \n",
              "181    Circle    NY \n",
              "195    Circle    NC \n",
              "196    Circle    CA \n",
              "...        ...   ...\n",
              "3614  Unknown    OR \n",
              "3618  Unknown    IL \n",
              "3619  Unknown    CA \n",
              "3623  Unknown    CO \n",
              "3628  Unknown    CA \n",
              "\n",
              "[1363 rows x 2 columns]"
            ],
            "text/html": [
              "\n",
              "  <div id=\"df-d4ae6bf7-3db3-49df-b207-1c98ca4649f4\">\n",
              "    <div class=\"colab-df-container\">\n",
              "      <div>\n",
              "<style scoped>\n",
              "    .dataframe tbody tr th:only-of-type {\n",
              "        vertical-align: middle;\n",
              "    }\n",
              "\n",
              "    .dataframe tbody tr th {\n",
              "        vertical-align: top;\n",
              "    }\n",
              "\n",
              "    .dataframe thead th {\n",
              "        text-align: right;\n",
              "    }\n",
              "</style>\n",
              "<table border=\"1\" class=\"dataframe\">\n",
              "  <thead>\n",
              "    <tr style=\"text-align: right;\">\n",
              "      <th></th>\n",
              "      <th>Shape</th>\n",
              "      <th>State</th>\n",
              "    </tr>\n",
              "  </thead>\n",
              "  <tbody>\n",
              "    <tr>\n",
              "      <th>178</th>\n",
              "      <td>Circle</td>\n",
              "      <td>OR</td>\n",
              "    </tr>\n",
              "    <tr>\n",
              "      <th>179</th>\n",
              "      <td>Circle</td>\n",
              "      <td>CO</td>\n",
              "    </tr>\n",
              "    <tr>\n",
              "      <th>181</th>\n",
              "      <td>Circle</td>\n",
              "      <td>NY</td>\n",
              "    </tr>\n",
              "    <tr>\n",
              "      <th>195</th>\n",
              "      <td>Circle</td>\n",
              "      <td>NC</td>\n",
              "    </tr>\n",
              "    <tr>\n",
              "      <th>196</th>\n",
              "      <td>Circle</td>\n",
              "      <td>CA</td>\n",
              "    </tr>\n",
              "    <tr>\n",
              "      <th>...</th>\n",
              "      <td>...</td>\n",
              "      <td>...</td>\n",
              "    </tr>\n",
              "    <tr>\n",
              "      <th>3614</th>\n",
              "      <td>Unknown</td>\n",
              "      <td>OR</td>\n",
              "    </tr>\n",
              "    <tr>\n",
              "      <th>3618</th>\n",
              "      <td>Unknown</td>\n",
              "      <td>IL</td>\n",
              "    </tr>\n",
              "    <tr>\n",
              "      <th>3619</th>\n",
              "      <td>Unknown</td>\n",
              "      <td>CA</td>\n",
              "    </tr>\n",
              "    <tr>\n",
              "      <th>3623</th>\n",
              "      <td>Unknown</td>\n",
              "      <td>CO</td>\n",
              "    </tr>\n",
              "    <tr>\n",
              "      <th>3628</th>\n",
              "      <td>Unknown</td>\n",
              "      <td>CA</td>\n",
              "    </tr>\n",
              "  </tbody>\n",
              "</table>\n",
              "<p>1363 rows × 2 columns</p>\n",
              "</div>\n",
              "      <button class=\"colab-df-convert\" onclick=\"convertToInteractive('df-d4ae6bf7-3db3-49df-b207-1c98ca4649f4')\"\n",
              "              title=\"Convert this dataframe to an interactive table.\"\n",
              "              style=\"display:none;\">\n",
              "        \n",
              "  <svg xmlns=\"http://www.w3.org/2000/svg\" height=\"24px\"viewBox=\"0 0 24 24\"\n",
              "       width=\"24px\">\n",
              "    <path d=\"M0 0h24v24H0V0z\" fill=\"none\"/>\n",
              "    <path d=\"M18.56 5.44l.94 2.06.94-2.06 2.06-.94-2.06-.94-.94-2.06-.94 2.06-2.06.94zm-11 1L8.5 8.5l.94-2.06 2.06-.94-2.06-.94L8.5 2.5l-.94 2.06-2.06.94zm10 10l.94 2.06.94-2.06 2.06-.94-2.06-.94-.94-2.06-.94 2.06-2.06.94z\"/><path d=\"M17.41 7.96l-1.37-1.37c-.4-.4-.92-.59-1.43-.59-.52 0-1.04.2-1.43.59L10.3 9.45l-7.72 7.72c-.78.78-.78 2.05 0 2.83L4 21.41c.39.39.9.59 1.41.59.51 0 1.02-.2 1.41-.59l7.78-7.78 2.81-2.81c.8-.78.8-2.07 0-2.86zM5.41 20L4 18.59l7.72-7.72 1.47 1.35L5.41 20z\"/>\n",
              "  </svg>\n",
              "      </button>\n",
              "      \n",
              "  <style>\n",
              "    .colab-df-container {\n",
              "      display:flex;\n",
              "      flex-wrap:wrap;\n",
              "      gap: 12px;\n",
              "    }\n",
              "\n",
              "    .colab-df-convert {\n",
              "      background-color: #E8F0FE;\n",
              "      border: none;\n",
              "      border-radius: 50%;\n",
              "      cursor: pointer;\n",
              "      display: none;\n",
              "      fill: #1967D2;\n",
              "      height: 32px;\n",
              "      padding: 0 0 0 0;\n",
              "      width: 32px;\n",
              "    }\n",
              "\n",
              "    .colab-df-convert:hover {\n",
              "      background-color: #E2EBFA;\n",
              "      box-shadow: 0px 1px 2px rgba(60, 64, 67, 0.3), 0px 1px 3px 1px rgba(60, 64, 67, 0.15);\n",
              "      fill: #174EA6;\n",
              "    }\n",
              "\n",
              "    [theme=dark] .colab-df-convert {\n",
              "      background-color: #3B4455;\n",
              "      fill: #D2E3FC;\n",
              "    }\n",
              "\n",
              "    [theme=dark] .colab-df-convert:hover {\n",
              "      background-color: #434B5C;\n",
              "      box-shadow: 0px 1px 3px 1px rgba(0, 0, 0, 0.15);\n",
              "      filter: drop-shadow(0px 1px 2px rgba(0, 0, 0, 0.3));\n",
              "      fill: #FFFFFF;\n",
              "    }\n",
              "  </style>\n",
              "\n",
              "      <script>\n",
              "        const buttonEl =\n",
              "          document.querySelector('#df-d4ae6bf7-3db3-49df-b207-1c98ca4649f4 button.colab-df-convert');\n",
              "        buttonEl.style.display =\n",
              "          google.colab.kernel.accessAllowed ? 'block' : 'none';\n",
              "\n",
              "        async function convertToInteractive(key) {\n",
              "          const element = document.querySelector('#df-d4ae6bf7-3db3-49df-b207-1c98ca4649f4');\n",
              "          const dataTable =\n",
              "            await google.colab.kernel.invokeFunction('convertToInteractive',\n",
              "                                                     [key], {});\n",
              "          if (!dataTable) return;\n",
              "\n",
              "          const docLinkHtml = 'Like what you see? Visit the ' +\n",
              "            '<a target=\"_blank\" href=https://colab.research.google.com/notebooks/data_table.ipynb>data table notebook</a>'\n",
              "            + ' to learn more about interactive tables.';\n",
              "          element.innerHTML = '';\n",
              "          dataTable['output_type'] = 'display_data';\n",
              "          await google.colab.output.renderOutput(dataTable, element);\n",
              "          const docLink = document.createElement('div');\n",
              "          docLink.innerHTML = docLinkHtml;\n",
              "          element.appendChild(docLink);\n",
              "        }\n",
              "      </script>\n",
              "    </div>\n",
              "  </div>\n",
              "  "
            ]
          },
          "metadata": {},
          "execution_count": 14
        }
      ]
    },
    {
      "cell_type": "code",
      "source": [
        "# Grouping it by state and counting each shape or size\n",
        "grouped_state_shapes = new_states_shape.groupby(['State', 'Shape']).size()\n",
        "grouped_state_shapes"
      ],
      "metadata": {
        "colab": {
          "base_uri": "https://localhost:8080/"
        },
        "id": "yoK7OsV-1GgE",
        "outputId": "b719eff3-8393-4b61-cf3f-6b1a27122e75"
      },
      "execution_count": 15,
      "outputs": [
        {
          "output_type": "execute_result",
          "data": {
            "text/plain": [
              "State  Shape       \n",
              "AZ     Circle          12\n",
              "       Fireball         9\n",
              "       Lights Only     68\n",
              "       Orb/Sphere      17\n",
              "       Other           13\n",
              "                       ..\n",
              "WA     Lights Only     50\n",
              "       Orb/Sphere      20\n",
              "       Other            9\n",
              "       Triangle        12\n",
              "       Unknown         12\n",
              "Length: 70, dtype: int64"
            ]
          },
          "metadata": {},
          "execution_count": 15
        }
      ]
    },
    {
      "cell_type": "code",
      "source": [
        "# Then for each state plot a stacked bar where each color of the stack corresponds to the number of sightings in that state for a particular UFO shape. \n",
        "# Label the x-axis with the State abbreviation.\n",
        "new_colors = ['lightcoral', 'sandybrown','cornsilk', 'lightgreen','lightskyblue','plum','lightpink']\n",
        "grouped_state_shapes.unstack().plot(kind='bar', color = new_colors, stacked=True)\n",
        "\n",
        "# Label the graph\n",
        "plt.title(\"Top 7 UFO Shapes for 10 States with Highest Number of Sightings\")\n",
        "plt.ylabel('Number of Sightings')"
      ],
      "metadata": {
        "colab": {
          "base_uri": "https://localhost:8080/",
          "height": 920
        },
        "id": "g9P6q5HnQBV1",
        "outputId": "74db0369-f74f-4e8c-e478-9c024d237167"
      },
      "execution_count": 16,
      "outputs": [
        {
          "output_type": "execute_result",
          "data": {
            "text/plain": [
              "Text(0, 0.5, 'Number of Sightings')"
            ]
          },
          "metadata": {},
          "execution_count": 16
        },
        {
          "output_type": "display_data",
          "data": {
            "text/plain": [
              "<Figure size 1080x1080 with 1 Axes>"
            ],
            "image/png": "[encoded data removed]"
          },
          "metadata": {
            "needs_background": "light"
          }
        }
      ]
    }
  ],
  "metadata": {
    "kernelspec": {
      "display_name": "Python 3 (ipykernel)",
      "language": "python",
      "name": "python3"
    },
    "language_info": {
      "codemirror_mode": {
        "name": "ipython",
        "version": 3
      },
      "file_extension": ".py",
      "mimetype": "text/x-python",
      "name": "python",
      "nbconvert_exporter": "python",
      "pygments_lexer": "ipython3",
      "version": "3.10.4"
    },
    "colab": {
      "provenance": []
    }
  },
  "nbformat": 4,
  "nbformat_minor": 0
}