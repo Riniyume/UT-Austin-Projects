{
 "cells": [
  {
   "cell_type": "code",
   "execution_count": 1,
   "id": "a271eee9-5499-4eea-b685-f264a00bcb95",
   "metadata": {},
   "outputs": [],
   "source": [
    "HOST=\"10.100.32.3\"\n",
    "USER =\"root\"\n",
    "PW=\"Pokemon01\"\n",
    "DB=\"final_project\""
   ]
  },
  {
   "cell_type": "code",
   "execution_count": 2,
   "id": "6a639eae-01dc-4aa6-a395-d22064cd4869",
   "metadata": {},
   "outputs": [
    {
     "name": "stdout",
     "output_type": "stream",
     "text": [
      "Requirement already satisfied: mysql-connector-python in /opt/conda/lib/python3.10/site-packages (8.2.0)\n",
      "Requirement already satisfied: protobuf<=4.21.12,>=4.21.1 in /opt/conda/lib/python3.10/site-packages (from mysql-connector-python) (4.21.12)\n"
     ]
    }
   ],
   "source": [
    "!pip install mysql-connector-python"
   ]
  },
  {
   "cell_type": "code",
   "execution_count": 3,
   "id": "b5ab19b3-7b8c-4436-87f6-ab6534ff9737",
   "metadata": {},
   "outputs": [],
   "source": [
    "import mysql.connector\n",
    "\n",
    "def connect():\n",
    "    connection = mysql.connector.connect(\n",
    "    host=HOST,\n",
    "    user=USER,\n",
    "    password=PW,\n",
    "    database=DB,\n",
    "    autocommit=False)\n",
    "    \n",
    "    return connection"
   ]
  },
  {
   "cell_type": "code",
   "execution_count": 4,
   "id": "b91ff432-df98-40ff-b0d8-4eeff2e26838",
   "metadata": {},
   "outputs": [
    {
     "name": "stdout",
     "output_type": "stream",
     "text": [
      "<mysql.connector.connection_cext.CMySQLConnection object at 0x7fb8b2b5cbb0>\n"
     ]
    }
   ],
   "source": [
    "import mysql.connector\n",
    "\n",
    "connection = connect()\n",
    "\n",
    "print(connection)"
   ]
  },
  {
   "cell_type": "code",
   "execution_count": 5,
   "id": "39990e72-112d-4255-a71a-cfd8b43e8cb4",
   "metadata": {},
   "outputs": [],
   "source": [
    "HOST = \"10.100.32.11\"\n",
    "USER = \"postgres\"\n",
    "PW=\"Pokemon01\"\n",
    "DB=\"postgres\""
   ]
  },
  {
   "cell_type": "code",
   "execution_count": 6,
   "id": "f2e99297-2f76-40b1-875c-89d96a8cbdb6",
   "metadata": {},
   "outputs": [],
   "source": [
    "import psycopg\n",
    "\n",
    "def connect():\n",
    "    \n",
    "    url = \"dbname='{}' user='{}' host={} port=5432 password={}\".format(DB, USER, HOST, PW)\n",
    "    connection = psycopg.connect(url)\n",
    "\n",
    "    return connection"
   ]
  },
  {
   "cell_type": "code",
   "execution_count": null,
   "id": "b6e05f07-f568-4d63-aae5-ca83ae20e866",
   "metadata": {},
   "outputs": [
    {
     "name": "stdout",
     "output_type": "stream",
     "text": [
      "Requirement already satisfied: Faker in /opt/conda/lib/python3.10/site-packages (20.0.3)\n",
      "Requirement already satisfied: python-dateutil>=2.4 in /opt/conda/lib/python3.10/site-packages (from Faker) (2.8.2)\n",
      "Requirement already satisfied: six>=1.5 in /opt/conda/lib/python3.10/site-packages (from python-dateutil>=2.4->Faker) (1.16.0)\n"
     ]
    }
   ],
   "source": [
    "#library helps us generate fake data \n",
    "!pip install Faker"
   ]
  },
  {
   "cell_type": "code",
   "execution_count": null,
   "id": "214fd66b-7bb0-47e7-8a83-76b2cc6bb227",
   "metadata": {},
   "outputs": [
    {
     "name": "stdout",
     "output_type": "stream",
     "text": [
      "<psycopg.Connection [IDLE] (host=10.100.32.11 database=postgres) at 0x7fb8b2b5c3a0>\n"
     ]
    }
   ],
   "source": [
    "import psycopg\n",
    "\n",
    "connection = connect()\n",
    "\n",
    "print(connection)"
   ]
  },
  {
   "cell_type": "code",
   "execution_count": null,
   "id": "6819468c-a4ac-466d-85a6-ed50e1e88df7",
   "metadata": {},
   "outputs": [
    {
     "name": "stdout",
     "output_type": "stream",
     "text": [
      "<psycopg.Connection [IDLE] (host=10.100.32.11 database=postgres) at 0x7fb8b1936290>\n",
      "DROP TABLE IF EXISTS final_project.person\n",
      "CREATE TABLE final_project.person(\n",
      "    id SERIAL PRIMARY KEY,\n",
      "    first_name VARCHAR(20) NOT NULL,\n",
      "    last_name VARCHAR(23) NOT NULL,\n",
      "    company VARCHAR(40) NOT NULL, \n",
      "    address VARCHAR(41) NOT NULL,\n",
      "    city VARCHAR(29) NOT NULL,\n",
      "    county VARCHAR(30) NOT NULL, \n",
      "    state CHAR(2)NOT NULL, \n",
      "    zip CHAR(5) NOT NULL,\n",
      "    phone_1 CHAR(12) NOT NULL,\n",
      "    phone_2 CHAR(12)NOT NULL,\n",
      "    email VARCHAR(44) NOT NULL,\n",
      "    web VARCHAR(52) NOT NULL\n",
      ") \n",
      "Dropped person table\n",
      "Created person table\n"
     ]
    }
   ],
   "source": [
    "import psycopg\n",
    "\n",
    "connection = connect()\n",
    "print(connection)\n",
    "\n",
    "drop = 'DROP TABLE IF EXISTS final_project.person'\n",
    "\n",
    "create = '''CREATE TABLE final_project.person(\n",
    "    id SERIAL PRIMARY KEY,\n",
    "    first_name VARCHAR(20) NOT NULL,\n",
    "    last_name VARCHAR(23) NOT NULL,\n",
    "    company VARCHAR(40) NOT NULL, \n",
    "    address VARCHAR(41) NOT NULL,\n",
    "    city VARCHAR(29) NOT NULL,\n",
    "    county VARCHAR(30) NOT NULL, \n",
    "    state CHAR(2)NOT NULL, \n",
    "    zip CHAR(5) NOT NULL,\n",
    "    phone_1 CHAR(12) NOT NULL,\n",
    "    phone_2 CHAR(12)NOT NULL,\n",
    "    email VARCHAR(44) NOT NULL,\n",
    "    web VARCHAR(52) NOT NULL\n",
    ") '''\n",
    "\n",
    "print(drop)\n",
    "print(create)\n",
    "\n",
    "try:\n",
    "    \n",
    "    cursor = connection.cursor()\n",
    "    cursor.execute(drop)\n",
    "    print('Dropped person table')\n",
    "    \n",
    "    cursor = connection.cursor()\n",
    "    cursor.execute(create)\n",
    "    print('Created person table')\n",
    "    \n",
    "    connection.commit() # commit the changes \n",
    "except Exception as e:\n",
    "    print(\"Error occurred while creating person table:\", e)\n",
    "    print(\"Error occurred while creating person table:\", e)"
   ]
  },
  {
   "cell_type": "code",
   "execution_count": null,
   "id": "5fef836e-94de-48a4-a679-a9fd3fd0de61",
   "metadata": {},
   "outputs": [
    {
     "name": "stdout",
     "output_type": "stream",
     "text": [
      "<psycopg.Connection [IDLE] (host=10.100.32.11 database=postgres) at 0x7fb8b19361d0>\n",
      "Wrote 3 records into person table\n"
     ]
    }
   ],
   "source": [
    "import psycopg\n",
    "\n",
    "connection = connect()\n",
    "print(connection)\n",
    "\n",
    "sql = \"INSERT INTO final_project.person (first_name, last_name, company, address, city, county, state, zip, phone_1,\\\n",
    "       phone_2, email, web) VALUES (%s, %s, %s, %s, %s, %s, %s, %s, %s, %s, %s, %s)\"\n",
    "rec1 = (\"James\",\"Butt\",\"Benton, John B Jr\",\"6649 N Blue Gum St\",\\\n",
    "\t  \"New Orleans\",\"Orleans\",\"LA\",\"70116\",\"504-621-8927\",\"504-845-1427\",\"jbutt@gmail.com\",\"http://www.bentonjohnbjr.com\")\n",
    "rec2 = (\"Josephine\",\"Darakjy\",\"Chanay, Jeffrey A Esq\",\"4 B Blue Ridge Blvd\",\"Brighton\",\"Livingston\",\"MI\",\"48116\",\\\n",
    "        \"810-292-9388\",\"810-374-9840\",\"josephine_darakjy@darakjy.org\",\"http://www.chanayjeffreyaesq.com\")\n",
    "rec3 = (\"Art\",\"Venere\",\"Chemel, James L Cpa\",\"8 W Cerritos Ave #54\",\"Bridgeport\",\"Gloucester\",\"NJ\",\"08014\",\\\n",
    "        \"856-636-8749\",\"856-264-4130\",\"art@venere.org\",\"http://www.chemeljameslcpa.com\")\n",
    "\n",
    "records = [rec1, rec2, rec3]\n",
    "\n",
    "try:\n",
    "    cursor = connection.cursor()\n",
    "    \n",
    "    for rec in records:\n",
    "        cursor.execute(sql, rec)\n",
    "    \n",
    "    connection.commit()\n",
    "    print(\"Wrote 3 records into person table\")\n",
    "        \n",
    "except Exception as e:\n",
    "    print(\"Failed to insert record into person table:\", e)"
   ]
  },
  {
   "cell_type": "code",
   "execution_count": null,
   "id": "3621c205-f719-4113-a708-7e1bd0e5eeb2",
   "metadata": {},
   "outputs": [
    {
     "name": "stdout",
     "output_type": "stream",
     "text": [
      "<psycopg.Connection [IDLE] (host=10.100.32.11 database=postgres) at 0x7fb8b1935a20>\n",
      "Wrote 3 records into person table\n"
     ]
    }
   ],
   "source": [
    "import psycopg\n",
    "\n",
    "connection = connect()\n",
    "print(connection)\n",
    "\n",
    "sql = \"INSERT INTO final_project.person (first_name, last_name, company, address, city, county, state, zip, phone_1,\\\n",
    "       phone_2, email, web) VALUES (%s, %s, %s, %s, %s, %s, %s, %s, %s, %s, %s, %s)\"\n",
    "rec1 = (\"James\",\"Butt\",\"Benton, John B Jr\",\"6649 N Blue Gum St\",\\\n",
    "\t  \"New Orleans\",\"Orleans\",\"LA\",\"70116\",\"504-621-8927\",\"504-845-1427\",\"jbutt@gmail.com\",\"http://www.bentonjohnbjr.com\")\n",
    "rec2 = (\"Josephine\",\"Darakjy\",\"Chanay, Jeffrey A Esq\",\"4 B Blue Ridge Blvd\",\"Brighton\",\"Livingston\",\"MI\",\"48116\",\\\n",
    "        \"810-292-9388\",\"810-374-9840\",\"josephine_darakjy@darakjy.org\",\"http://www.chanayjeffreyaesq.com\")\n",
    "rec3 = (\"Art\",\"Venere\",\"Chemel, James L Cpa\",\"8 W Cerritos Ave #54\",\"Bridgeport\",\"Gloucester\",\"NJ\",\"08014\",\\\n",
    "        \"856-636-8749\",\"856-264-4130\",\"art@venere.org\",\"http://www.chemeljameslcpa.com\")\n",
    "\n",
    "records = [rec1, rec2, rec3]\n",
    "\n",
    "try:\n",
    "    cursor = connection.cursor()\n",
    "    \n",
    "    for rec in records:\n",
    "        cursor.execute(sql, rec)\n",
    "    \n",
    "    connection.commit()\n",
    "    print(\"Wrote 3 records into person table\")\n",
    "        \n",
    "except Exception as e:\n",
    "    print(\"Failed to insert record into person table:\", e)"
   ]
  },
  {
   "cell_type": "markdown",
   "id": "a952157b-ebbd-4ba9-a05a-6c2537dd8be9",
   "metadata": {},
   "source": [
    "#Code Sample from Milestone 1: https://github.com/cs327e-fall2023/snippets/blob/main/milestone1_postgres.ipynb\n",
    "#Description: Creating Table\n",
    "import psycopg\n",
    "\n",
    "connection = connect()\n",
    "print(connection)\n",
    "\n",
    "drop = 'DROP TABLE IF EXISTS person'\n",
    "\n",
    "create = '''CREATE TABLE person(\n",
    "    id SERIAL PRIMARY KEY,\n",
    "    first_name VARCHAR(20) NOT NULL,\n",
    "    last_name VARCHAR(23) NOT NULL,\n",
    "    company VARCHAR(40) NOT NULL, \n",
    "    address VARCHAR(41) NOT NULL,\n",
    "    city VARCHAR(29) NOT NULL,\n",
    "    county VARCHAR(30) NOT NULL, \n",
    "    state CHAR(2)NOT NULL, \n",
    "    zip CHAR(5) NOT NULL,\n",
    "    phone_1 CHAR(12) NOT NULL,\n",
    "    phone_2 CHAR(12)NOT NULL,\n",
    "    email VARCHAR(44) NOT NULL,\n",
    "    web VARCHAR(52) NOT NULL\n",
    ") '''\n",
    "\n",
    "print(drop)\n",
    "print(create)\n",
    "\n",
    "try:\n",
    "    \n",
    "    cursor = connection.cursor()\n",
    "    cursor.execute(drop)\n",
    "    print('Dropped person table')\n",
    "    \n",
    "    cursor = connection.cursor()\n",
    "    cursor.execute(create)\n",
    "    print('Created person table')\n",
    "    \n",
    "    connection.commit() # commit the changes \n",
    "except Exception as e:\n",
    "    print(\"Error occurred while creating person table:\", e)"
   ]
  },
  {
   "cell_type": "markdown",
   "id": "7f35bb57-1dab-4cf4-a5be-795532650c93",
   "metadata": {},
   "source": [
    "#Code Sample from Milestone 1: https://github.com/cs327e-fall2023/snippets/blob/main/milestone1_postgres.ipynb\n",
    "#Description: Inserting records into table.\n",
    "import psycopg\n",
    "\n",
    "connection = connect()\n",
    "print(connection)\n",
    "\n",
    "sql = \"INSERT INTO person (first_name, last_name, company, address, city, county, state, zip, phone_1,\\\n",
    "       phone_2, email, web) VALUES (%s, %s, %s, %s, %s, %s, %s, %s, %s, %s, %s, %s)\"\n",
    "rec1 = (\"James\",\"Butt\",\"Benton, John B Jr\",\"6649 N Blue Gum St\",\\\n",
    "\t  \"New Orleans\",\"Orleans\",\"LA\",\"70116\",\"504-621-8927\",\"504-845-1427\",\"jbutt@gmail.com\",\"http://www.bentonjohnbjr.com\")\n",
    "rec2 = (\"Josephine\",\"Darakjy\",\"Chanay, Jeffrey A Esq\",\"4 B Blue Ridge Blvd\",\"Brighton\",\"Livingston\",\"MI\",\"48116\",\\\n",
    "        \"810-292-9388\",\"810-374-9840\",\"josephine_darakjy@darakjy.org\",\"http://www.chanayjeffreyaesq.com\")\n",
    "rec3 = (\"Art\",\"Venere\",\"Chemel, James L Cpa\",\"8 W Cerritos Ave #54\",\"Bridgeport\",\"Gloucester\",\"NJ\",\"08014\",\\\n",
    "        \"856-636-8749\",\"856-264-4130\",\"art@venere.org\",\"http://www.chemeljameslcpa.com\")\n",
    "\n",
    "records = [rec1, rec2, rec3]\n",
    "\n",
    "try:\n",
    "    cursor = connection.cursor()\n",
    "    \n",
    "    for rec in records:\n",
    "        cursor.execute(sql, rec)\n",
    "    \n",
    "    connection.commit()\n",
    "    print(\"Wrote 3 records into person table\")\n",
    "        \n",
    "except Exception as e:\n",
    "    print(\"Failed to insert record into person table:\", e)"
   ]
  },
  {
   "cell_type": "raw",
   "id": "183c9e51-c498-4596-8969-46552e6fcac3",
   "metadata": {},
   "source": [
    "import psycopg\n",
    "\n",
    "connection = connect()\n",
    "print(connection)\n",
    "\n",
    "create = \"CREATE SCHEMA reservations\"\n",
    "setschema = \"SET SCHEMA 'reservations'\"\n",
    "setconfig = \"\"\"SET statement_timeout = 0;\\n\n",
    "    SET lock_timeout = 0; \\n\n",
    "    SET idle_in_transaction_session_timeout = 0;\\n\n",
    "    SET client_encoding = 'UTF8';\\n\n",
    "    SET standard_conforming_strings = on;\\n\n",
    "    SET check_function_bodies = false;\\n\n",
    "    SET client_min_messages = warning;\\n\n",
    "    SET row_security = off \"\"\"\n",
    "\n",
    "\n",
    "\n",
    "     \n",
    "try:\n",
    "    cursor = connection.cursor()\n",
    "    #cursor.execute(\"CREATE SCHEMA reservations\")\n",
    "    #cursor.execute(\"SET SCHEMA 'reservations'\")\n",
    "    #cursor.execute(\"SET statement_timeout = 0; SET lock_timeout = 0; SET idle_in_transaction_session_timeout = 0; SET client_encoding = 'UTF8'; SET standard_conforming_strings = on; SET check_function_bodies = false; SET client_min_messages = warning; SET row_security = off\")\n",
    "    \n",
    "    for rec in records:\n",
    "        cursor.execute(sql, rec)\n",
    "    \n",
    "    \n",
    "    connection.commit()\n",
    "    #print(create)\n",
    "    #print(setschema)\n",
    "    #print(setconfig)\n",
    "    #print(\"Wrote 100 records into reservations table\")\n",
    "   \n",
    "        \n",
    "except Exception as e:\n",
    "    print(\"Failed to insert record into reservations table:\", e)\n",
    "    \n"
   ]
  },
  {
   "cell_type": "code",
   "execution_count": null,
   "id": "57b34e98-da5c-425e-9512-a6fcaf64a62e",
   "metadata": {},
   "outputs": [
    {
     "name": "stdout",
     "output_type": "stream",
     "text": [
      "<psycopg.Connection [IDLE] (host=10.100.32.11 database=postgres) at 0x7fb8b1935e10>\n",
      "DROP TABLE IF EXISTS reservations\n",
      "CREATE TABLE reservations(\n",
      "    res_id SERIAL PRIMARY KEY,\n",
      "    cust_id VARCHAR(50) NOT NULL,\n",
      "    prp_nm VARCHAR(40) NOT NULL,\n",
      "    prp_ch VARCHAR(23) NOT NULL,\n",
      "    adr_line_1 VARCHAR(40) NOT NULL, \n",
      "    adr_line_2 VARCHAR(41) NOT NULL,\n",
      "    city VARCHAR(29) NOT NULL,\n",
      "    state CHAR(2)NOT NULL, \n",
      "    postal_cd CHAR(5) NOT NULL,\n",
      "    lat FLOAT NOT NULL,\n",
      "    long FLOAT NOT NULL,\n",
      "    cnt_code CHAR(20) NOT NULL,\n",
      "    arr_date DATE, \n",
      "    dep_date DATE, \n",
      "    pmt_amt INT NOT NULL\n",
      ") \n",
      "Dropped reservations table\n",
      "Created reservations table\n"
     ]
    }
   ],
   "source": [
    "import psycopg\n",
    "\n",
    "connection = connect()\n",
    "print(connection)\n",
    "\n",
    "drop = 'DROP TABLE IF EXISTS reservations'\n",
    "\n",
    "create = '''CREATE TABLE reservations(\n",
    "    res_id SERIAL PRIMARY KEY,\n",
    "    cust_id VARCHAR(50) NOT NULL,\n",
    "    prp_nm VARCHAR(40) NOT NULL,\n",
    "    prp_ch VARCHAR(23) NOT NULL,\n",
    "    adr_line_1 VARCHAR(40) NOT NULL, \n",
    "    adr_line_2 VARCHAR(41) NOT NULL,\n",
    "    city VARCHAR(29) NOT NULL,\n",
    "    state CHAR(2)NOT NULL, \n",
    "    postal_cd CHAR(5) NOT NULL,\n",
    "    lat FLOAT NOT NULL,\n",
    "    long FLOAT NOT NULL,\n",
    "    cnt_code CHAR(20) NOT NULL,\n",
    "    arr_date DATE, \n",
    "    dep_date DATE, \n",
    "    pmt_amt INT NOT NULL\n",
    ") '''\n",
    "\n",
    "print(drop)\n",
    "print(create)\n",
    "\n",
    "try:\n",
    "    \n",
    "    cursor = connection.cursor()\n",
    "    cursor.execute(drop)\n",
    "    print('Dropped reservations table')\n",
    "    \n",
    "    cursor = connection.cursor()\n",
    "    cursor.execute(create)\n",
    "    print('Created reservations table')\n",
    "    \n",
    "    connection.commit() # commit the changes \n",
    "except Exception as e:\n",
    "    print(\"Error occurred while creating reservations table:\", e)\n",
    "    \n",
    "#schema continued\n",
    "#alter = \"ALTER TABLE reservations OWNER TO postgres\"\n"
   ]
  },
  {
   "cell_type": "markdown",
   "id": "a9f3fecc-1c06-4a38-9722-71c08a138d48",
   "metadata": {},
   "source": [
    "# Write a data generator that populates the reservations table with 100 unique records. Your code should produce the following output:"
   ]
  },
  {
   "cell_type": "markdown",
   "id": "ffbb361b-19d6-4b29-88c7-a7e5fcb0f962",
   "metadata": {},
   "source": [
    "HOST = \"10.100.32.11\"\n",
    "USER = \"postgres\"\n",
    "PW=\"Pokemon01\"\n",
    "DB=\"postgres\""
   ]
  },
  {
   "cell_type": "code",
   "execution_count": null,
   "id": "2d332e80-a670-45fc-a068-8fce19d31522",
   "metadata": {},
   "outputs": [
    {
     "name": "stdout",
     "output_type": "stream",
     "text": [
      "<psycopg.Connection [IDLE] (host=10.100.32.11 database=postgres) at 0x7fb8abdb5c00>\n",
      "Wrote 100 records into reservations table\n"
     ]
    }
   ],
   "source": [
    "from faker import Faker\n",
    "import psycopg\n",
    "\n",
    "connection = connect()\n",
    "print(connection)\n",
    "\n",
    "fake = Faker()\n",
    "Faker.seed(30)\n",
    "\n",
    "sql = \"INSERT INTO reservations (cust_id, prp_nm, prp_ch, adr_line_1, adr_line_2, city, state, postal_cd , lat, long, cnt_code, arr_date, dep_date, pmt_amt\\\n",
    "      ) VALUES (%s, %s, %s, %s, %s, %s, %s, %s, %s, %s, %s, %s, %s, %s)\"\n",
    "records = []\n",
    "for i in range(0, 100):\n",
    "    \n",
    "    cust_id = str(fake.uuid4()) #cust_id\n",
    "    prp_nm = fake.company() #prp_nm\n",
    "    prp_ch = fake.ssn() #prp_ch\n",
    "    \n",
    "    \n",
    "    \n",
    "    a = fake.address()\n",
    "    street1 = \"\"\n",
    "    street2 = \"\"\n",
    "    \n",
    "    if \"PO\" in a:\n",
    "        if \"Box\" in a.split():\n",
    "            a = a.split(\"\\n\")  #trying to get box which splits first and second line\n",
    "            b = a[0].split(\"Box \") #splits first and second box (can't include comma bc might be a unit)\n",
    "            if b[0].find(\", Box\"):\n",
    "                street1 = b[0].rstrip(\", \")\n",
    "            else: \n",
    "                street1 = b[0]\n",
    "            street2 = 'Box ' + b[1] #box number should go in street2\n",
    "            rest = a[1].split()\n",
    "            city = rest[0] #either be FPO/APO \n",
    "            state = rest[1] #either AE, AP, AA\n",
    "            zip_code = rest[2] #5 digit zip code. \n",
    "            info = (street1, street2, city, state, zip_code)\n",
    "            \n",
    "            \n",
    "        \n",
    "        if a[0].find('Box') == -1:\n",
    "            a = a.split(\"\\n\")\n",
    "            street1 = a[0]\n",
    "            b = a[1].split()\n",
    "            city = b[0]\n",
    "            state = b[1]\n",
    "            zip_code = b[2]\n",
    "            info = (street1, street2, city, state, zip_code)\n",
    "            \n",
    "            \n",
    "            \n",
    "\n",
    "\n",
    "    else: \n",
    "        b = a.split(', ') #parsing thru state: finds us STATE & zip code) \n",
    "        state_and_zip = b[1].split(' ') #state_and_zip[0] = state; state_and_zip[1] = zipcode\n",
    "        state = state_and_zip[0]\n",
    "        zip_code = state_and_zip[1] \n",
    "\n",
    "        c = a.split('\\n') #finding city, c[1] gives us both street1 and street2\n",
    "        d = c[1].split(', ')\n",
    "        city = d[0]\n",
    "        e = []\n",
    "        street = c[0]\n",
    "        street1 = street\n",
    "\n",
    "\n",
    "        if \"Apt\" in street:\n",
    "            e = street.split(\"Apt. \")\n",
    "            street1 = e[0]\n",
    "            street2 = 'Apt. ' + e[1]\n",
    "        elif \"Suite\" in street:\n",
    "            e = street.split(\"Suite \")\n",
    "            street1 = e[0]\n",
    "            street2 = 'Suite ' + e[1]\n",
    "\n",
    "        info = (street1, street2, city, state, zip_code)\n",
    "        \n",
    "    adr_line_1 = street1\n",
    "    adr_line_2 = street2\n",
    "    postal_cd = zip_code\n",
    "    lat = float(fake.latitude())\n",
    "    long = float(fake.longitude())\n",
    "    cnt_code = fake.country_code() #need a join key\n",
    "    arr_date = fake.date() #arr time\n",
    "    dep_date = fake.date() #dept date\n",
    "    pmt_amt = fake.pyint() #payment amount\n",
    "    string = cust_id, prp_nm, prp_ch, adr_line_1, adr_line_2, city, state, postal_cd , lat, long, cnt_code, arr_date, dep_date, pmt_amt\n",
    "    records.append(string)\n",
    "    \n",
    "   \n",
    "\n",
    "        \n",
    "try:\n",
    "    cursor = connection.cursor()\n",
    "    #cursor.execute(\"CREATE SCHEMA reservations\")\n",
    "    \n",
    "    for rec in records:\n",
    "        cursor.execute(sql, rec)\n",
    "    \n",
    "    \n",
    "    connection.commit()\n",
    "    print(\"Wrote 100 records into reservations table\")\n",
    "   \n",
    "        \n",
    "except Exception as e:\n",
    "    print(\"Failed to insert record into reservations table:\", e)\n",
    "\n",
    "    "
   ]
  }
 ],
 "metadata": {
  "environment": {
   "kernel": "python3",
   "name": "common-cpu.m111",
   "type": "gcloud",
   "uri": "gcr.io/deeplearning-platform-release/base-cpu:m111"
  },
  "kernelspec": {
   "display_name": "Python 3",
   "language": "python",
   "name": "python3"
  },
  "language_info": {
   "codemirror_mode": {
    "name": "ipython",
    "version": 3
   },
   "file_extension": ".py",
   "mimetype": "text/x-python",
   "name": "python",
   "nbconvert_exporter": "python",
   "pygments_lexer": "ipython3",
   "version": "3.10.12"
  }
 },
 "nbformat": 4,
 "nbformat_minor": 5
}
