{
 "cells": [
  {
   "cell_type": "markdown",
   "id": "12b8e081-97e3-4a6c-b9a1-123f64d222db",
   "metadata": {},
   "source": [
    "## PART 1: DEPLOYMENT (LAST OPTIONAL STEP)"
   ]
  },
  {
   "cell_type": "markdown",
   "id": "95880ccc-a37f-4d89-bcf2-d37e99feb388",
   "metadata": {},
   "source": [
    "### Final Project, Milestone 2\n",
    "#### Before running, replace the IP address below with your Trino VM's internal IP. Do not change the port number.\n",
    "#### Before running, start up your MySQL and Postgres Cloud SQL instances and make sure they are up before you try to connect to these databases."
   ]
  },
  {
   "cell_type": "code",
   "execution_count": 1,
   "id": "f5df7f24-f7c0-4b9b-a26d-2128520b89ef",
   "metadata": {},
   "outputs": [],
   "source": [
    "URL=\"http://10.128.0.6:8080\""
   ]
  },
  {
   "cell_type": "code",
   "execution_count": 2,
   "id": "9446e7a1-e3a9-47f3-9e99-c2427557d09c",
   "metadata": {},
   "outputs": [
    {
     "name": "stdout",
     "output_type": "stream",
     "text": [
      "\"bigquery\"\n",
      "\"mongo\"\n",
      "\"mysql\"\n",
      "\"postgres\"\n",
      "\"system\"\n",
      "\"tpch\"\n"
     ]
    }
   ],
   "source": [
    "!trino $URL --execute \"show catalogs\""
   ]
  },
  {
   "cell_type": "markdown",
   "id": "099d0475-5cf5-4b79-a345-251d13773a22",
   "metadata": {},
   "source": [
    "### Querying MySQL through Trino:"
   ]
  },
  {
   "cell_type": "code",
   "execution_count": 3,
   "id": "54c97d38-41dc-4dcf-a100-4ccb6d0b1409",
   "metadata": {},
   "outputs": [
    {
     "name": "stdout",
     "output_type": "stream",
     "text": [
      "\"college\"\n",
      "\"final_project\"\n",
      "\"information_schema\"\n",
      "\"performance_schema\"\n",
      "\"sakila\"\n"
     ]
    }
   ],
   "source": [
    "!trino $URL --execute \"show schemas from mysql\""
   ]
  },
  {
   "cell_type": "code",
   "execution_count": 4,
   "id": "1244b21f-af2f-4c57-a8ac-0466d210f638",
   "metadata": {},
   "outputs": [
    {
     "name": "stdout",
     "output_type": "stream",
     "text": [
      "\"class\"\n",
      "\"instructor\"\n",
      "\"student\"\n",
      "\"teaches\"\n"
     ]
    }
   ],
   "source": [
    "!trino $URL --execute \"show tables from mysql.college\""
   ]
  },
  {
   "cell_type": "code",
   "execution_count": 5,
   "id": "8bcb5198-ba71-46a7-a97d-cc919b2ec94e",
   "metadata": {},
   "outputs": [
    {
     "name": "stdout",
     "output_type": "stream",
     "text": [
      "\"person\"\n",
      "\"shopper\"\n"
     ]
    }
   ],
   "source": [
    "!trino $URL --execute \"show tables from mysql.final_project\""
   ]
  },
  {
   "cell_type": "code",
   "execution_count": 6,
   "id": "03ea491c-0666-4ebc-8b48-520c4b025355",
   "metadata": {},
   "outputs": [
    {
     "name": "stdout",
     "output_type": "stream",
     "text": [
      "\"03c1c33d-7aa2-4d1f-977f-f53bebd7463b\",\"Theresa\",\"Owen\",\"Smith, Barton and White\",\"4899 Moon Ramp\",\"Suite 300\",\"West Kyle\",\"Elliotthaven\",\"OR                  \",\"12210               \",\"629.904.5468                                                                                        \",\"807.297.2217x421                                                                                    \",\"kdixon@yahoo.com\"\n",
      "\"095f5a18-f2d3-46a4-accd-8e0394ff4a8d\",\"David\",\"Alvarez\",\"Kelly, Turner and Brown\",\"84256 Bishop Overpass\",\"\",\"East Oscar\",\"South Angelamouth\",\"HI                  \",\"72649               \",\"(945)860-2050x303                                                                                   \",\"503-539-9768x416                                                                                    \",\"joymorrison@yahoo.com\"\n",
      "\"096477de-c51f-4b03-bc10-3f16ceae25c7\",\"Kathleen\",\"Cunningham\",\"Foley, Collins and Salazar\",\"32046 Obrien Ville\",\"\",\"West Kent\",\"Davisberg\",\"MA                  \",\"61500               \",\"732-820-6451                                                                                        \",\"697.353.2724x944                                                                                    \",\"davidgrant@gmail.com\"\n"
     ]
    }
   ],
   "source": [
    "!trino $URL --execute \"select * from mysql.final_project.shopper limit 3\""
   ]
  },
  {
   "cell_type": "code",
   "execution_count": 7,
   "id": "65b1a85b-9318-4623-9d69-5b927c57756a",
   "metadata": {},
   "outputs": [],
   "source": [
    "!trino $URL --execute \"select * from mysql.college.student limit 3\""
   ]
  },
  {
   "cell_type": "markdown",
   "id": "111e7c4b-2606-4ffe-a795-cf309cfe2625",
   "metadata": {},
   "source": [
    "### Querying Postgres through Trino:"
   ]
  },
  {
   "cell_type": "code",
   "execution_count": 8,
   "id": "1dc65fa7-468e-4227-b7fe-7325ad9d2415",
   "metadata": {},
   "outputs": [
    {
     "name": "stdout",
     "output_type": "stream",
     "text": [
      "\"college\"\n",
      "\"final_project\"\n",
      "\"information_schema\"\n",
      "\"pagila\"\n",
      "\"pg_catalog\"\n",
      "\"public\"\n",
      "\"reservations\"\n",
      "\"shopify\"\n"
     ]
    }
   ],
   "source": [
    "!trino $URL --execute \"show schemas from postgres\""
   ]
  },
  {
   "cell_type": "code",
   "execution_count": 9,
   "id": "7b9320cb-51a4-4802-826b-281559100eb7",
   "metadata": {},
   "outputs": [],
   "source": [
    "#use final project instead of college "
   ]
  },
  {
   "cell_type": "code",
   "execution_count": 10,
   "id": "b9667567-ba22-4f5e-9890-af1de153604a",
   "metadata": {},
   "outputs": [
    {
     "name": "stdout",
     "output_type": "stream",
     "text": [
      "\"class\"\n",
      "\"instructor\"\n",
      "\"student\"\n",
      "\"teaches\"\n"
     ]
    }
   ],
   "source": [
    "!trino $URL --execute \"show tables from postgres.college\""
   ]
  },
  {
   "cell_type": "code",
   "execution_count": 11,
   "id": "9c96095b-2df3-455a-bc37-ddcd8b31a47b",
   "metadata": {},
   "outputs": [],
   "source": [
    "!trino $URL --execute \"select * from postgres.college.class limit 3\""
   ]
  },
  {
   "cell_type": "markdown",
   "id": "000dcec4-34c3-4ede-a7a3-c3cfabc7e954",
   "metadata": {},
   "source": [
    "### Querying MongoDB through Trino:"
   ]
  },
  {
   "cell_type": "code",
   "execution_count": 12,
   "id": "84b9fc7a-aab1-4542-ac64-0d618fa99cab",
   "metadata": {},
   "outputs": [
    {
     "name": "stdout",
     "output_type": "stream",
     "text": [
      "\"college\"\n",
      "\"final_project\"\n",
      "\"information_schema\"\n"
     ]
    }
   ],
   "source": [
    "!trino $URL --execute \"show schemas from mongo\""
   ]
  },
  {
   "cell_type": "code",
   "execution_count": 13,
   "id": "552eac82-3b64-48d2-9aef-00fc45b8149d",
   "metadata": {},
   "outputs": [
    {
     "name": "stdout",
     "output_type": "stream",
     "text": [
      "\"takes\"\n"
     ]
    }
   ],
   "source": [
    "!trino $URL --execute \"show tables from mongo.college\""
   ]
  },
  {
   "cell_type": "code",
   "execution_count": 14,
   "id": "b071567c-2f9e-4e51-8bbd-711ed5ce07a6",
   "metadata": {},
   "outputs": [
    {
     "name": "stdout",
     "output_type": "stream",
     "text": [
      "\"kev18\",\"CS329E\"\n",
      "\"bzen26\",\"CS329E\"\n",
      "\"jc\",\"CS327E\"\n"
     ]
    }
   ],
   "source": [
    "!trino $URL --execute \"select * from mongo.college.takes limit 3\""
   ]
  },
  {
   "cell_type": "markdown",
   "id": "aa22073c-d644-40af-bffb-e6660efa0693",
   "metadata": {},
   "source": [
    "### Querying BigQuery through Trino:"
   ]
  },
  {
   "cell_type": "code",
   "execution_count": 15,
   "id": "42c5ebe1-82c6-4b09-988d-a7f4305d814e",
   "metadata": {},
   "outputs": [
    {
     "name": "stdout",
     "output_type": "stream",
     "text": [
      "\"college\"\n",
      "\"final_project\"\n",
      "\"information_schema\"\n",
      "\"school_enrollments\"\n"
     ]
    }
   ],
   "source": [
    "!trino $URL --execute \"show schemas from bigquery\""
   ]
  },
  {
   "cell_type": "code",
   "execution_count": 16,
   "id": "d3f758a3-bf7f-4954-9ccf-b40c839bbbe2",
   "metadata": {},
   "outputs": [
    {
     "name": "stdout",
     "output_type": "stream",
     "text": [
      "\"class\"\n",
      "\"instructor\"\n",
      "\"student\"\n",
      "\"takes\"\n",
      "\"teaches\"\n",
      "\"v_enrollments\"\n"
     ]
    }
   ],
   "source": [
    "!trino $URL --execute \"show tables from bigquery.college\""
   ]
  },
  {
   "cell_type": "code",
   "execution_count": 17,
   "id": "411eee8b-239f-4eaa-a698-c1a3991e5411",
   "metadata": {},
   "outputs": [
    {
     "name": "stdout",
     "output_type": "stream",
     "text": [
      "\"neeman\",\"Joe Neeman\",\"Mathematics\"\n",
      "\"koch\",\"Hans Koch\",\"Mathematics\"\n",
      "\"mueller\",\"Peter Mueller\",\"Mathematics\"\n"
     ]
    }
   ],
   "source": [
    "!trino $URL --execute \"select * from bigquery.college.instructor limit 3\""
   ]
  },
  {
   "cell_type": "markdown",
   "id": "4e31bb3b-a567-4266-a974-918d7816142e",
   "metadata": {},
   "source": [
    "### Putting it all together: joining across MySQL, Postgres, Mongo, and BigQuery"
   ]
  },
  {
   "cell_type": "code",
   "execution_count": 1,
   "id": "c4370b67-7f46-4e66-b7a2-9c7ad9940850",
   "metadata": {},
   "outputs": [
    {
     "name": "stdout",
     "output_type": "stream",
     "text": [
      "\u001b[31;1mError starting query at http://localhost:8080/v1/statement returned an invalid response: JsonResponse{statusCode=403, headers={content-length=[3070], content-security-policy=[frame-ancestors 'self'; report-uri /api/security/csp-report], content-type=[text/html], date=[Thu, 07 Dec 2023 05:31:31 GMT], server=[TornadoServer/6.3.3], set-cookie=[_xsrf=2|90511db5|4babdf216ba9756261ddcbdd72dbae90|1701927091; expires=Sat, 06 Jan 2024 05:31:31 GMT; Path=/], x-content-type-options=[nosniff]}, hasValue=false} [Error: <!DOCTYPE HTML>\n",
      "<html>\n",
      "\n",
      "<head>\n",
      "\n",
      "    <meta charset=\"utf-8\">\n",
      "\n",
      "    <title>Jupyter Server</title>\n",
      "    <link id=\"favicon\" rel=\"shortcut icon\" type=\"image/x-icon\" href=\"/static/favicon.ico?v=50afa725b5de8b00030139d09b38620224d4e7dba47c07ef0e86d4643f30c9bfe6bb7e1a4a1c561aa32834480909a4b6fe7cd1e17f7159330b6b5914bf45a880\">\n",
      "    \n",
      "    <link rel=\"stylesheet\" href=\"/static/style/bootstrap.min.css?v=0e8a7fbd6de23ad6b27ab95802a0a0915af6693af612bc304d83af445529ce5d95842309ca3405d10f538d45c8a3a261b8cff78b4bd512dd9effb4109a71d0ab\" />\n",
      "    <link rel=\"stylesheet\" href=\"/static/style/bootstrap-theme.min.css?v=8b2f045cb5b4d5ad346f6e816aa2566829a4f5f2783ec31d80d46a57de8ac0c3d21fe6e53bcd8e1f38ac17fcd06d12088bc9b43e23b5d1da52d10c6b717b22b3\" />\n",
      "    <link rel=\"stylesheet\" href=\"/static/style/index.css?v=30372e3246a801d662cf9e3f9dd656fa192eebde9054a2282449fe43919de9f0ee9b745d7eb49d3b0a5e56357912cc7d776390eddcab9dac85b77bdb17b4bdae\" />\n",
      "    <meta http-equiv=\"X-UA-Compatible\" content=\"IE=edge\" />\n",
      "    <meta name=\"viewport\" content=\"width=device-width, initial-scale=1.0\">\n",
      "\n",
      "    \n",
      "\n",
      "    \n",
      "<style type=\"text/css\">\n",
      "    /* disable initial hide */\n",
      "    div#header,\n",
      "    div#site {\n",
      "        display: block;\n",
      "    }\n",
      "</style>\n",
      "\n",
      "\n",
      "    \n",
      "    \n",
      "\n",
      "</head>\n",
      "\n",
      "<body class=\"\"    dir=\"ltr\">\n",
      "\n",
      "  <noscript>\n",
      "    <div id='noscript'>\n",
      "      Jupyter Server requires JavaScript.<br>\n",
      "      Please enable it to proceed. \n",
      "    </div>\n",
      "  </noscript>\n",
      "\n",
      "  <div id=\"header\" role=\"navigation\" aria-label=\"Top Menu\">\n",
      "    <div id=\"header-container\" class=\"container\">\n",
      "      <div id=\"jupyter_server\" class=\"nav navbar-brand\"><a href=\"/lab\" title='dashboard'>\n",
      "          <img src='/static/logo/logo.png?v=a2a176ee3cee251ffddf5fa21fe8e43727a9e5f87a06f9c91ad7b776d9e9d3d5e0159c16cc188a3965e00375fb4bc336c16067c688f5040c0c2d4bfdb852a9e4' alt='Jupyter Server' />\n",
      "        </a></div>\n",
      "\n",
      "      \n",
      "      \n",
      "\n",
      "      \n",
      "      \n",
      "\n",
      "    </div>\n",
      "    <div class=\"header-bar\"></div>\n",
      "\n",
      "    \n",
      "    \n",
      "  </div>\n",
      "\n",
      "  <div id=\"site\">\n",
      "    \n",
      "\n",
      "<div class=\"error\">\n",
      "    \n",
      "    <h1>403 : Forbidden</h1>\n",
      "    \n",
      "    \n",
      "    \n",
      "    <p>The error was:</p>\n",
      "    <div class=\"traceback-wrapper\">\n",
      "        <pre class=\"traceback\">&#39;_xsrf&#39; argument missing from POST</pre>\n",
      "    </div>\n",
      "    \n",
      "    \n",
      "</div>\n",
      "\n",
      "\n",
      "  </div>\n",
      "\n",
      "  \n",
      "  \n",
      "\n",
      "  \n",
      "\n",
      "\n",
      "  <script type='text/javascript'>\n",
      "    function _remove_token_from_url() {\n",
      "      if (window.location.search.length <= 1) {\n",
      "        return;\n",
      "      }\n",
      "      var search_parameters = window.location.search.slice(1).split('&');\n",
      "      for (var i = 0; i < search_parameters.length; i++) {\n",
      "        if (search_parameters[i].split('=')[0] === 'token') {\n",
      "          // remote token from search parameters\n",
      "          search_parameters.splice(i, 1);\n",
      "          var new_search = '';\n",
      "          if (search_parameters.length) {\n",
      "            new_search = '?' + search_parameters.join('&');\n",
      "          }\n",
      "          var new_url = window.location.origin +\n",
      "            window.location.pathname +\n",
      "            new_search +\n",
      "            window.location.hash;\n",
      "          window.history.replaceState({}, \"\", new_url);\n",
      "          return;\n",
      "        }\n",
      "      }\n",
      "    }\n",
      "    _remove_token_from_url();\n",
      "  </script>\n",
      "</body>\n",
      "\n",
      "</html>]\u001b[0m\n"
     ]
    }
   ],
   "source": [
    "!trino $URL --execute \"select * from mysql.college.student s \\\n",
    "join mongo.college.takes ta on s.sid = ta.sid \\\n",
    "join postgres.college.class c on ta.cno = c.cno \\\n",
    "join postgres.college.teaches te on c.cno = te.cno \\\n",
    "join bigquery.college.instructor i on te.tid = i.tid \\\n",
    "order by s.sid \\\n",
    "limit 3\""
   ]
  },
  {
   "cell_type": "code",
   "execution_count": 2,
   "id": "1b52e03b-dd5e-4291-9a8e-09fd3ffba475",
   "metadata": {},
   "outputs": [
    {
     "name": "stdout",
     "output_type": "stream",
     "text": [
      "\u001b[31;1mError starting query at http://localhost:8080/v1/statement returned an invalid response: JsonResponse{statusCode=403, headers={content-length=[3070], content-security-policy=[frame-ancestors 'self'; report-uri /api/security/csp-report], content-type=[text/html], date=[Thu, 07 Dec 2023 05:31:32 GMT], server=[TornadoServer/6.3.3], set-cookie=[_xsrf=2|76c7ac3f|1db146adba96e960861c88ab833221bb|1701927092; expires=Sat, 06 Jan 2024 05:31:32 GMT; Path=/], x-content-type-options=[nosniff]}, hasValue=false} [Error: <!DOCTYPE HTML>\n",
      "<html>\n",
      "\n",
      "<head>\n",
      "\n",
      "    <meta charset=\"utf-8\">\n",
      "\n",
      "    <title>Jupyter Server</title>\n",
      "    <link id=\"favicon\" rel=\"shortcut icon\" type=\"image/x-icon\" href=\"/static/favicon.ico?v=50afa725b5de8b00030139d09b38620224d4e7dba47c07ef0e86d4643f30c9bfe6bb7e1a4a1c561aa32834480909a4b6fe7cd1e17f7159330b6b5914bf45a880\">\n",
      "    \n",
      "    <link rel=\"stylesheet\" href=\"/static/style/bootstrap.min.css?v=0e8a7fbd6de23ad6b27ab95802a0a0915af6693af612bc304d83af445529ce5d95842309ca3405d10f538d45c8a3a261b8cff78b4bd512dd9effb4109a71d0ab\" />\n",
      "    <link rel=\"stylesheet\" href=\"/static/style/bootstrap-theme.min.css?v=8b2f045cb5b4d5ad346f6e816aa2566829a4f5f2783ec31d80d46a57de8ac0c3d21fe6e53bcd8e1f38ac17fcd06d12088bc9b43e23b5d1da52d10c6b717b22b3\" />\n",
      "    <link rel=\"stylesheet\" href=\"/static/style/index.css?v=30372e3246a801d662cf9e3f9dd656fa192eebde9054a2282449fe43919de9f0ee9b745d7eb49d3b0a5e56357912cc7d776390eddcab9dac85b77bdb17b4bdae\" />\n",
      "    <meta http-equiv=\"X-UA-Compatible\" content=\"IE=edge\" />\n",
      "    <meta name=\"viewport\" content=\"width=device-width, initial-scale=1.0\">\n",
      "\n",
      "    \n",
      "\n",
      "    \n",
      "<style type=\"text/css\">\n",
      "    /* disable initial hide */\n",
      "    div#header,\n",
      "    div#site {\n",
      "        display: block;\n",
      "    }\n",
      "</style>\n",
      "\n",
      "\n",
      "    \n",
      "    \n",
      "\n",
      "</head>\n",
      "\n",
      "<body class=\"\"    dir=\"ltr\">\n",
      "\n",
      "  <noscript>\n",
      "    <div id='noscript'>\n",
      "      Jupyter Server requires JavaScript.<br>\n",
      "      Please enable it to proceed. \n",
      "    </div>\n",
      "  </noscript>\n",
      "\n",
      "  <div id=\"header\" role=\"navigation\" aria-label=\"Top Menu\">\n",
      "    <div id=\"header-container\" class=\"container\">\n",
      "      <div id=\"jupyter_server\" class=\"nav navbar-brand\"><a href=\"/lab\" title='dashboard'>\n",
      "          <img src='/static/logo/logo.png?v=a2a176ee3cee251ffddf5fa21fe8e43727a9e5f87a06f9c91ad7b776d9e9d3d5e0159c16cc188a3965e00375fb4bc336c16067c688f5040c0c2d4bfdb852a9e4' alt='Jupyter Server' />\n",
      "        </a></div>\n",
      "\n",
      "      \n",
      "      \n",
      "\n",
      "      \n",
      "      \n",
      "\n",
      "    </div>\n",
      "    <div class=\"header-bar\"></div>\n",
      "\n",
      "    \n",
      "    \n",
      "  </div>\n",
      "\n",
      "  <div id=\"site\">\n",
      "    \n",
      "\n",
      "<div class=\"error\">\n",
      "    \n",
      "    <h1>403 : Forbidden</h1>\n",
      "    \n",
      "    \n",
      "    \n",
      "    <p>The error was:</p>\n",
      "    <div class=\"traceback-wrapper\">\n",
      "        <pre class=\"traceback\">&#39;_xsrf&#39; argument missing from POST</pre>\n",
      "    </div>\n",
      "    \n",
      "    \n",
      "</div>\n",
      "\n",
      "\n",
      "  </div>\n",
      "\n",
      "  \n",
      "  \n",
      "\n",
      "  \n",
      "\n",
      "\n",
      "  <script type='text/javascript'>\n",
      "    function _remove_token_from_url() {\n",
      "      if (window.location.search.length <= 1) {\n",
      "        return;\n",
      "      }\n",
      "      var search_parameters = window.location.search.slice(1).split('&');\n",
      "      for (var i = 0; i < search_parameters.length; i++) {\n",
      "        if (search_parameters[i].split('=')[0] === 'token') {\n",
      "          // remote token from search parameters\n",
      "          search_parameters.splice(i, 1);\n",
      "          var new_search = '';\n",
      "          if (search_parameters.length) {\n",
      "            new_search = '?' + search_parameters.join('&');\n",
      "          }\n",
      "          var new_url = window.location.origin +\n",
      "            window.location.pathname +\n",
      "            new_search +\n",
      "            window.location.hash;\n",
      "          window.history.replaceState({}, \"\", new_url);\n",
      "          return;\n",
      "        }\n",
      "      }\n",
      "    }\n",
      "    _remove_token_from_url();\n",
      "  </script>\n",
      "</body>\n",
      "\n",
      "</html>]\u001b[0m\n"
     ]
    }
   ],
   "source": [
    "!trino $URL --execute \"select * from mysql.college.student s \\\n",
    "order by s.sid \\\n",
    "limit 3\""
   ]
  },
  {
   "cell_type": "markdown",
   "id": "5b77869b-e20f-4d3b-9625-197d491f2803",
   "metadata": {},
   "source": [
    "## PART 2: FEDERATED QUERIES"
   ]
  },
  {
   "cell_type": "markdown",
   "id": "5919e42b-f86e-42b9-b721-de30702f61f2",
   "metadata": {},
   "source": [
    "##### Q1: Who are the shoppers who have reservations in a different city from their own city and who\n",
    "##### paid for their reservations in US dollars? For those shoppers, return their cust_id, email, along\n",
    "##### with their reservation count. Order the results by cust_id. Limit the results to 5 records."
   ]
  },
  {
   "cell_type": "code",
   "execution_count": 3,
   "id": "94a87ca9-0758-47a1-98ba-74901e59fe9c",
   "metadata": {},
   "outputs": [
    {
     "name": "stdout",
     "output_type": "stream",
     "text": [
      "\u001b[31;1mError starting query at http://localhost:8080/v1/statement returned an invalid response: JsonResponse{statusCode=403, headers={content-length=[3070], content-security-policy=[frame-ancestors 'self'; report-uri /api/security/csp-report], content-type=[text/html], date=[Thu, 07 Dec 2023 05:31:33 GMT], server=[TornadoServer/6.3.3], set-cookie=[_xsrf=2|449634f1|4b781726e6ef1ba6a57ccb906d32954a|1701927093; expires=Sat, 06 Jan 2024 05:31:33 GMT; Path=/], x-content-type-options=[nosniff]}, hasValue=false} [Error: <!DOCTYPE HTML>\n",
      "<html>\n",
      "\n",
      "<head>\n",
      "\n",
      "    <meta charset=\"utf-8\">\n",
      "\n",
      "    <title>Jupyter Server</title>\n",
      "    <link id=\"favicon\" rel=\"shortcut icon\" type=\"image/x-icon\" href=\"/static/favicon.ico?v=50afa725b5de8b00030139d09b38620224d4e7dba47c07ef0e86d4643f30c9bfe6bb7e1a4a1c561aa32834480909a4b6fe7cd1e17f7159330b6b5914bf45a880\">\n",
      "    \n",
      "    <link rel=\"stylesheet\" href=\"/static/style/bootstrap.min.css?v=0e8a7fbd6de23ad6b27ab95802a0a0915af6693af612bc304d83af445529ce5d95842309ca3405d10f538d45c8a3a261b8cff78b4bd512dd9effb4109a71d0ab\" />\n",
      "    <link rel=\"stylesheet\" href=\"/static/style/bootstrap-theme.min.css?v=8b2f045cb5b4d5ad346f6e816aa2566829a4f5f2783ec31d80d46a57de8ac0c3d21fe6e53bcd8e1f38ac17fcd06d12088bc9b43e23b5d1da52d10c6b717b22b3\" />\n",
      "    <link rel=\"stylesheet\" href=\"/static/style/index.css?v=30372e3246a801d662cf9e3f9dd656fa192eebde9054a2282449fe43919de9f0ee9b745d7eb49d3b0a5e56357912cc7d776390eddcab9dac85b77bdb17b4bdae\" />\n",
      "    <meta http-equiv=\"X-UA-Compatible\" content=\"IE=edge\" />\n",
      "    <meta name=\"viewport\" content=\"width=device-width, initial-scale=1.0\">\n",
      "\n",
      "    \n",
      "\n",
      "    \n",
      "<style type=\"text/css\">\n",
      "    /* disable initial hide */\n",
      "    div#header,\n",
      "    div#site {\n",
      "        display: block;\n",
      "    }\n",
      "</style>\n",
      "\n",
      "\n",
      "    \n",
      "    \n",
      "\n",
      "</head>\n",
      "\n",
      "<body class=\"\"    dir=\"ltr\">\n",
      "\n",
      "  <noscript>\n",
      "    <div id='noscript'>\n",
      "      Jupyter Server requires JavaScript.<br>\n",
      "      Please enable it to proceed. \n",
      "    </div>\n",
      "  </noscript>\n",
      "\n",
      "  <div id=\"header\" role=\"navigation\" aria-label=\"Top Menu\">\n",
      "    <div id=\"header-container\" class=\"container\">\n",
      "      <div id=\"jupyter_server\" class=\"nav navbar-brand\"><a href=\"/lab\" title='dashboard'>\n",
      "          <img src='/static/logo/logo.png?v=a2a176ee3cee251ffddf5fa21fe8e43727a9e5f87a06f9c91ad7b776d9e9d3d5e0159c16cc188a3965e00375fb4bc336c16067c688f5040c0c2d4bfdb852a9e4' alt='Jupyter Server' />\n",
      "        </a></div>\n",
      "\n",
      "      \n",
      "      \n",
      "\n",
      "      \n",
      "      \n",
      "\n",
      "    </div>\n",
      "    <div class=\"header-bar\"></div>\n",
      "\n",
      "    \n",
      "    \n",
      "  </div>\n",
      "\n",
      "  <div id=\"site\">\n",
      "    \n",
      "\n",
      "<div class=\"error\">\n",
      "    \n",
      "    <h1>403 : Forbidden</h1>\n",
      "    \n",
      "    \n",
      "    \n",
      "    <p>The error was:</p>\n",
      "    <div class=\"traceback-wrapper\">\n",
      "        <pre class=\"traceback\">&#39;_xsrf&#39; argument missing from POST</pre>\n",
      "    </div>\n",
      "    \n",
      "    \n",
      "</div>\n",
      "\n",
      "\n",
      "  </div>\n",
      "\n",
      "  \n",
      "  \n",
      "\n",
      "  \n",
      "\n",
      "\n",
      "  <script type='text/javascript'>\n",
      "    function _remove_token_from_url() {\n",
      "      if (window.location.search.length <= 1) {\n",
      "        return;\n",
      "      }\n",
      "      var search_parameters = window.location.search.slice(1).split('&');\n",
      "      for (var i = 0; i < search_parameters.length; i++) {\n",
      "        if (search_parameters[i].split('=')[0] === 'token') {\n",
      "          // remote token from search parameters\n",
      "          search_parameters.splice(i, 1);\n",
      "          var new_search = '';\n",
      "          if (search_parameters.length) {\n",
      "            new_search = '?' + search_parameters.join('&');\n",
      "          }\n",
      "          var new_url = window.location.origin +\n",
      "            window.location.pathname +\n",
      "            new_search +\n",
      "            window.location.hash;\n",
      "          window.history.replaceState({}, \"\", new_url);\n",
      "          return;\n",
      "        }\n",
      "      }\n",
      "    }\n",
      "    _remove_token_from_url();\n",
      "  </script>\n",
      "</body>\n",
      "\n",
      "</html>]\u001b[0m\n"
     ]
    }
   ],
   "source": [
    "!trino $URL --execute \"SELECT s.cust_id, s.email, COUNT(r.res_id) AS reservation_count \\\n",
    "FROM mysql.final_project.shopper s \\\n",
    "JOIN postgres.final_project.reservations r ON s.cust_id = r.cust_id \\\n",
    "WHERE s.city <> r.city AND r.curr_code = 'USD' \\\n",
    "GROUP BY s.cust_id, s.email \\\n",
    "ORDER BY s.cust_id \\\n",
    "LIMIT 5;\""
   ]
  },
  {
   "cell_type": "markdown",
   "id": "92b5dff3-0dbf-43c1-8d2e-53d6089cb881",
   "metadata": {},
   "source": [
    "##### Q2: Who are the shoppers who have bought non-stop tickets on American Airlines with a\n",
    "##### departure date between 01/01/2020 and 12/31/2024? Return the shopper’s cust_id, email,\n",
    "##### dep_airport and dep_date. Order the results by dep_date. Limit the results to 5 records"
   ]
  },
  {
   "cell_type": "code",
   "execution_count": 4,
   "id": "9f835285-bf73-443a-98dc-5edff10216a3",
   "metadata": {},
   "outputs": [
    {
     "name": "stdout",
     "output_type": "stream",
     "text": [
      "\u001b[31;1mError starting query at http://localhost:8080/v1/statement returned an invalid response: JsonResponse{statusCode=403, headers={content-length=[3070], content-security-policy=[frame-ancestors 'self'; report-uri /api/security/csp-report], content-type=[text/html], date=[Thu, 07 Dec 2023 05:31:34 GMT], server=[TornadoServer/6.3.3], set-cookie=[_xsrf=2|e885d1db|bb964683f2363d8749c1a5489ca55312|1701927094; expires=Sat, 06 Jan 2024 05:31:34 GMT; Path=/], x-content-type-options=[nosniff]}, hasValue=false} [Error: <!DOCTYPE HTML>\n",
      "<html>\n",
      "\n",
      "<head>\n",
      "\n",
      "    <meta charset=\"utf-8\">\n",
      "\n",
      "    <title>Jupyter Server</title>\n",
      "    <link id=\"favicon\" rel=\"shortcut icon\" type=\"image/x-icon\" href=\"/static/favicon.ico?v=50afa725b5de8b00030139d09b38620224d4e7dba47c07ef0e86d4643f30c9bfe6bb7e1a4a1c561aa32834480909a4b6fe7cd1e17f7159330b6b5914bf45a880\">\n",
      "    \n",
      "    <link rel=\"stylesheet\" href=\"/static/style/bootstrap.min.css?v=0e8a7fbd6de23ad6b27ab95802a0a0915af6693af612bc304d83af445529ce5d95842309ca3405d10f538d45c8a3a261b8cff78b4bd512dd9effb4109a71d0ab\" />\n",
      "    <link rel=\"stylesheet\" href=\"/static/style/bootstrap-theme.min.css?v=8b2f045cb5b4d5ad346f6e816aa2566829a4f5f2783ec31d80d46a57de8ac0c3d21fe6e53bcd8e1f38ac17fcd06d12088bc9b43e23b5d1da52d10c6b717b22b3\" />\n",
      "    <link rel=\"stylesheet\" href=\"/static/style/index.css?v=30372e3246a801d662cf9e3f9dd656fa192eebde9054a2282449fe43919de9f0ee9b745d7eb49d3b0a5e56357912cc7d776390eddcab9dac85b77bdb17b4bdae\" />\n",
      "    <meta http-equiv=\"X-UA-Compatible\" content=\"IE=edge\" />\n",
      "    <meta name=\"viewport\" content=\"width=device-width, initial-scale=1.0\">\n",
      "\n",
      "    \n",
      "\n",
      "    \n",
      "<style type=\"text/css\">\n",
      "    /* disable initial hide */\n",
      "    div#header,\n",
      "    div#site {\n",
      "        display: block;\n",
      "    }\n",
      "</style>\n",
      "\n",
      "\n",
      "    \n",
      "    \n",
      "\n",
      "</head>\n",
      "\n",
      "<body class=\"\"    dir=\"ltr\">\n",
      "\n",
      "  <noscript>\n",
      "    <div id='noscript'>\n",
      "      Jupyter Server requires JavaScript.<br>\n",
      "      Please enable it to proceed. \n",
      "    </div>\n",
      "  </noscript>\n",
      "\n",
      "  <div id=\"header\" role=\"navigation\" aria-label=\"Top Menu\">\n",
      "    <div id=\"header-container\" class=\"container\">\n",
      "      <div id=\"jupyter_server\" class=\"nav navbar-brand\"><a href=\"/lab\" title='dashboard'>\n",
      "          <img src='/static/logo/logo.png?v=a2a176ee3cee251ffddf5fa21fe8e43727a9e5f87a06f9c91ad7b776d9e9d3d5e0159c16cc188a3965e00375fb4bc336c16067c688f5040c0c2d4bfdb852a9e4' alt='Jupyter Server' />\n",
      "        </a></div>\n",
      "\n",
      "      \n",
      "      \n",
      "\n",
      "      \n",
      "      \n",
      "\n",
      "    </div>\n",
      "    <div class=\"header-bar\"></div>\n",
      "\n",
      "    \n",
      "    \n",
      "  </div>\n",
      "\n",
      "  <div id=\"site\">\n",
      "    \n",
      "\n",
      "<div class=\"error\">\n",
      "    \n",
      "    <h1>403 : Forbidden</h1>\n",
      "    \n",
      "    \n",
      "    \n",
      "    <p>The error was:</p>\n",
      "    <div class=\"traceback-wrapper\">\n",
      "        <pre class=\"traceback\">&#39;_xsrf&#39; argument missing from POST</pre>\n",
      "    </div>\n",
      "    \n",
      "    \n",
      "</div>\n",
      "\n",
      "\n",
      "  </div>\n",
      "\n",
      "  \n",
      "  \n",
      "\n",
      "  \n",
      "\n",
      "\n",
      "  <script type='text/javascript'>\n",
      "    function _remove_token_from_url() {\n",
      "      if (window.location.search.length <= 1) {\n",
      "        return;\n",
      "      }\n",
      "      var search_parameters = window.location.search.slice(1).split('&');\n",
      "      for (var i = 0; i < search_parameters.length; i++) {\n",
      "        if (search_parameters[i].split('=')[0] === 'token') {\n",
      "          // remote token from search parameters\n",
      "          search_parameters.splice(i, 1);\n",
      "          var new_search = '';\n",
      "          if (search_parameters.length) {\n",
      "            new_search = '?' + search_parameters.join('&');\n",
      "          }\n",
      "          var new_url = window.location.origin +\n",
      "            window.location.pathname +\n",
      "            new_search +\n",
      "            window.location.hash;\n",
      "          window.history.replaceState({}, \"\", new_url);\n",
      "          return;\n",
      "        }\n",
      "      }\n",
      "    }\n",
      "    _remove_token_from_url();\n",
      "  </script>\n",
      "</body>\n",
      "\n",
      "</html>]\u001b[0m\n"
     ]
    }
   ],
   "source": [
    "!trino $URL --execute \"SELECT s.cust_id, s.email, m.dep_airport, m.dep_date \\\n",
    "FROM mysql.final_project.shopper s \\\n",
    "JOIN mongodb.final_project.ticketing m ON s.cust_id = m.cust_id \\\n",
    "WHERE m.airline = 'American Airlines' AND m.stops = 0 \\\n",
    "   AND m.dep_date BETWEEN TIMESTAMP '2020-01-01' AND TIMESTAMP '2024-12-31' \\\n",
    "ORDER BY m.dep_date \\\n",
    "LIMIT 5;\""
   ]
  },
  {
   "cell_type": "markdown",
   "id": "32583d1a-d714-4531-b967-f2d16cff3445",
   "metadata": {},
   "source": [
    "##### Which shoppers have reservations and tickets with matching dates such that the arr_date\n",
    "##### and dep_date are equal between reservations and ticketing? For such shoppers, sum up their\n",
    "##### pmt_amt and tik_amt and return this sum as trip_amount. Also, return the shoppers’ cust_id,\n",
    "##### email, pmt_amt, tik_amt. Order the results by trip_amount in descending order. Limit the results\n",
    "##### to 5 records."
   ]
  },
  {
   "cell_type": "code",
   "execution_count": 5,
   "id": "68590ea3-e508-4cab-be2a-abed92e264e7",
   "metadata": {},
   "outputs": [
    {
     "name": "stdout",
     "output_type": "stream",
     "text": [
      "Non-terminated statement: SELECT s.cust_id, s.email, SUM(r.pmt_amt) AS pmt_amt, SUM(t.tik_amt) AS tik_amt,     SUM(r.pmt_amt + t.tik_amt) AS trip_amount   FROM mysql.final_project.shopper s   JOIN postgres.final_project.reservations r ON s.cust_id = r.cust_id   JOIN mongodb.final_project.ticketing t ON s.cust_id = t.cust_id   WHERE r.arr_date = t.arr_date AND r.dep_date = t.dep_date     AND s.cust_id IN (       SELECT s.cust_id       FROM mysql.final_project.shopper s       JOIN postgres.final_project.reservations r ON s.cust_id = r.cust_id       JOIN mongodb.final_project.ticketing t ON s.cust_id = t.cust_id       WHERE r.arr_date = t.arr_date AND r.dep_date = t.dep_date       GROUP BY s.cust_id       HAVING COUNT(*) > 0 -- Ensures there are matching reservations and tickets     )   GROUP BY s.cust_id, s.email   ORDER BY trip_amount DESC   LIMIT 5;;\n"
     ]
    }
   ],
   "source": [
    "!trino $URL --execute \"SELECT s.cust_id, s.email, SUM(r.pmt_amt) AS pmt_amt, SUM(t.tik_amt) AS tik_amt, \\\n",
    "   SUM(r.pmt_amt + t.tik_amt) AS trip_amount \\\n",
    " FROM mysql.final_project.shopper s \\\n",
    " JOIN postgres.final_project.reservations r ON s.cust_id = r.cust_id \\\n",
    " JOIN mongodb.final_project.ticketing t ON s.cust_id = t.cust_id \\\n",
    " WHERE r.arr_date = t.arr_date AND r.dep_date = t.dep_date \\\n",
    "   AND s.cust_id IN ( \\\n",
    "     SELECT s.cust_id \\\n",
    "     FROM mysql.final_project.shopper s \\\n",
    "     JOIN postgres.final_project.reservations r ON s.cust_id = r.cust_id \\\n",
    "     JOIN mongodb.final_project.ticketing t ON s.cust_id = t.cust_id \\\n",
    "     WHERE r.arr_date = t.arr_date AND r.dep_date = t.dep_date \\\n",
    "     GROUP BY s.cust_id \\\n",
    "     HAVING COUNT(*) > 0 -- Ensures there are matching reservations and tickets \\\n",
    "   ) \\\n",
    " GROUP BY s.cust_id, s.email \\\n",
    " ORDER BY trip_amount DESC \\\n",
    " LIMIT 5;\""
   ]
  },
  {
   "cell_type": "markdown",
   "id": "6c5d9e28-8e47-404e-b767-66037811a03f",
   "metadata": {},
   "source": [
    "## PART 3: TRINO EVALUATION"
   ]
  },
  {
   "cell_type": "code",
   "execution_count": null,
   "id": "53f7702d-89f6-4f25-b762-9d96b20ee092",
   "metadata": {},
   "outputs": [],
   "source": []
  }
 ],
 "metadata": {
  "environment": {
   "kernel": "python3",
   "name": "common-cpu.m111",
   "type": "gcloud",
   "uri": "gcr.io/deeplearning-platform-release/base-cpu:m111"
  },
  "kernelspec": {
   "display_name": "Python 3",
   "language": "python",
   "name": "python3"
  },
  "language_info": {
   "codemirror_mode": {
    "name": "ipython",
    "version": 3
   },
   "file_extension": ".py",
   "mimetype": "text/x-python",
   "name": "python",
   "nbconvert_exporter": "python",
   "pygments_lexer": "ipython3",
   "version": "3.10.12"
  }
 },
 "nbformat": 4,
 "nbformat_minor": 5
}
