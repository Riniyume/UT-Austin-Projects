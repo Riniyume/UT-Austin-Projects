{
 "cells": [
  {
   "cell_type": "code",
   "execution_count": 1,
   "id": "a12e4470-09c0-42b9-bc66-269c64a90f08",
   "metadata": {},
   "outputs": [],
   "source": [
    "PROJECT = \"organic-dryad-397401\"\n",
    "DATASET = \"currency\"\n",
    "REGION = \"US\""
   ]
  },
  {
   "cell_type": "markdown",
   "id": "3be092f0-3c59-4aa1-a2f0-adf1970b1b02",
   "metadata": {},
   "source": [
    "## 1. Create the table"
   ]
  },
  {
   "cell_type": "code",
   "execution_count": 2,
   "id": "d0ad0e22-be1c-4c1e-82e7-6c953fd09c40",
   "metadata": {},
   "outputs": [
    {
     "name": "stdout",
     "output_type": "stream",
     "text": [
      "CREATE OR REPLACE TABLE final_project.person(\n",
      "    id INT NOT NULL,\n",
      "    first_name STRING NOT NULL,\n",
      "    last_name STRING NOT NULL,\n",
      "    company STRING NOT NULL, \n",
      "    address STRING NOT NULL,\n",
      "    city STRING NOT NULL,\n",
      "    county STRING NOT NULL, \n",
      "    state STRING NOT NULL, \n",
      "    zip STRING NOT NULL,\n",
      "    phone_1 STRING NOT NULL,\n",
      "    phone_2 STRING NOT NULL,\n",
      "    email STRING NOT NULL,\n",
      "    web STRING NOT NULL)\n",
      "\n"
     ]
    }
   ],
   "source": [
    "# create an example table from the sample code\n",
    "from google.cloud import bigquery\n",
    "\n",
    "client = bigquery.Client(project=PROJECT, location=REGION)\n",
    "\n",
    "ddl = '''CREATE OR REPLACE TABLE final_project.person(\n",
    "    id INT NOT NULL,\n",
    "    first_name STRING NOT NULL,\n",
    "    last_name STRING NOT NULL,\n",
    "    company STRING NOT NULL, \n",
    "    address STRING NOT NULL,\n",
    "    city STRING NOT NULL,\n",
    "    county STRING NOT NULL, \n",
    "    state STRING NOT NULL, \n",
    "    zip STRING NOT NULL,\n",
    "    phone_1 STRING NOT NULL,\n",
    "    phone_2 STRING NOT NULL,\n",
    "    email STRING NOT NULL,\n",
    "    web STRING NOT NULL)\n",
    "'''\n",
    "\n",
    "print(ddl)\n",
    "\n",
    "try:\n",
    "    query_job = client.query(ddl)\n",
    "    query_job.result()\n",
    "except Exception as e:\n",
    "    print(\"Error occurred while creating table:\", e)"
   ]
  },
  {
   "cell_type": "markdown",
   "id": "4634b531-9112-4380-a6b6-3b190d57dcd0",
   "metadata": {},
   "source": [
    "## 2. Insert records into the table"
   ]
  },
  {
   "cell_type": "code",
   "execution_count": 3,
   "id": "20e508a8-42a9-4d22-8c22-a1fdb6cf354a",
   "metadata": {},
   "outputs": [
    {
     "name": "stdout",
     "output_type": "stream",
     "text": [
      "INSERT INTO final_project.person (id, first_name, last_name, \n",
      "         company, address, city, county, state, zip, phone_1,\n",
      "         phone_2, email, web) \n",
      "         VALUES \n",
      "         (1, \"James\",\"Butt\",\"Benton, John B Jr\",\"6649 N Blue Gum St\",\n",
      "        \"New Orleans\",\"Orleans\",\"LA\",\"70116\",\"504-621-8927\",\n",
      "        \"504-845-1427\",\"jbutt@gmail.com\",\"http://www.bentonjohnbjr.com\"),\n",
      "        (2, \"Josephine\",\"Darakjy\",\"Chanay, Jeffrey A Esq\",\n",
      "        \"4 B Blue Ridge Blvd\",\"Brighton\",\"Livingston\",\"MI\",\"48116\",\n",
      "        \"810-292-9388\",\"810-374-9840\",\"josephine_darakjy@darakjy.org\",\n",
      "        \"http://www.chanayjeffreyaesq.com\"),\n",
      "        (3, \"Art\",\"Venere\",\"Chemel, James L Cpa\",\"8 W Cerritos Ave #54\",\n",
      "        \"Bridgeport\",\"Gloucester\",\"NJ\",\"08014\",\n",
      "        \"856-636-8749\",\"856-264-4130\",\"art@venere.org\",\n",
      "        \"http://www.chemeljameslcpa.com\")\n",
      "Wrote 3 records into person table\n"
     ]
    }
   ],
   "source": [
    "# Sample Code: inserting data into the newly created table to also test out connection\n",
    "from google.cloud import bigquery\n",
    "\n",
    "client = bigquery.Client(project=PROJECT, location=REGION)\n",
    "\n",
    "sql = '''INSERT INTO final_project.person (id, first_name, last_name, \n",
    "         company, address, city, county, state, zip, phone_1,\n",
    "         phone_2, email, web) \n",
    "         VALUES \n",
    "         (1, \"James\",\"Butt\",\"Benton, John B Jr\",\"6649 N Blue Gum St\",\n",
    "        \"New Orleans\",\"Orleans\",\"LA\",\"70116\",\"504-621-8927\",\n",
    "        \"504-845-1427\",\"jbutt@gmail.com\",\"http://www.bentonjohnbjr.com\"),\n",
    "        (2, \"Josephine\",\"Darakjy\",\"Chanay, Jeffrey A Esq\",\n",
    "        \"4 B Blue Ridge Blvd\",\"Brighton\",\"Livingston\",\"MI\",\"48116\",\n",
    "        \"810-292-9388\",\"810-374-9840\",\"josephine_darakjy@darakjy.org\",\n",
    "        \"http://www.chanayjeffreyaesq.com\"),\n",
    "        (3, \"Art\",\"Venere\",\"Chemel, James L Cpa\",\"8 W Cerritos Ave #54\",\n",
    "        \"Bridgeport\",\"Gloucester\",\"NJ\",\"08014\",\n",
    "        \"856-636-8749\",\"856-264-4130\",\"art@venere.org\",\n",
    "        \"http://www.chemeljameslcpa.com\")'''\n",
    "\n",
    "print(sql)\n",
    "\n",
    "try:\n",
    "    query_job = client.query(sql)\n",
    "    query_job.result()\n",
    "    print('Wrote 3 records into person table')\n",
    "except Exception as e:\n",
    "    print(\"Error occurred while writing to table:\", e)"
   ]
  },
  {
   "cell_type": "markdown",
   "id": "1cdf14c9-ad8c-40d6-badc-0c1380262bba",
   "metadata": {},
   "source": [
    "## Part 4. BigQuery\n",
    "### Create a dataset in BigQuery with a table by the name of \"currency\" and insert 30 records."
   ]
  },
  {
   "cell_type": "code",
   "execution_count": 4,
   "id": "1b5c236c-3f5b-48fa-8049-73f2c293c15a",
   "metadata": {},
   "outputs": [
    {
     "name": "stdout",
     "output_type": "stream",
     "text": [
      "CREATE OR REPLACE TABLE final_project.currency(\n",
      "    curr_code STRING NOT NULL,\n",
      "    curr_name STRING NOT NULL,\n",
      "    cntry_code STRING NOT NULL,\n",
      "    cntry_name STRING NOT NULL)\n",
      "\n"
     ]
    }
   ],
   "source": [
    "# Create the currency table for BigQuery\n",
    "from google.cloud import bigquery\n",
    "\n",
    "clients = bigquery.Client(project=PROJECT, location=REGION)\n",
    "\n",
    "table = '''CREATE OR REPLACE TABLE final_project.currency(\n",
    "    curr_code STRING NOT NULL,\n",
    "    curr_name STRING NOT NULL,\n",
    "    cntry_code STRING NOT NULL,\n",
    "    cntry_name STRING NOT NULL)\n",
    "'''\n",
    "\n",
    "print(table)\n",
    "\n",
    "try:\n",
    "    query_jobs = clients.query(table)\n",
    "    query_jobs.result()\n",
    "except Exception as e:\n",
    "    print(\"Error occurred while creating table:\", e)"
   ]
  },
  {
   "cell_type": "code",
   "execution_count": 5,
   "id": "bc14a7a0-4d58-4a22-8638-dcaf7ffb294f",
   "metadata": {},
   "outputs": [
    {
     "name": "stdout",
     "output_type": "stream",
     "text": [
      "INSERT INTO final_project.currency (curr_code, curr_name, cntry_code, cntry_name) VALUES ('TMT', 'Cambodian riel', 'VA', 'Antarctica (the territory South of 60 deg S)'), ('XPF', 'Guatemalan quetzal', 'IE', 'Australia'), ('MZN', 'Mauritian rupee', 'BA', 'Burkina Faso'), ('BSD', 'Serbian dinar', 'AF', 'Mali'), ('NIS', 'Argentine peso', 'BN', 'Cayman Islands'), ('VUV', 'Swazi lilangeni', 'MZ', 'Switzerland'), ('MDL', 'Tajikistani somoni', 'BJ', 'Iran'), ('ARS', 'Manx pound', 'TM', 'Peru'), ('JPY', 'Panamanian balboa', 'TM', 'Bhutan'), ('JPY', 'Zimbabwean dollar', 'TJ', 'Ukraine'), ('CLP', 'Special drawing rights', 'SA', 'Vietnam'), ('KYD', 'Cuban peso', 'KR', 'Turkey'), ('KYD', 'Indian rupee', 'SD', 'Belgium'), ('CZK', 'Israeli new shekel', 'ME', 'Germany'), ('COP', 'Australian dollar', 'NE', 'United States Virgin Islands'), ('SOS', 'South Korean won', 'EE', 'Malta'), ('GEL', 'Rwandan franc', 'KH', 'Greenland'), ('SRD', 'Paraguayan guarani', 'KM', 'Yemen'), ('LSL', 'Salvadoran colón', 'LU', 'Bangladesh'), ('AOA', 'Congolese franc', 'PY', 'Turkey'), ('SDG', 'Iranian rial', 'QA', 'El Salvador'), ('USD', 'Iraqi dinar', 'MD', 'Turkey'), ('EUR', 'Georgian lari', 'ER', 'Malaysia'), ('KES', 'New Zealand dollar', 'TL', 'Czech Republic'), ('GYD', 'Solomon Islands dollar', 'MN', 'Vietnam'), ('PEN', 'West African CFA franc', 'KG', 'Malawi'), ('MVR', 'Yemeni rial', 'MU', 'Gabon'), ('RWF', 'Mauritanian ouguiya', 'KR', 'Maldives'), ('CZK', 'Egyptian pound', 'KE', 'Marshall Islands'), ('LBP', 'Angolan kwanza', 'FM', 'Comoros')\n",
      "Wrote 30 records into currency table\n"
     ]
    }
   ],
   "source": [
    "# Import libraries and packages\n",
    "from google.cloud import bigquery\n",
    "from faker import Faker\n",
    "\n",
    "fake = Faker()\n",
    "\n",
    "# Set the seed for consistent data generation\n",
    "Faker.seed(30)\n",
    "\n",
    "\n",
    "client = bigquery.Client(project=PROJECT, location=REGION)\n",
    "\n",
    "# Construct the SQL INSERT statement for the 'currency' table\n",
    "sql = \"INSERT INTO final_project.currency (curr_code, curr_name, cntry_code, cntry_name) VALUES \".format(DATASET)\n",
    "\n",
    "values = []\n",
    "\n",
    "# Generate 30 records of fake currency and country-related data\n",
    "for _ in range(30):\n",
    "    # Generate fake currency code, name, country code, and country name\n",
    "    curr_code = fake.currency_code()\n",
    "    curr_name = fake.currency_name()\n",
    "    cntry_code = fake.country_code()\n",
    "    cntry_name = fake.country()\n",
    "    \n",
    "    # Replace single quotes with double single quotes in country names to avoid SQL syntax errors\n",
    "    cntry_name = cntry_name.replace(\"'\", \"''\") if cntry_name else cntry_name\n",
    "    \n",
    "    # Create a formatted string with generated values to be inserted\n",
    "    values.append(\"('{}', '{}', '{}', '{}')\".format(curr_code, curr_name, cntry_code, cntry_name))\n",
    "\n",
    "sql += ', '.join(values)\n",
    "\n",
    "print(sql)\n",
    "\n",
    "try:\n",
    "    # Execute the SQL query to insert data into the 'currency' table\n",
    "    query_job = client.query(sql)\n",
    "    query_job.result()\n",
    "    print('Wrote 30 records into currency table') # Success message if insertion is successful\n",
    "except Exception as e:\n",
    "    print(\"Error occurred while writing to table:\", e) # Error message\n"
   ]
  }
 ],
 "metadata": {
  "environment": {
   "kernel": "python3",
   "name": "common-cpu.m111",
   "type": "gcloud",
   "uri": "gcr.io/deeplearning-platform-release/base-cpu:m111"
  },
  "kernelspec": {
   "display_name": "Python 3",
   "language": "python",
   "name": "python3"
  },
  "language_info": {
   "codemirror_mode": {
    "name": "ipython",
    "version": 3
   },
   "file_extension": ".py",
   "mimetype": "text/x-python",
   "name": "python",
   "nbconvert_exporter": "python",
   "pygments_lexer": "ipython3",
   "version": "3.10.12"
  }
 },
 "nbformat": 4,
 "nbformat_minor": 5
}
