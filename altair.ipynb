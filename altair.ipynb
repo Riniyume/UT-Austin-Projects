{
 "cells": [
  {
   "cell_type": "markdown",
   "id": "22bc0c4f",
   "metadata": {},
   "source": [
    "###### 1. Imports and Data"
   ]
  },
  {
   "cell_type": "code",
   "execution_count": null,
   "id": "c36ca07c",
   "metadata": {},
   "outputs": [],
   "source": [
    "import altair as alt"
   ]
  },
  {
   "cell_type": "code",
   "execution_count": null,
   "id": "95b6338b",
   "metadata": {},
   "outputs": [],
   "source": [
    "from vega_datasets import data"
   ]
  },
  {
   "cell_type": "code",
   "execution_count": null,
   "id": "f866ef2d",
   "metadata": {},
   "outputs": [],
   "source": [
    "cars = data.cars()"
   ]
  },
  {
   "cell_type": "code",
   "execution_count": null,
   "id": "4439dfca",
   "metadata": {},
   "outputs": [],
   "source": [
    "cars.shape"
   ]
  },
  {
   "cell_type": "code",
   "execution_count": null,
   "id": "3afad2bd",
   "metadata": {},
   "outputs": [],
   "source": [
    "cars.columns"
   ]
  },
  {
   "cell_type": "code",
   "execution_count": null,
   "id": "ced82b19",
   "metadata": {},
   "outputs": [],
   "source": [
    "cars.describe()"
   ]
  },
  {
   "cell_type": "code",
   "execution_count": null,
   "id": "96f9e75e",
   "metadata": {},
   "outputs": [],
   "source": [
    "cars.info()"
   ]
  },
  {
   "cell_type": "code",
   "execution_count": null,
   "id": "8ec6d8be",
   "metadata": {},
   "outputs": [],
   "source": [
    "cars.head()"
   ]
  },
  {
   "cell_type": "code",
   "execution_count": null,
   "id": "c3dd7f77",
   "metadata": {},
   "outputs": [],
   "source": [
    "cars.tail()"
   ]
  },
  {
   "cell_type": "markdown",
   "id": "834e996a",
   "metadata": {},
   "source": [
    "###### 2. Zero, One, and Two-dimensional Charts"
   ]
  },
  {
   "cell_type": "code",
   "execution_count": null,
   "id": "89a0ff0d",
   "metadata": {},
   "outputs": [],
   "source": [
    "# basic chart that marks each row\n",
    "alt.Chart(cars).mark_point()"
   ]
  },
  {
   "cell_type": "code",
   "execution_count": null,
   "id": "fa5b16da",
   "metadata": {},
   "outputs": [],
   "source": [
    "# 1-D plot \n",
    "alt.Chart(cars).mark_point().encode (x ='Miles_per_Gallon')"
   ]
  },
  {
   "cell_type": "code",
   "execution_count": null,
   "id": "a472b695",
   "metadata": {},
   "outputs": [],
   "source": [
    "# 1-D plot with tick marks\n",
    "alt.Chart(cars).mark_tick().encode (x = 'Miles_per_Gallon')"
   ]
  },
  {
   "cell_type": "code",
   "execution_count": null,
   "id": "b14a66b6",
   "metadata": {},
   "outputs": [],
   "source": [
    "# 2-D plot with points\n",
    "alt.Chart(cars).mark_point().encode (x = 'Miles_per_Gallon', y = 'Horsepower')"
   ]
  },
  {
   "cell_type": "markdown",
   "id": "4432f3e2",
   "metadata": {},
   "source": [
    "###### 3. Simple Interactions"
   ]
  },
  {
   "cell_type": "code",
   "execution_count": null,
   "id": "9cb22b3c",
   "metadata": {},
   "outputs": [],
   "source": [
    "# add interactivity\n",
    "alt.Chart(cars).mark_point().encode(x = 'Miles_per_Gallon', y = 'Horsepower').interactive()"
   ]
  },
  {
   "cell_type": "markdown",
   "id": "8b89c476",
   "metadata": {},
   "source": [
    "###### 4. Third Dimension: Color"
   ]
  },
  {
   "cell_type": "code",
   "execution_count": null,
   "id": "a4dc69e7",
   "metadata": {},
   "outputs": [],
   "source": [
    "# add color to categorical values\n",
    "alt.Chart(cars).mark_point().encode(\n",
    "x = 'Miles_per_Gallon',\n",
    "y = 'Horsepower',\n",
    "color = 'Origin')"
   ]
  },
  {
   "cell_type": "code",
   "execution_count": null,
   "id": "89c9b203",
   "metadata": {},
   "outputs": [],
   "source": [
    "# add color to continuous variable\n",
    "alt.Chart(cars).mark_point().encode (\n",
    "x = 'Miles_per_Gallon',\n",
    "y = 'Horsepower',\n",
    "color = 'Acceleration')"
   ]
  },
  {
   "cell_type": "code",
   "execution_count": null,
   "id": "e58f3f55",
   "metadata": {},
   "outputs": [],
   "source": [
    "# add color to ordered categorical data\n",
    "alt.Chart(cars).mark_point().encode (\n",
    "x = 'Miles_per_Gallon',\n",
    "y = 'Horsepower',\n",
    "color = 'Cylinders')"
   ]
  },
  {
   "cell_type": "code",
   "execution_count": null,
   "id": "72849ee0",
   "metadata": {},
   "outputs": [],
   "source": [
    "# add color to ordered categorical data\n",
    "alt.Chart(cars).mark_point().encode (\n",
    "x = 'Miles_per_Gallon',\n",
    "y = 'Horsepower',\n",
    "color = 'Cylinders:O')"
   ]
  },
  {
   "cell_type": "markdown",
   "id": "917e7188",
   "metadata": {},
   "source": [
    "###### 5. Binning and Aggregation"
   ]
  },
  {
   "cell_type": "code",
   "execution_count": null,
   "id": "f971e59a",
   "metadata": {},
   "outputs": [],
   "source": [
    "# create a histogram of the data\n",
    "alt.Chart(cars).mark_bar().encode(\n",
    "x = alt.X('Miles_per_Gallon', bin = True),\n",
    "y = 'count()')"
   ]
  },
  {
   "cell_type": "markdown",
   "id": "68736c80",
   "metadata": {},
   "source": [
    "###### 6. Time-Series and Layering"
   ]
  },
  {
   "cell_type": "code",
   "execution_count": null,
   "id": "3d14df2f",
   "metadata": {},
   "outputs": [],
   "source": [
    "# time trends\n",
    "alt.Chart(cars).mark_point().encode (\n",
    "x = 'Year',\n",
    "y = 'Miles_per_Gallon')"
   ]
  },
  {
   "cell_type": "code",
   "execution_count": null,
   "id": "9e537583",
   "metadata": {},
   "outputs": [],
   "source": [
    "# draw a trend line\n",
    "alt.Chart(cars).mark_line().encode (\n",
    "x = 'Year',\n",
    "y = 'mean(Miles_per_Gallon)')"
   ]
  },
  {
   "cell_type": "markdown",
   "id": "87123314",
   "metadata": {},
   "source": [
    "###### 7: Interactivity: Selections"
   ]
  },
  {
   "cell_type": "code",
   "execution_count": null,
   "id": "c679d1b4",
   "metadata": {},
   "outputs": [],
   "source": [
    "# add selection to make interactive plots\n",
    "interval = alt.selection_interval()\n",
    "\n",
    "alt.Chart(cars).mark_point().encode(\n",
    "x = 'Miles_per_Gallon',\n",
    "y = 'Horsepower',\n",
    "color = alt.condition (interval, 'Origin', alt.value('lightgray'))\n",
    ").add_selection (interval)"
   ]
  },
  {
   "cell_type": "code",
   "execution_count": null,
   "id": "8d090813",
   "metadata": {},
   "outputs": [],
   "source": [
    "# add selection to make interactive plots\n",
    "interval = alt.selection_interval()\n",
    "\n",
    "base = alt.Chart(cars).mark_point().encode(\n",
    "y = 'Horsepower',\n",
    "color = alt.condition (interval, 'Origin', alt.value('lightgray')),\n",
    "tooltip = 'Name'\n",
    ").add_selection (interval)\n",
    "\n",
    "base.encode (x = 'Miles_per_Gallon') | base.encode (x = 'Acceleration')"
   ]
  },
  {
   "cell_type": "code",
   "execution_count": null,
   "id": "b6ef74ce",
   "metadata": {},
   "outputs": [],
   "source": [
    "# add selection to make interactive plots\n",
    "interval = alt.selection_interval()\n",
    "\n",
    "base = alt.Chart(cars).mark_point().encode(\n",
    "y = 'Horsepower',\n",
    "color = alt.condition (interval, 'Origin', alt.value('lightgray')),\n",
    "tooltip = 'Name'\n",
    ").add_selection (interval)\n",
    "\n",
    "hist = alt.Chart(cars).mark_bar().encode (\n",
    "x = 'count()',\n",
    "y = 'Origin',\n",
    "color = 'Origin'\n",
    ").properties (\n",
    "width = 800,\n",
    "height = 80\n",
    ").transform_filter (\n",
    "interval)\n",
    "\n",
    "scatter = base.encode (x = 'Miles_per_Gallon') | base.encode (x = 'Acceleration')\n",
    "\n",
    "scatter & hist"
   ]
  }
 ],
 "metadata": {
  "kernelspec": {
   "display_name": "Python 3 (ipykernel)",
   "language": "python",
   "name": "python3"
  },
  "language_info": {
   "codemirror_mode": {
    "name": "ipython",
    "version": 3
   },
   "file_extension": ".py",
   "mimetype": "text/x-python",
   "name": "python",
   "nbconvert_exporter": "python",
   "pygments_lexer": "ipython3",
   "version": "3.10.4"
  }
 },
 "nbformat": 4,
 "nbformat_minor": 5
}
