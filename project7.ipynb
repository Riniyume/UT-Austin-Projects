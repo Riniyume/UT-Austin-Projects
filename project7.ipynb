{
 "cells": [
  {
   "cell_type": "code",
   "execution_count": 1,
   "id": "a3e09da4-c661-46a8-9f92-64132857c38a",
   "metadata": {},
   "outputs": [
    {
     "name": "stdout",
     "output_type": "stream",
     "text": [
      "env: CYPHER=/usr/bin/cypher-shell\n",
      "env: HOST=neo4j+s://d9ea9625.databases.neo4j.io\n",
      "env: USER=neo4j\n",
      "env: PW=3SCMw1FEgMeBc-B0zhAVQ-9LKh4itXkx1sWeGeNqHrA\n"
     ]
    }
   ],
   "source": [
    "%env CYPHER=/usr/bin/cypher-shell\n",
    "%env HOST=neo4j+s://d9ea9625.databases.neo4j.io\n",
    "%env USER=neo4j\n",
    "%env PW=3SCMw1FEgMeBc-B0zhAVQ-9LKh4itXkx1sWeGeNqHrA"
   ]
  },
  {
   "cell_type": "code",
   "execution_count": 2,
   "id": "09756e77-23e9-411c-85ce-774b19dee136",
   "metadata": {},
   "outputs": [],
   "source": [
    "CONNECT=\"$CYPHER -a $HOST -u $USER -p $PW\""
   ]
  },
  {
   "cell_type": "code",
   "execution_count": 3,
   "id": "ca2fb7bb-ed00-420f-b129-de891b9ee234",
   "metadata": {},
   "outputs": [
    {
     "name": "stdout",
     "output_type": "stream",
     "text": [
      "+------------------------------------------------------------------+\n",
      "| user    | roles      | passwordChangeRequired | suspended | home |\n",
      "+------------------------------------------------------------------+\n",
      "| \"neo4j\" | [\"PUBLIC\"] | FALSE                  | FALSE     | NULL |\n",
      "+------------------------------------------------------------------+\n",
      "\n",
      "1 row\n",
      "ready to start consuming query after 9 ms, results consumed after another 59 ms\n"
     ]
    }
   ],
   "source": [
    "!{CONNECT} \"show users\""
   ]
  },
  {
   "cell_type": "code",
   "execution_count": 4,
   "id": "6858a57e-a5ed-4a24-8028-468807c0ed8e",
   "metadata": {},
   "outputs": [],
   "source": [
    "from IPython.core.magic import register_cell_magic\n",
    "import shlex\n",
    "\n",
    "@register_cell_magic('neo')\n",
    "def neo(line, cell):\n",
    "    !{CONNECT} {shlex.quote(cell)}"
   ]
  },
  {
   "cell_type": "markdown",
   "id": "b0271012-d5ed-4f57-a3ed-1de642f6b674",
   "metadata": {},
   "source": [
    "# 1. Operation: Return the unique node labels and the number of nodes for each"
   ]
  },
  {
   "cell_type": "code",
   "execution_count": 5,
   "id": "0b18c4ea-1692-46bc-b33b-2e07921b538a",
   "metadata": {},
   "outputs": [
    {
     "name": "stdout",
     "output_type": "stream",
     "text": [
      "+---------------------------------------------------------------------------------------------------------------------------------------------------------------------------------------------------------------------------------------------------------------------------------------------------------------------------------------------------------------------------------------------------------------------------------------------------------------------------------+\n",
      "| nodes                                                                                                                                                                                                                                                                                                                  | relationships                                                                                                                                          |\n",
      "+---------------------------------------------------------------------------------------------------------------------------------------------------------------------------------------------------------------------------------------------------------------------------------------------------------------------------------------------------------------------------------------------------------------------------------------------------------------------------------+\n",
      "| [(:Recipe {name: \"Recipe\", indexes: [], constraints: []}), (:Ingredient {name: \"Ingredient\", indexes: [], constraints: []}), (:Author {name: \"Author\", indexes: [], constraints: []}), (:Collection {name: \"Collection\", indexes: [], constraints: []}), (:DietType {name: \"DietType\", indexes: [], constraints: []})] | [[:COLLECTION {name: \"COLLECTION\"}], [:WROTE {name: \"WROTE\"}], [:CONTAINS_INGREDIENT {name: \"CONTAINS_INGREDIENT\"}], [:DIET_TYPE {name: \"DIET_TYPE\"}]] |\n",
      "+---------------------------------------------------------------------------------------------------------------------------------------------------------------------------------------------------------------------------------------------------------------------------------------------------------------------------------------------------------------------------------------------------------------------------------------------------------------------------------+\n",
      "\n",
      "1 row\n",
      "ready to start consuming query after 32 ms, results consumed after another 2 ms\n"
     ]
    }
   ],
   "source": [
    "!{CONNECT} \"CALL db.schema.visualization()\""
   ]
  },
  {
   "cell_type": "code",
   "execution_count": 6,
   "id": "9cfcabbf-a3d4-4ee0-a965-f756ea1d9015",
   "metadata": {},
   "outputs": [
    {
     "name": "stdout",
     "output_type": "stream",
     "text": [
      "+-----------------------------------+\n",
      "| labels(n)      | count(labels(n)) |\n",
      "+-----------------------------------+\n",
      "| [\"Recipe\"]     | 11634            |\n",
      "| [\"Author\"]     | 303              |\n",
      "| [\"Ingredient\"] | 3077             |\n",
      "| [\"DietType\"]   | 12               |\n",
      "| [\"Collection\"] | 1049             |\n",
      "+-----------------------------------+\n",
      "\n",
      "5 rows\n",
      "ready to start consuming query after 36 ms, results consumed after another 24 ms\n"
     ]
    }
   ],
   "source": [
    "!{CONNECT} \"MATCH (n) RETURN distinct labels(n), count(labels(n))\""
   ]
  },
  {
   "cell_type": "markdown",
   "id": "bd660458-dc52-452d-870f-64b34c23acf3",
   "metadata": {
    "tags": []
   },
   "source": [
    "# 2. Operation: Return properties of the nodes\n",
    "\n",
    "\n",
    "\n",
    "later Return the unique relationship types and the number of relationships for each"
   ]
  },
  {
   "cell_type": "code",
   "execution_count": 7,
   "id": "33111249-c03a-4a89-be58-dbe992ff7763",
   "metadata": {},
   "outputs": [
    {
     "name": "stdout",
     "output_type": "stream",
     "text": [
      "+------------------------------------------------------------------------------------------------+\n",
      "| labels(n)      | collect(distinct(key))                                                        |\n",
      "+------------------------------------------------------------------------------------------------+\n",
      "| [\"Recipe\"]     | [\"id\", \"name\", \"cookingTime\", \"preparationTime\", \"description\", \"skillLevel\"] |\n",
      "| [\"Author\"]     | [\"name\"]                                                                      |\n",
      "| [\"Ingredient\"] | [\"name\"]                                                                      |\n",
      "| [\"DietType\"]   | [\"name\"]                                                                      |\n",
      "| [\"Collection\"] | [\"name\"]                                                                      |\n",
      "+------------------------------------------------------------------------------------------------+\n",
      "\n",
      "5 rows\n",
      "ready to start consuming query after 38 ms, results consumed after another 77 ms\n"
     ]
    }
   ],
   "source": [
    "!{CONNECT} \"MATCH (n) UNWIND keys(n) as key RETURN DISTINCT labels(n), collect(distinct(key))\"\n",
    "\n",
    "#STYLE and visualizations??? not included in propererties but in the graph "
   ]
  },
  {
   "cell_type": "markdown",
   "id": "3128c823-57ab-4b15-a0d1-470898782bfa",
   "metadata": {
    "tags": []
   },
   "source": [
    "# 3. Return the unique relationship types and the number of relationships for each "
   ]
  },
  {
   "cell_type": "code",
   "execution_count": 8,
   "id": "5e569bd0-d51a-4c6d-a155-a8bcb1584e06",
   "metadata": {},
   "outputs": [
    {
     "name": "stdout",
     "output_type": "stream",
     "text": [
      "+----------------------------------+\n",
      "| type(r)               | count(r) |\n",
      "+----------------------------------+\n",
      "| \"WROTE\"               | 11634    |\n",
      "| \"CONTAINS_INGREDIENT\" | 106148   |\n",
      "| \"DIET_TYPE\"           | 14858    |\n",
      "| \"COLLECTION\"          | 32240    |\n",
      "+----------------------------------+\n",
      "\n",
      "4 rows\n",
      "ready to start consuming query after 35 ms, results consumed after another 226 ms\n"
     ]
    }
   ],
   "source": [
    "!{CONNECT} \"MATCH ()-[r]->() RETURN DISTINCT type(r), count(r)\""
   ]
  },
  {
   "cell_type": "markdown",
   "id": "d30bd4ed-920b-4e3e-b10c-7528986ee424",
   "metadata": {},
   "source": [
    "# 4: Logical or, return properties of relationships. Retrieves recipes authored by \"Sarah Cook\" or \"Silvana Franco.\" Returns author names, recipe names, and relationship properties. Results are ordered by recipe names in ascending order and limited to the top 10."
   ]
  },
  {
   "cell_type": "code",
   "execution_count": 9,
   "id": "fa8e6199-e14c-44be-9052-9c0975b9cdbc",
   "metadata": {},
   "outputs": [
    {
     "name": "stdout",
     "output_type": "stream",
     "text": [
      "+--------------------------------------------------------------------------------------+\n",
      "| author           | recipe_name                                               | id(w) |\n",
      "+--------------------------------------------------------------------------------------+\n",
      "| \"Silvana Franco\" | \"After-dinner mint cream\"                                 | 3280  |\n",
      "| \"Sarah Cook\"     | \"Afternoon tea churros\"                                   | 9759  |\n",
      "| \"Sarah Cook\"     | \"All-in-one posh lamb balti\"                              | 9936  |\n",
      "| \"Sarah Cook\"     | \"All-in-one spring roast chicken\"                         | 9918  |\n",
      "| \"Sarah Cook\"     | \"Almond & honey pastries with orange cream\"               | 2887  |\n",
      "| \"Sarah Cook\"     | \"Almond florentines\"                                      | 8584  |\n",
      "| \"Sarah Cook\"     | \"Amatriciana chicken traybake\"                            | 3575  |\n",
      "| \"Sarah Cook\"     | \"Aperol & limoncello cocktail\"                            | 1396  |\n",
      "| \"Sarah Cook\"     | \"Apple & cranberry pancakes with cinnamon butter & syrup\" | 10516 |\n",
      "| \"Sarah Cook\"     | \"Apple pie cookie kit\"                                    | 1918  |\n",
      "+--------------------------------------------------------------------------------------+\n",
      "\n",
      "10 rows\n",
      "ready to start consuming query after 56 ms, results consumed after another 5 ms\n"
     ]
    }
   ],
   "source": [
    "!{CONNECT} \"MATCH (a:Author)-[w:WROTE]->(r:Recipe) WHERE (a.name = 'Sarah Cook' OR a.name = 'Silvana Franco') RETURN a.name as author, r.name as recipe_name, id(w) ORDER BY r.name ASC LIMIT 10\""
   ]
  },
  {
   "cell_type": "markdown",
   "id": "fd20d728-fc3d-4085-9f83-b821fab5d54c",
   "metadata": {},
   "source": [
    "# 5. Logical and, negation, in descending order. Find the query with cooking time <= 600 and prepation time <=600, AND NOT skill level = A CHALLENGE\""
   ]
  },
  {
   "cell_type": "code",
   "execution_count": 10,
   "id": "795d1b3f-ea28-4257-b827-751b5269953d",
   "metadata": {},
   "outputs": [
    {
     "name": "stdout",
     "output_type": "stream",
     "text": [
      "+--------------------------------------------------------------------------------+\n",
      "| recipe_name                                   | prep_time | cook_time | skill  |\n",
      "+--------------------------------------------------------------------------------+\n",
      "| \"Spicy tuna quinoa salad\"                     | 600       | 600       | \"Easy\" |\n",
      "| \"Christmas mess\"                              | 600       | 300       | \"Easy\" |\n",
      "| \"Herby slashed roasties\"                      | 600       | 0         | \"Easy\" |\n",
      "| \"Gremolata prawn pasta\"                       | 600       | 600       | \"Easy\" |\n",
      "| \"Citrus peach cooler\"                         | 600       | 0         | \"Easy\" |\n",
      "| \"Chocolate tea-pots\"                          | 600       | 300       | \"Easy\" |\n",
      "| \"Chipotle chicken tacos with pineapple salsa\" | 600       | 600       | \"Easy\" |\n",
      "| \"Oriental beef skewers with cucumber salad\"   | 600       | 360       | \"Easy\" |\n",
      "| \"Tom Collins\"                                 | 600       | 120       | \"Easy\" |\n",
      "| \"Tangy herb chutney\"                          | 600       | 0         | \"Easy\" |\n",
      "+--------------------------------------------------------------------------------+\n",
      "\n",
      "10 rows\n",
      "ready to start consuming query after 66 ms, results consumed after another 16 ms\n"
     ]
    }
   ],
   "source": [
    "# LOGICAL AND STMT, descending order \n",
    "!{CONNECT} \"MATCH (r), (r) WHERE r.cookingTime <= 600 AND r.preparationTime <= 600  RETURN r.name as recipe_name, r.preparationTime as prep_time, r.cookingTime as cook_time, r.skillLevel as skill ORDER BY r.preparationTime DESC LIMIT 10 \""
   ]
  },
  {
   "cell_type": "markdown",
   "id": "51e67762-e019-4d89-8c03-79cac40847d3",
   "metadata": {},
   "source": [
    "# 6. Logical OR, containing negation, desc order.Retrieves recipes authored by either \"James Martin\" or \"Diana Henry\" with a skill level not set to \"Hard.\" Returns author names and recipe names, ordered by author names in descending order."
   ]
  },
  {
   "cell_type": "code",
   "execution_count": 11,
   "id": "d7291551-9ae7-458c-9150-ccd0f7dd4e1f",
   "metadata": {},
   "outputs": [
    {
     "name": "stdout",
     "output_type": "stream",
     "text": [
      "+-----------------------------------------------------------------------+\n",
      "| author         | recipe_name                                          |\n",
      "+-----------------------------------------------------------------------+\n",
      "| \"James Martin\" | \"Star anise biscuits\"                                |\n",
      "| \"James Martin\" | \"Grilled dab with garlic butter\"                     |\n",
      "| \"James Martin\" | \"Roasted butternut squash soup\"                      |\n",
      "| \"James Martin\" | \"Herby lemon chicken with Tuscan beans\"              |\n",
      "| \"James Martin\" | \"Halloumi & pepper kebabs with lemony cabbage salad\" |\n",
      "| \"James Martin\" | \"Almond & apricot trifles\"                           |\n",
      "| \"James Martin\" | \"Rib-eye steaks with chilli butter & homemade chips\" |\n",
      "| \"James Martin\" | \"Chicken stuffed with goatâ€™s cheese & tarragon\"    |\n",
      "| \"James Martin\" | \"Frosted white chocolate Easter cake\"                |\n",
      "| \"James Martin\" | \"Baked pumpkin with cream & onions\"                  |\n",
      "+-----------------------------------------------------------------------+\n",
      "\n",
      "10 rows\n",
      "ready to start consuming query after 98 ms, results consumed after another 3 ms\n"
     ]
    }
   ],
   "source": [
    "!{CONNECT} \"MATCH (a:Author)-[w:WROTE]->(r:Recipe) WHERE (a.name = 'James Martin' OR a.name = 'Diana Henry') AND NOT r.skillLevel = 'Hard' RETURN a.name as author , r.name as recipe_name ORDER BY a.name DESC LIMIT 10\""
   ]
  },
  {
   "cell_type": "markdown",
   "id": "0f397f14-4f31-4b21-ae4d-73e558a15300",
   "metadata": {},
   "source": [
    "# 7. 3 relational types. Find gluten-free recipes by the author Good Food and has olive oil. "
   ]
  },
  {
   "cell_type": "code",
   "execution_count": 12,
   "id": "6274e5e4-4629-4578-8d88-91cb76951dff",
   "metadata": {},
   "outputs": [
    {
     "name": "stdout",
     "output_type": "stream",
     "text": [
      "+--------------------------------------------------------------------------------------------------------------------------------+\n",
      "| recipe                                  | r            | m                                 | rrrr                              |\n",
      "+--------------------------------------------------------------------------------------------------------------------------------+\n",
      "| \"Baked glazed ham\"                      | [:DIET_TYPE] | (:DietType {name: \"Gluten-free\"}) | (:Ingredient {name: \"olive oil\"}) |\n",
      "| \"Honeydew melon, cucumber & lime juice\" | [:DIET_TYPE] | (:DietType {name: \"Gluten-free\"}) | (:Ingredient {name: \"olive oil\"}) |\n",
      "| \"Pumpkin purÃ©e \"                       | [:DIET_TYPE] | (:DietType {name: \"Gluten-free\"}) | (:Ingredient {name: \"olive oil\"}) |\n",
      "| \"Gooseberry & mint lemonade\"            | [:DIET_TYPE] | (:DietType {name: \"Gluten-free\"}) | (:Ingredient {name: \"olive oil\"}) |\n",
      "| \"Spiced pear chutney\"                   | [:DIET_TYPE] | (:DietType {name: \"Gluten-free\"}) | (:Ingredient {name: \"olive oil\"}) |\n",
      "+--------------------------------------------------------------------------------------------------------------------------------+\n",
      "\n",
      "5 rows\n",
      "ready to start consuming query after 59 ms, results consumed after another 6 ms\n"
     ]
    }
   ],
   "source": [
    "!{CONNECT} \"MATCH (p:Recipe)-[r:DIET_TYPE]->(m:DietType), (a: Author)-[aa]->(aaa: Recipe), (rr: Recipe)-[rrr]->(rrrr: Ingredient) WHERE m.name = 'Gluten-free' AND a.name = 'Good Food' AND rrrr.name = 'olive oil' return p.name as recipe, r, m, rrrr LIMIT 5\"\n"
   ]
  },
  {
   "cell_type": "markdown",
   "id": "f0857e90-a4ee-49eb-a079-e2fc03983ce0",
   "metadata": {},
   "source": [
    "# 8. 3 relational types. Finds recipes containing specific ingredients, belonging to a collection, and authored by a particular author. Returns recipe names, ingredient names, collection names, and author names. Find gluten-free recipes by the author Good Food and has butter. "
   ]
  },
  {
   "cell_type": "code",
   "execution_count": 13,
   "id": "44497caf-eb7c-4b17-99e9-627829f44b24",
   "metadata": {},
   "outputs": [
    {
     "name": "stdout",
     "output_type": "stream",
     "text": [
      "+-----------------------------------------------------------------------------------------------------------------------------+\n",
      "| recipe                                  | r            | m                                 | rrrr                           |\n",
      "+-----------------------------------------------------------------------------------------------------------------------------+\n",
      "| \"Baked glazed ham\"                      | [:DIET_TYPE] | (:DietType {name: \"Gluten-free\"}) | (:Ingredient {name: \"butter\"}) |\n",
      "| \"Honeydew melon, cucumber & lime juice\" | [:DIET_TYPE] | (:DietType {name: \"Gluten-free\"}) | (:Ingredient {name: \"butter\"}) |\n",
      "| \"Pumpkin purÃ©e \"                       | [:DIET_TYPE] | (:DietType {name: \"Gluten-free\"}) | (:Ingredient {name: \"butter\"}) |\n",
      "| \"Gooseberry & mint lemonade\"            | [:DIET_TYPE] | (:DietType {name: \"Gluten-free\"}) | (:Ingredient {name: \"butter\"}) |\n",
      "| \"Spiced pear chutney\"                   | [:DIET_TYPE] | (:DietType {name: \"Gluten-free\"}) | (:Ingredient {name: \"butter\"}) |\n",
      "+-----------------------------------------------------------------------------------------------------------------------------+\n",
      "\n",
      "5 rows\n",
      "ready to start consuming query after 29 ms, results consumed after another 2 ms\n"
     ]
    }
   ],
   "source": [
    "!{CONNECT} \"MATCH (p:Recipe)-[r:DIET_TYPE]->(m:DietType), (a: Author)-[aa]->(aaa: Recipe), (rr: Recipe)-[rrr]->(rrrr: Ingredient) WHERE m.name = 'Gluten-free' AND a.name = 'Good Food' AND rrrr.name = 'butter' return p.name as recipe, r, m, rrrr LIMIT 5\"\n"
   ]
  },
  {
   "cell_type": "code",
   "execution_count": 14,
   "id": "91954ccf-2405-467b-85ac-a7110936065c",
   "metadata": {},
   "outputs": [],
   "source": [
    "# worked in Neo4js\n",
    "#!{CONNECT} \"MATCH (a:Recipe)-[:CONTAINS_INGREDIENT]->(b:Ingredient {name: 'tomato'}), (a)-[:COLLECTION]->(c:Collection {name: '200-400 calorie'}), (a)<-[:WROTE]-(d:Author {name: 'Sara Buenfeld'}) RETURN a.name as recipe_names, b.name as contain_ingredient, c.name as collection, d.name as author\""
   ]
  },
  {
   "cell_type": "markdown",
   "id": "4953062e-b3ad-4522-adb8-c935f3d82dd3",
   "metadata": {},
   "source": [
    "# 9. Logical or, containing negation, asc order. Find recipes that are either gluten-free or have a prep time <= 600, where author is not Tony Tobin. Recipes are ordered by prep time. "
   ]
  },
  {
   "cell_type": "code",
   "execution_count": 15,
   "id": "176cc694-853d-4124-bad6-0b4a4ed5abb9",
   "metadata": {},
   "outputs": [
    {
     "name": "stdout",
     "output_type": "stream",
     "text": [
      "+------------------------------------------------------------------------------------------------------------------------------------------------------------------------------------------------------------------------------------------------------------------------------------------------------------+\n",
      "| author        | relation | aaa                                                                                                                                                                                                                                                                             |\n",
      "+------------------------------------------------------------------------------------------------------------------------------------------------------------------------------------------------------------------------------------------------------------------------------------------------------------+\n",
      "| \"Jane Hornby\" | [:WROTE] | (:Recipe {name: \"Honey-mustard chicken pasta\", preparationTime: 600, description: \"This tasty pasta dish is a great way of using up your leftover chicken\", id: \"97841\", skillLevel: \"Easy\", cookingTime: 600})                                                                 |\n",
      "| \"Jane Hornby\" | [:WROTE] | (:Recipe {name: \"Dark & squidgy chocolate torte\", preparationTime: 900, description: \"This dessert is dark and dense, but not so rich it defeats you. It freezes brilliantly too\", id: \"99286\", skillLevel: \"Easy\", cookingTime: 1800})                                         |\n",
      "| \"Jane Hornby\" | [:WROTE] | (:Recipe {name: \"Hazelnut latte cake\", preparationTime: 5400, description: \"Give coffee cake the ultimate upgrade - layer with chocolate hazelnut frosting, add a creamy topping and sprinkle with crushed nuts\", id: \"4926821\", skillLevel: \"A challenge\", cookingTime: 1500}) |\n",
      "| \"Jane Hornby\" | [:WROTE] | (:Recipe {name: \"Lime & chilli pitta crisps\", preparationTime: 0, description: \"Enjoy a low-fat snack with Lime & chilli pitta crisps\", id: \"98315\", skillLevel: \"Easy\", cookingTime: 0})                                                                                       |\n",
      "| \"Jane Hornby\" | [:WROTE] | (:Recipe {name: \"Pasta with mozzarella, mint & fresh tomato sauce\", preparationTime: 1200, description: \"A fresh but filling dish full of light summer flavours\", id: \"95256\", skillLevel: \"Easy\", cookingTime: 600})                                                           |\n",
      "+------------------------------------------------------------------------------------------------------------------------------------------------------------------------------------------------------------------------------------------------------------------------------------------------------------+\n",
      "\n",
      "5 rows\n",
      "ready to start consuming query after 108 ms, results consumed after another 52 ms\n"
     ]
    }
   ],
   "source": [
    "#OFFICial: Logical or, containing negation, asc order\n",
    "!{CONNECT} \"MATCH (p:Recipe)-[r:DIET_TYPE]->(m:DietType) WHERE (m.name = 'Gluten-free' OR p.preparationTime <= 600) WITH collect(m.name) as recipe MATCH (a: Author)-[aa]->(aaa: Recipe) WHERE NOT a.name = 'Tony Tobin' RETURN DISTINCT a.name as author, aa as relation, aaa ORDER BY aaa.preprationTime DESC LIMIT 5\"\n"
   ]
  },
  {
   "cell_type": "markdown",
   "id": "8bd6ce52-2612-4aef-9033-cdfa807e37ac",
   "metadata": {},
   "source": [
    "# 10. Find recipes where 1000 > cooking time is > 1 and prep time is <= 600, skill level is easy and orderby ascending order for prep time."
   ]
  },
  {
   "cell_type": "code",
   "execution_count": 16,
   "id": "93258b50-bd71-461e-803c-1fcbc9b67f8a",
   "metadata": {},
   "outputs": [
    {
     "name": "stdout",
     "output_type": "stream",
     "text": [
      "+---------------------------------------------------------------------------------+\n",
      "| recipe                                                  | prep_time | cook_Time |\n",
      "+---------------------------------------------------------------------------------+\n",
      "| \"Passion fruit curd\"                                    | 0         | 900       |\n",
      "| \"Glam trifle slice\"                                     | 0         | 600       |\n",
      "| \"Caramel sauce\"                                         | 120       | 600       |\n",
      "| \"Spiced pecans & peach fizz\"                            | 120       | 300       |\n",
      "| \"Salted almond brittle\"                                 | 120       | 600       |\n",
      "| \"Strawberry & sweet wine savarin\"                       | 120       | 900       |\n",
      "| \"Purple sprouting broccoli, poached eggs & hollandaise\" | 300       | 600       |\n",
      "| \"Rich nutmeg ice cream\"                                 | 300       | 600       |\n",
      "| \"Milk chocolate sorbet\"                                 | 300       | 900       |\n",
      "| \"Passion fruit & coconut panna cotta\"                   | 300       | 600       |\n",
      "+---------------------------------------------------------------------------------+\n",
      "\n",
      "10 rows\n",
      "ready to start consuming query after 38 ms, results consumed after another 21 ms\n"
     ]
    }
   ],
   "source": [
    "#OFFICIAL for logical and, not, ascending order \n",
    "!{CONNECT} \"MATCH (r), (r), (r), (r) WHERE (1 < r.cookingTime < 1000) AND r.preparationTime <= 600 AND (NOT r.skillLevel = 'Easy' AND r.skillLevel = 'More effort') RETURN r.name as recipe, r.preparationTime as prep_time, r.cookingTime as cook_Time ORDER BY r.preparationTime ASC LIMIT 10 \""
   ]
  },
  {
   "cell_type": "code",
   "execution_count": 17,
   "id": "e62c895e-549d-4794-aee3-675ddf2083ea",
   "metadata": {},
   "outputs": [],
   "source": [
    "# 10. Logical and, containing negation, desc order. Filters recipes based on conditions, excluding allergenic ingredients while ensuring the presence of \"prawn\" and \"potato.\" Returns recipe names and their ingredient names, ordered by recipe names in descending order.\n",
    "\n",
    "#!{CONNECT} \"MATCH (r:Recipe) WHERE ALL(allergies IN ['milk', 'butter', 'cream', 'soft cheese'] WHERE NOT (r)-[:CONTAINS_INGREDIENT]->(:Ingredient {name: allergies})) AND ALL(ingredientName IN ['prawn', 'potato'] WHERE (r)-[:CONTAINS_INGREDIENT]->(:Ingredient {name:ingredientName})) RETURN r.name AS recipe, [(r)-[:CONTAINS_INGREDIENT]->(i) | i.name] AS ingredients ORDER BY r.name DESC\"\n"
   ]
  },
  {
   "cell_type": "markdown",
   "id": "047180f6-c6f6-4d3e-bb76-9bc4d74c14d6",
   "metadata": {},
   "source": [
    "# EXTRA CREDIT (sorry some are numbered wrong) "
   ]
  },
  {
   "cell_type": "markdown",
   "id": "d90d8759-2f25-4ea8-aba3-ca786c823048",
   "metadata": {},
   "source": [
    "# 1. Create a new node for each existing node label with at least one property"
   ]
  },
  {
   "cell_type": "code",
   "execution_count": 20,
   "id": "1dd821b9-67db-4d7c-9961-e2d6e6df6709",
   "metadata": {},
   "outputs": [
    {
     "name": "stdout",
     "output_type": "stream",
     "text": [
      "0 rows\n",
      "ready to start consuming query after 11 ms, results consumed after another 0 ms\n",
      "Added 1 nodes, Set 1 properties, Added 1 labels\n"
     ]
    }
   ],
   "source": [
    "%%neo \n",
    "CREATE (:Author {name: 'Mom'})"
   ]
  },
  {
   "cell_type": "code",
   "execution_count": 35,
   "id": "cccf1f38-b434-458e-ae07-a282fdaf53e2",
   "metadata": {},
   "outputs": [
    {
     "name": "stdout",
     "output_type": "stream",
     "text": [
      "0 rows\n",
      "ready to start consuming query after 31 ms, results consumed after another 0 ms\n",
      "Added 1 nodes, Set 1 properties, Added 1 labels\n"
     ]
    }
   ],
   "source": [
    "%%neo \n",
    "CREATE (:Recipe {name: 'Home-cooked foods'})"
   ]
  },
  {
   "cell_type": "markdown",
   "id": "9099bd37-3224-417d-89a8-b041fb1a4093",
   "metadata": {},
   "source": [
    "# 2. Create a relationship for each existing relationship type with at least one property"
   ]
  },
  {
   "cell_type": "code",
   "execution_count": 31,
   "id": "d9ee957e-1216-4d18-a725-73aadc4a9cd1",
   "metadata": {},
   "outputs": [
    {
     "name": "stdout",
     "output_type": "stream",
     "text": [
      "0 rows\n",
      "ready to start consuming query after 70 ms, results consumed after another 0 ms\n"
     ]
    }
   ],
   "source": [
    "%%neo \n",
    "MATCH (a: Author {name: 'Mom'})\n",
    "MATCH (r: Recipe {name: 'Home-cooked foods'})\n",
    "CREATE (a)-[:WROTE]->(r); \n"
   ]
  },
  {
   "cell_type": "code",
   "execution_count": 43,
   "id": "ba7f857f-6399-4bc4-907f-959da8487c41",
   "metadata": {},
   "outputs": [
    {
     "name": "stdout",
     "output_type": "stream",
     "text": [
      "\u001b[31mDriver execution failed\u001b[m\n"
     ]
    }
   ],
   "source": [
    "%%neo \n",
    "MATCH (a: Author)-[g]->(r), (a: Author)-[g]->(r)\n",
    "WHERE a.name = 'Mom' AND r.name = 'Home-cooked foods'\n",
    "RETURN a, r;"
   ]
  },
  {
   "cell_type": "markdown",
   "id": "37eaaa13-2f30-4012-897e-d6e3cbb976e0",
   "metadata": {},
   "source": [
    "# 3. Update the properties of one or more nodes"
   ]
  },
  {
   "cell_type": "code",
   "execution_count": null,
   "id": "44f55ff8-1a06-4128-bb5b-9c2e9d00c9ab",
   "metadata": {},
   "outputs": [],
   "source": [
    "%%neo \n",
    "MATCH (a: Author {name: \"Mom\"})\n",
    "SET a.chef_status = True, \n",
    "    a.cool_chef_on_block = True\n",
    "RETURN a.name, a.chef_status, a.cool_chef_on_block; "
   ]
  },
  {
   "cell_type": "markdown",
   "id": "4cdb17fd-7200-443c-85b3-5a459c4d26d2",
   "metadata": {},
   "source": [
    "# 5. Update the properties of one or more relationships"
   ]
  },
  {
   "cell_type": "markdown",
   "id": "c45db56b-d03c-49da-b9a5-faf4e8a988d6",
   "metadata": {},
   "source": [
    "# 6. Add a new node label to an existing node"
   ]
  },
  {
   "cell_type": "code",
   "execution_count": 42,
   "id": "69c12299-43cc-442f-9fe5-e850a859d374",
   "metadata": {},
   "outputs": [
    {
     "name": "stdout",
     "output_type": "stream",
     "text": [
      "\u001b[31mDriver execution failed\u001b[m\n"
     ]
    }
   ],
   "source": [
    "%%neo\n",
    "MATCH (n {name: 'Grandpa'})\n",
    "SET n: \"Best Grandpa Cook\"\n",
    "RETURN n.name, labels(n) as labels; "
   ]
  },
  {
   "cell_type": "markdown",
   "id": "be357984-ad93-4734-8c64-6080b2621423",
   "metadata": {},
   "source": [
    "# 7. Update the relationship type of at least one relationship"
   ]
  },
  {
   "cell_type": "code",
   "execution_count": null,
   "id": "cc094bcb-87b3-4288-b64b-bf6c903d6935",
   "metadata": {},
   "outputs": [],
   "source": [
    "%%neo\n",
    "\n"
   ]
  },
  {
   "cell_type": "code",
   "execution_count": 41,
   "id": "46284728-a744-468f-b0e3-4555673f3bda",
   "metadata": {},
   "outputs": [
    {
     "name": "stdout",
     "output_type": "stream",
     "text": [
      "\u001b[31mDriver execution failed\u001b[m\n"
     ]
    }
   ],
   "source": [
    "%%neo \n",
    "MATCH (a: Author)-[w: WROTE]->(p: recipe) \n",
    "MERGE (a)-[wr: WROTE_REMIX]-> (r)\n",
    "DELETE w;"
   ]
  },
  {
   "cell_type": "markdown",
   "id": "5ba5c25b-9406-4985-b42f-b04e0bc2026f",
   "metadata": {},
   "source": [
    "# 9. Delete at least one relationship based on some criteria"
   ]
  },
  {
   "cell_type": "code",
   "execution_count": 38,
   "id": "9860398a-87cb-4c67-a9dc-51b841ec23dd",
   "metadata": {},
   "outputs": [
    {
     "name": "stdout",
     "output_type": "stream",
     "text": [
      "\u001b[31mDriver execution failed\u001b[m\n"
     ]
    }
   ],
   "source": [
    "%%neo \n",
    "MATCH (p:Person)-[r: COLLECTIONS]->() \n",
    "DELETE r; "
   ]
  },
  {
   "cell_type": "markdown",
   "id": "1cefefeb-efe2-41ab-8e30-ed12a90577a0",
   "metadata": {},
   "source": [
    "# 10. Delete at least one node based on some criteria"
   ]
  },
  {
   "cell_type": "code",
   "execution_count": 39,
   "id": "ce9169d4-dfdc-4ac8-bf2d-0b51ff7930ef",
   "metadata": {},
   "outputs": [
    {
     "name": "stdout",
     "output_type": "stream",
     "text": [
      "\u001b[31mDriver execution failed\u001b[m\n"
     ]
    }
   ],
   "source": [
    "%%neo \n",
    "MATCH (c: Collections)\n",
    "DELETE c;"
   ]
  }
 ],
 "metadata": {
  "environment": {
   "kernel": "python3",
   "name": "common-cpu.m111",
   "type": "gcloud",
   "uri": "gcr.io/deeplearning-platform-release/base-cpu:m111"
  },
  "kernelspec": {
   "display_name": "Python 3",
   "language": "python",
   "name": "python3"
  },
  "language_info": {
   "codemirror_mode": {
    "name": "ipython",
    "version": 3
   },
   "file_extension": ".py",
   "mimetype": "text/x-python",
   "name": "python",
   "nbconvert_exporter": "python",
   "pygments_lexer": "ipython3",
   "version": "3.10.12"
  }
 },
 "nbformat": 4,
 "nbformat_minor": 5
}
