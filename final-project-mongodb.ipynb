{
 "cells": [
  {
   "cell_type": "code",
   "execution_count": 1,
   "id": "12186677-ccac-4d83-ac99-e3401c9982a0",
   "metadata": {},
   "outputs": [],
   "source": [
    "HOST = \"10.128.0.6\"\n",
    "PORT = \"27017\"\n",
    "DB = \"final_project\""
   ]
  },
  {
   "cell_type": "code",
   "execution_count": 2,
   "id": "0bf85d83-f10c-468a-9377-25203cbd7c42",
   "metadata": {},
   "outputs": [],
   "source": [
    "from pymongo import MongoClient\n",
    "\n",
    "def connect():\n",
    "    url = \"mongodb://{}:{}\".format(HOST, PORT)\n",
    "    connection = MongoClient(url)\n",
    "    print(connection)\n",
    "    return connection[DB]"
   ]
  },
  {
   "cell_type": "markdown",
   "id": "05461691-36a8-4036-bca0-6d724d7ba7c4",
   "metadata": {},
   "source": [
    "## 1. Test connection"
   ]
  },
  {
   "cell_type": "code",
   "execution_count": 3,
   "id": "0deba790-406a-42db-a123-5d9519c98e26",
   "metadata": {},
   "outputs": [
    {
     "name": "stdout",
     "output_type": "stream",
     "text": [
      "MongoClient(host=['10.128.0.6:27017'], document_class=dict, tz_aware=False, connect=True)\n",
      "Database(MongoClient(host=['10.128.0.6:27017'], document_class=dict, tz_aware=False, connect=True), 'final_project')\n"
     ]
    }
   ],
   "source": [
    "connection = connect()\n",
    "\n",
    "print(connection)"
   ]
  },
  {
   "cell_type": "markdown",
   "id": "fb50d531-ab32-4321-a7e8-e0944e375ff8",
   "metadata": {},
   "source": [
    "## 2. Write records into the collection"
   ]
  },
  {
   "cell_type": "code",
   "execution_count": 4,
   "id": "d55ee14a-3969-45f7-846e-9faf9e733ac1",
   "metadata": {},
   "outputs": [
    {
     "name": "stdout",
     "output_type": "stream",
     "text": [
      "MongoClient(host=['10.128.0.6:27017'], document_class=dict, tz_aware=False, connect=True)\n",
      "Wrote 3 documents into collection\n"
     ]
    }
   ],
   "source": [
    "# This is from the sample code to test the connection\n",
    "\n",
    "from pymongo import MongoClient\n",
    "\n",
    "rec1 = {\n",
    "  \"first_name\" : \"James\",\n",
    "  \"last_name\" : \"Butt Benton\",\n",
    "  \"company\" : \"John B Jr\",\n",
    "  \"address\" : \"6649 N Blue Gum St\", \n",
    "  \"city\" : \"New Orleans\", \n",
    "  \"county\" : \"Orleans\", \n",
    "  \"state\" : \"LA\", \n",
    "  \"zip\" : \"70116\",\n",
    "  \"phone_1\" : \"504-621-8927\",\n",
    "  \"phone_2\" : \"504-845-1427\",\n",
    "  \"email\" : \"jbutt@gmail.com\", \n",
    "  \"web\" : \"http://www.bentonjohnbjr.com\" \n",
    "}\n",
    "\n",
    "rec2 = {\n",
    "  \"first_name\" : \"Josephine\",\n",
    "  \"last_name\" : \"Darakjy Chanay\",\n",
    "  \"company\" : \"Jeffrey A Esq\",\n",
    "  \"address\" : \"4 B Blue Ridge Blvd\", \n",
    "  \"city\" : \"Brighton\", \n",
    "  \"county\" : \"Livingston\", \n",
    "  \"state\" : \"MI\", \n",
    "  \"zip\" : \"48116\",\n",
    "  \"phone_1\" : \"810-292-9388\",\n",
    "  \"phone_2\" : \"810-374-9840\",\n",
    "  \"email\" : \"josephine_darakjy@darakjy.org\", \n",
    "  \"web\" : \"http://www.chanayjeffreyaesq.com\" \n",
    "}\n",
    "\n",
    "rec3 = {\n",
    "  \"first_name\" : \"Art\",\n",
    "  \"last_name\" : \"Venere\",\n",
    "  \"company\" : \"Chemel, James L Cpa\",\n",
    "  \"address\" : \"8 W Cerritos Ave #54\", \n",
    "  \"city\" : \"Bridgeport\", \n",
    "  \"county\" : \"Gloucester\", \n",
    "  \"state\" : \"NJ\", \n",
    "  \"zip\" : \"08014\",\n",
    "  \"phone_1\" : \"856-636-8749\",\n",
    "  \"phone_2\" : \"856-264-4130\",\n",
    "  \"email\" : \"art@venere.org\", \n",
    "  \"web\" : \"http://www.chemeljameslcpa.com\" \n",
    "}\n",
    "\n",
    "try:\n",
    "    connection = connect()\n",
    "    collection = connection[\"person\"]\n",
    "    collection.insert_many([rec1, rec2, rec3])\n",
    "    print(\"Wrote 3 documents into collection\")\n",
    "except Exception as e:\n",
    "    print(\"Error occurred while writing documents:\", e)"
   ]
  },
  {
   "cell_type": "markdown",
   "id": "1a36406b-125d-4d87-81e7-4053d2e06da9",
   "metadata": {},
   "source": [
    "## Part 3. MongoDB"
   ]
  },
  {
   "cell_type": "code",
   "execution_count": 5,
   "id": "5daadc0e-e080-4b8c-a22a-603b5df8ecc8",
   "metadata": {},
   "outputs": [
    {
     "name": "stdout",
     "output_type": "stream",
     "text": [
      "Requirement already satisfied: faker_airtravel in /opt/conda/lib/python3.10/site-packages (0.4)\n",
      "Requirement already satisfied: faker in /opt/conda/lib/python3.10/site-packages (20.1.0)\n",
      "Requirement already satisfied: python-dateutil>=2.4 in /opt/conda/lib/python3.10/site-packages (from faker) (2.8.2)\n",
      "Requirement already satisfied: six>=1.5 in /opt/conda/lib/python3.10/site-packages (from python-dateutil>=2.4->faker) (1.16.0)\n"
     ]
    }
   ],
   "source": [
    "!pip install faker_airtravel\n",
    "!pip install faker"
   ]
  },
  {
   "cell_type": "markdown",
   "id": "80961ad0-6296-4a75-8a20-c75f8a30a03c",
   "metadata": {},
   "source": [
    "### Checking the fake.Flight() dict of keys and values"
   ]
  },
  {
   "cell_type": "code",
   "execution_count": 6,
   "id": "e6b16404-7451-4967-84c7-37b894f9c3fc",
   "metadata": {},
   "outputs": [
    {
     "name": "stdout",
     "output_type": "stream",
     "text": [
      "{'airline': 'China Eastern Airlines', 'origin': {'airport': 'Belize city Municipal airport', 'iata': 'TZA', 'icao': '', 'city': 'Hattieville', 'state': 'Belize', 'country': 'Belize'}, 'destination': {'airport': 'Winnipeg International airport', 'iata': 'YWG', 'icao': 'CYWG', 'city': 'Winnipeg', 'state': 'Manitoba', 'country': 'Canada'}, 'stops': 'non-stop', 'price': 396}\n"
     ]
    }
   ],
   "source": [
    "from faker import Faker\n",
    "from faker_airtravel import AirTravelProvider\n",
    "\n",
    "# Create Faker object and add the AirTravelProvider\n",
    "fake = Faker()\n",
    "fake.add_provider(AirTravelProvider)\n",
    "\n",
    "# Use the fake object to generate flight information\n",
    "flight_info = fake.flight()\n",
    "\n",
    "print(flight_info)"
   ]
  },
  {
   "cell_type": "markdown",
   "id": "cccb5b7f-c10c-4f5d-b64a-afbd43b09872",
   "metadata": {},
   "source": [
    "### Populate the ticketing collection with 100 unique records"
   ]
  },
  {
   "cell_type": "code",
   "execution_count": 7,
   "id": "bb671475-f315-4ab1-b623-0aa20781b73e",
   "metadata": {},
   "outputs": [
    {
     "name": "stdout",
     "output_type": "stream",
     "text": [
      "MongoClient(host=['10.128.0.6:27017'], document_class=dict, tz_aware=False, connect=True)\n",
      "100 documents written into ticketing collection\n"
     ]
    }
   ],
   "source": [
    "# Import libraries and packages\n",
    "from pymongo import MongoClient\n",
    "from faker import Faker\n",
    "from faker_airtravel import AirTravelProvider\n",
    "from datetime import datetime, timedelta\n",
    "import random\n",
    "\n",
    "# Create a Faker instance and add the AirTravelProvider for air travel-related dat\n",
    "fake = Faker()\n",
    "fake.add_provider(AirTravelProvider)\n",
    "Faker.seed(30)  # Setting seed for consistent data generation\n",
    "\n",
    "# Function to generate random date within a range\n",
    "def random_date(start_date, end_date):\n",
    "    return fake.date_time_between(start_date=start_date, end_date=end_date)\n",
    "\n",
    "# Function to generate random time within a range\n",
    "def random_time():\n",
    "    return timedelta(hours=random.randint(0, 23), minutes=random.randint(0, 59), seconds=random.randint(0, 59))\n",
    "\n",
    "# Function to generate data for MongoDB ticketing collection\n",
    "def generate_ticketing_data():\n",
    "    ticketing_data = []\n",
    "    for _ in range(100):\n",
    "        dep_date = random_date('-30d', '+30d').date()\n",
    "        arr_date = random_date('-30d', '+30d').date()\n",
    "        \n",
    "        # Set the time part of the date fields to '00:00:00'\n",
    "        dep_datetime = datetime.combine(dep_date, datetime.min.time())\n",
    "        arr_datetime = datetime.combine(arr_date, datetime.min.time())\n",
    "        \n",
    "        # Generate flight information using fake.flight()\n",
    "        flight_info = fake.flight()\n",
    "        \n",
    "        record = {\n",
    "            'tck_id': str(fake.uuid4()),\n",
    "            'cust_id': str(fake.uuid4()),\n",
    "            'airline': flight_info['airline'],\n",
    "            'flight_nm': fake.random_int(1000, 9999),\n",
    "            'dep_airport': flight_info['origin']['airport'],\n",
    "            'arr_airport': flight_info['destination']['airport'],\n",
    "            'dep_date': dep_datetime,\n",
    "            'dep_time': dep_datetime + random_time(),\n",
    "            'arr_date': arr_datetime,\n",
    "            'arr_time': arr_datetime + random_time(),\n",
    "            'stops': flight_info['stops'],\n",
    "            'tik_amt': round(flight_info['price'], 2),\n",
    "            'curr_code': fake.currency_code()\n",
    "        }\n",
    "        ticketing_data.append(record)\n",
    "    return ticketing_data\n",
    "\n",
    "# Use generate_ticketing_data() function to populate your MongoDB collection\n",
    "ticketing_collection = generate_ticketing_data()\n",
    "\n",
    "# Insert the generated data into MongoDB collection named 'ticketing'\n",
    "try:\n",
    "    connection = connect()\n",
    "    collection = connection[\"ticketing\"]\n",
    "    collection.insert_many(ticketing_collection)\n",
    "    print(\"100 documents written into ticketing collection\") # Success message if insertion is successful\n",
    "except Exception as e:\n",
    "    print(\"Error occurred while writing documents:\", e) # Error message"
   ]
  }
 ],
 "metadata": {
  "environment": {
   "kernel": "python3",
   "name": "common-cpu.m111",
   "type": "gcloud",
   "uri": "gcr.io/deeplearning-platform-release/base-cpu:m111"
  },
  "kernelspec": {
   "display_name": "Python 3",
   "language": "python",
   "name": "python3"
  },
  "language_info": {
   "codemirror_mode": {
    "name": "ipython",
    "version": 3
   },
   "file_extension": ".py",
   "mimetype": "text/x-python",
   "name": "python",
   "nbconvert_exporter": "python",
   "pygments_lexer": "ipython3",
   "version": "3.10.12"
  }
 },
 "nbformat": 4,
 "nbformat_minor": 5
}
