{
 "cells": [
  {
   "cell_type": "markdown",
   "id": "3a88c30d",
   "metadata": {},
   "source": [
    "### Lab 2\n",
    "\n",
    "#### Group Number:\n",
    "#### Section:\n",
    "\n",
    "#### Name:\n",
    "#### UT EID:\n",
    "\n",
    "#### Name:\n",
    "#### UT EID:\n",
    "\n",
    "#### Date:\n"
   ]
  },
  {
   "cell_type": "code",
   "execution_count": 1,
   "id": "f3161cfe",
   "metadata": {},
   "outputs": [],
   "source": [
    "# import all the necessary packages\n",
    "import numpy as np\n",
    "import pandas as pd\n",
    "import matplotlib.pyplot as plt"
   ]
  },
  {
   "cell_type": "markdown",
   "id": "50589eb2",
   "metadata": {},
   "source": [
    "##### Now load the data file _titanic.csv_ into a Pandas object"
   ]
  },
  {
   "cell_type": "code",
   "execution_count": 2,
   "id": "b45a895c",
   "metadata": {},
   "outputs": [],
   "source": [
    "#df = pd.read_csv ('titanic.csv')"
   ]
  },
  {
   "cell_type": "markdown",
   "id": "66957ae2",
   "metadata": {},
   "source": [
    "##### Show the first 10 lines from the data file"
   ]
  },
  {
   "cell_type": "code",
   "execution_count": null,
   "id": "1b85432b",
   "metadata": {},
   "outputs": [],
   "source": []
  },
  {
   "cell_type": "markdown",
   "id": "aca4a970",
   "metadata": {},
   "source": [
    "##### Show the last 10 lines from the data file"
   ]
  },
  {
   "cell_type": "code",
   "execution_count": null,
   "id": "516a68fc",
   "metadata": {},
   "outputs": [],
   "source": []
  },
  {
   "cell_type": "markdown",
   "id": "90185ebd",
   "metadata": {},
   "source": [
    "##### Type the column names and their types"
   ]
  },
  {
   "cell_type": "code",
   "execution_count": null,
   "id": "c3882eeb",
   "metadata": {},
   "outputs": [],
   "source": []
  },
  {
   "cell_type": "markdown",
   "id": "267cd479",
   "metadata": {},
   "source": [
    "##### Find the number of passengers listed on the Titanic"
   ]
  },
  {
   "cell_type": "code",
   "execution_count": null,
   "id": "41ffaed4",
   "metadata": {},
   "outputs": [],
   "source": []
  },
  {
   "cell_type": "markdown",
   "id": "2a1b86a4",
   "metadata": {},
   "source": [
    "##### Give the details of passenger number 523"
   ]
  },
  {
   "cell_type": "code",
   "execution_count": null,
   "id": "c0b0273e",
   "metadata": {},
   "outputs": [],
   "source": []
  },
  {
   "cell_type": "markdown",
   "id": "8834be68",
   "metadata": {},
   "source": [
    "##### How many female survivors were there?"
   ]
  },
  {
   "cell_type": "code",
   "execution_count": null,
   "id": "dbe0ebdd",
   "metadata": {},
   "outputs": [],
   "source": []
  },
  {
   "cell_type": "markdown",
   "id": "a1e6c076",
   "metadata": {},
   "source": [
    "##### How many male survivors were there?"
   ]
  },
  {
   "cell_type": "code",
   "execution_count": null,
   "id": "03f0b556",
   "metadata": {},
   "outputs": [],
   "source": []
  },
  {
   "cell_type": "markdown",
   "id": "a00e9e3b",
   "metadata": {},
   "source": [
    "##### What was the mean age of women that survived?"
   ]
  },
  {
   "cell_type": "code",
   "execution_count": null,
   "id": "35f9fc6f",
   "metadata": {},
   "outputs": [],
   "source": []
  },
  {
   "cell_type": "markdown",
   "id": "ef319935",
   "metadata": {},
   "source": [
    "##### What was the average fare in the first class?"
   ]
  },
  {
   "cell_type": "code",
   "execution_count": null,
   "id": "a9a9fd81",
   "metadata": {},
   "outputs": [],
   "source": []
  },
  {
   "cell_type": "markdown",
   "id": "054faf92",
   "metadata": {},
   "source": [
    "##### Give a histogram of the distribution of ages of all passengers on the Titanic"
   ]
  },
  {
   "cell_type": "code",
   "execution_count": null,
   "id": "932d5034",
   "metadata": {},
   "outputs": [],
   "source": []
  },
  {
   "cell_type": "markdown",
   "id": "1657d45a",
   "metadata": {},
   "source": [
    "##### How many passengers do not have an age listed?"
   ]
  },
  {
   "cell_type": "code",
   "execution_count": null,
   "id": "81076a97",
   "metadata": {},
   "outputs": [],
   "source": []
  },
  {
   "cell_type": "markdown",
   "id": "2941fb0f",
   "metadata": {},
   "source": [
    "##### Give a histogram of the distribution of fares of all passengers on the Titanic"
   ]
  },
  {
   "cell_type": "code",
   "execution_count": null,
   "id": "8dd1d66d",
   "metadata": {},
   "outputs": [],
   "source": []
  },
  {
   "cell_type": "markdown",
   "id": "e9d42790",
   "metadata": {},
   "source": [
    "##### There were three passenger classes - 1, 2, and 3. Draw a histogram showing the survival numbers (by gender) in the three passenger classes"
   ]
  },
  {
   "cell_type": "code",
   "execution_count": null,
   "id": "6c9bbbfc",
   "metadata": {},
   "outputs": [],
   "source": []
  }
 ],
 "metadata": {
  "kernelspec": {
   "display_name": "Python 3 (ipykernel)",
   "language": "python",
   "name": "python3"
  },
  "language_info": {
   "codemirror_mode": {
    "name": "ipython",
    "version": 3
   },
   "file_extension": ".py",
   "mimetype": "text/x-python",
   "name": "python",
   "nbconvert_exporter": "python",
   "pygments_lexer": "ipython3",
   "version": "3.10.4"
  }
 },
 "nbformat": 4,
 "nbformat_minor": 5
}
